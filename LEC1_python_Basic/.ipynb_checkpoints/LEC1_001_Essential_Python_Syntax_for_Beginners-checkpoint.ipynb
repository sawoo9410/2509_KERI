{
 "cells": [
  {
   "cell_type": "markdown",
   "id": "a156f464-5dd3-4e33-8fbe-73c7ad2ec1d9",
   "metadata": {},
   "source": [
    "### Created on 2025\n",
    "### @author: S.W"
   ]
  },
  {
   "cell_type": "markdown",
   "id": "4142c8a7-1385-4883-b30b-afd4e710b728",
   "metadata": {},
   "source": [
    "### **Python 주요 기본 자료형**"
   ]
  },
  {
   "cell_type": "markdown",
   "id": "0612268f-6ca9-4071-9550-9296fe37e7e2",
   "metadata": {},
   "source": [
    "#### int (정수형)"
   ]
  },
  {
   "cell_type": "code",
   "execution_count": 1,
   "id": "d511b6bb-2ecf-4163-bde5-0c7fac1dd2c0",
   "metadata": {},
   "outputs": [
    {
     "name": "stdout",
     "output_type": "stream",
     "text": [
      "5\n"
     ]
    }
   ],
   "source": [
    "x = 10\n",
    "y = -5\n",
    "z = x + y  # 결과: 5\n",
    "print(z)"
   ]
  },
  {
   "cell_type": "markdown",
   "id": "3f0d5000-8a85-409f-a884-8d3c8443249a",
   "metadata": {},
   "source": [
    "#### float (실수형)"
   ]
  },
  {
   "cell_type": "code",
   "execution_count": 2,
   "id": "90596af8-9cea-4aa0-ae30-ade9683f3242",
   "metadata": {},
   "outputs": [
    {
     "name": "stdout",
     "output_type": "stream",
     "text": [
      "6.28\n"
     ]
    }
   ],
   "source": [
    "pi = 3.14\n",
    "temperature = -0.5\n",
    "result = pi * 2\n",
    "print(result)  # 결과: 6.28"
   ]
  },
  {
   "cell_type": "markdown",
   "id": "6febd399-5b43-43c9-8d93-77c165fa8bd6",
   "metadata": {},
   "source": [
    "#### bool (논리형)"
   ]
  },
  {
   "cell_type": "code",
   "execution_count": 3,
   "id": "5f41fb99-1bf8-47d0-8e8f-897df5ffe634",
   "metadata": {},
   "outputs": [
    {
     "name": "stdout",
     "output_type": "stream",
     "text": [
      "True\n"
     ]
    }
   ],
   "source": [
    "is_active = True\n",
    "is_closed = False\n",
    "\n",
    "print(is_active and not is_closed)  # 결과: True"
   ]
  },
  {
   "cell_type": "markdown",
   "id": "503d62e6-4a1e-420a-bde1-a7bb997c4a29",
   "metadata": {},
   "source": [
    "#### str (문자열)"
   ]
  },
  {
   "cell_type": "code",
   "execution_count": 4,
   "id": "2d49f36c-7e46-4dcd-8542-9874b77f8403",
   "metadata": {},
   "outputs": [
    {
     "name": "stdout",
     "output_type": "stream",
     "text": [
      "Hello, Alice\n"
     ]
    }
   ],
   "source": [
    "name = \"Alice\"\n",
    "greeting = 'Hello, ' + name\n",
    "print(greeting)  # 결과: Hello, Alice"
   ]
  },
  {
   "cell_type": "markdown",
   "id": "8329b129-a6ef-4e5a-8e2a-a3ff858dfc1c",
   "metadata": {},
   "source": [
    "#### complex (복소수형)"
   ]
  },
  {
   "cell_type": "code",
   "execution_count": 5,
   "id": "03e0d543-5382-4531-8fe9-78bca047c2ea",
   "metadata": {},
   "outputs": [
    {
     "name": "stdout",
     "output_type": "stream",
     "text": [
      "3.0\n",
      "4.0\n"
     ]
    }
   ],
   "source": [
    "c = 3 + 4j\n",
    "print(c.real)  # 3.0, 실수부\n",
    "print(c.imag)  # 4.0, 허수부"
   ]
  },
  {
   "cell_type": "markdown",
   "id": "c98fb1f0-a303-4aea-b79f-36826d9684a8",
   "metadata": {},
   "source": [
    "#### range (범위형)"
   ]
  },
  {
   "cell_type": "code",
   "execution_count": 6,
   "id": "decab2cf-d9aa-47d0-bc59-33c9e21bcfdc",
   "metadata": {},
   "outputs": [
    {
     "name": "stdout",
     "output_type": "stream",
     "text": [
      "0\n",
      "1\n",
      "2\n",
      "3\n",
      "4\n"
     ]
    }
   ],
   "source": [
    "for i in range(5):\n",
    "    print(i)"
   ]
  },
  {
   "cell_type": "markdown",
   "id": "e8ed30df-1beb-4f5c-ae22-951b4cfda160",
   "metadata": {},
   "source": [
    "### **형 변환**"
   ]
  },
  {
   "cell_type": "code",
   "execution_count": 7,
   "id": "e738f4ad-f40a-4c93-99e9-3caa42731a62",
   "metadata": {},
   "outputs": [
    {
     "name": "stdout",
     "output_type": "stream",
     "text": [
      "10 <class 'int'>\n",
      "10.0 <class 'float'>\n",
      "10.0 <class 'str'>\n"
     ]
    }
   ],
   "source": [
    "num_str = \"10\"\n",
    "num_int = int(num_str)\n",
    "num_float = float(num_int)\n",
    "num_str2 = str(num_float)\n",
    "\n",
    "print(num_int, type(num_int))      # 10 <class 'int'>\n",
    "print(num_float, type(num_float))  # 10.0 <class 'float'>\n",
    "print(num_str2, type(num_str2))    # '10.0' <class 'str'>"
   ]
  },
  {
   "cell_type": "markdown",
   "id": "421e4790-854d-4966-a9d6-3a8dcad17944",
   "metadata": {},
   "source": [
    "### **출력 방법: print(), format(), f-string**"
   ]
  },
  {
   "cell_type": "markdown",
   "id": "d4ac84d0-99c9-4a89-9ed8-8b4b1aa2ddbe",
   "metadata": {},
   "source": [
    "#### print() 함수 기본 사용법"
   ]
  },
  {
   "cell_type": "code",
   "execution_count": 8,
   "id": "92a94de3-c05c-4455-8f89-ff1774c6a169",
   "metadata": {},
   "outputs": [
    {
     "name": "stdout",
     "output_type": "stream",
     "text": [
      "Alice is 25 years old.\n"
     ]
    }
   ],
   "source": [
    "name = \"Alice\"\n",
    "age = 25\n",
    "print(name, \"is\", age, \"years old.\")  # Alice is 25 years old."
   ]
  },
  {
   "cell_type": "markdown",
   "id": "8bdfbbbe-c76f-4c3b-8556-dc15268b6c33",
   "metadata": {},
   "source": [
    "#### format() 메서드 사용법"
   ]
  },
  {
   "cell_type": "code",
   "execution_count": 9,
   "id": "b15a57f3-22b2-43ce-94ce-8a0fd80b1ed9",
   "metadata": {},
   "outputs": [
    {
     "name": "stdout",
     "output_type": "stream",
     "text": [
      "My name is Alice and I'm 25 years old.\n",
      "Name: Alice, Age: 25\n",
      "Name: Alice, Age: 25\n"
     ]
    }
   ],
   "source": [
    "# 기본 사용\n",
    "print(\"My name is {} and I'm {} years old.\".format(name, age))\n",
    "\n",
    "# 인덱스 사용\n",
    "print(\"Name: {0}, Age: {1}\".format(name, age))\n",
    "\n",
    "# 키워드 인수 사용\n",
    "print(\"Name: {n}, Age: {a}\".format(n=name, a=age))"
   ]
  },
  {
   "cell_type": "markdown",
   "id": "75b80077-315f-43d1-83e8-578ca3471115",
   "metadata": {},
   "source": [
    "#### f-string (파이썬 3.6 이상)"
   ]
  },
  {
   "cell_type": "code",
   "execution_count": 10,
   "id": "de679445-28ea-481a-9eec-249378a38efa",
   "metadata": {},
   "outputs": [
    {
     "name": "stdout",
     "output_type": "stream",
     "text": [
      "My name is Alice and I'm 25 years old.\n",
      "Next year, I will be 26 years old.\n"
     ]
    }
   ],
   "source": [
    "print(f\"My name is {name} and I'm {age} years old.\")\n",
    "\n",
    "# 중괄호 안에 연산도 가능\n",
    "print(f\"Next year, I will be {age + 1} years old.\")"
   ]
  },
  {
   "cell_type": "markdown",
   "id": "af096b48-66f2-4785-8bcf-baa580b682b9",
   "metadata": {},
   "source": [
    "#### 출력 옵션"
   ]
  },
  {
   "cell_type": "code",
   "execution_count": 11,
   "id": "81f1ef1b-f851-48c0-9350-9137e8b7f178",
   "metadata": {},
   "outputs": [
    {
     "name": "stdout",
     "output_type": "stream",
     "text": [
      "apple, banana, cherry\n",
      "Hello World!\n"
     ]
    }
   ],
   "source": [
    "print(\"apple\", \"banana\", \"cherry\", sep=\", \")  # apple, banana, cherry\n",
    "print(\"Hello\", end=\" \")\n",
    "print(\"World!\")                              # Hello World!"
   ]
  },
  {
   "cell_type": "markdown",
   "id": "5059caeb-1b65-4847-9c7f-4554b8107573",
   "metadata": {},
   "source": [
    "### **파이썬 연산자**"
   ]
  },
  {
   "cell_type": "code",
   "execution_count": 12,
   "id": "9db296ad-e5ac-448b-b98a-2cf0c5cbd893",
   "metadata": {},
   "outputs": [
    {
     "name": "stdout",
     "output_type": "stream",
     "text": [
      "13 7 30 3.3333333333333335 3 1 1000\n"
     ]
    }
   ],
   "source": [
    "# 산술 연산\n",
    "a = 10\n",
    "b = 3\n",
    "print(a + b, a - b, a * b, a / b, a // b, a % b, a ** b)"
   ]
  },
  {
   "cell_type": "code",
   "execution_count": 13,
   "id": "678c1635-c252-40a4-849a-adc0c7703859",
   "metadata": {},
   "outputs": [
    {
     "name": "stdout",
     "output_type": "stream",
     "text": [
      "True True True\n"
     ]
    }
   ],
   "source": [
    "# 비교 연산\n",
    "print(a > b, a == 10, b != 0)"
   ]
  },
  {
   "cell_type": "code",
   "execution_count": 14,
   "id": "619b6bd8-0575-4ba3-a197-bdefca4694df",
   "metadata": {},
   "outputs": [
    {
     "name": "stdout",
     "output_type": "stream",
     "text": [
      "True\n",
      "True\n"
     ]
    }
   ],
   "source": [
    "# 논리 연산\n",
    "print((a > 5) and (b < 5))\n",
    "print(not (a == 3))"
   ]
  },
  {
   "cell_type": "code",
   "execution_count": 15,
   "id": "164d09fa-11a7-48da-9b18-8f2db83baae0",
   "metadata": {},
   "outputs": [
    {
     "name": "stdout",
     "output_type": "stream",
     "text": [
      "21\n"
     ]
    }
   ],
   "source": [
    "# 대입 연산\n",
    "num = 5\n",
    "num += 2  # num = 7\n",
    "num *= 3  # num = 21\n",
    "print(num)"
   ]
  },
  {
   "cell_type": "markdown",
   "id": "c86bff94-f25c-4401-9192-74a499b3aec2",
   "metadata": {},
   "source": [
    "### **제어문**"
   ]
  },
  {
   "cell_type": "markdown",
   "id": "39c2d1bf-0609-4e92-92ca-8da26bdffe94",
   "metadata": {},
   "source": [
    "#### if 문"
   ]
  },
  {
   "cell_type": "code",
   "execution_count": 16,
   "id": "ee75818e-4a91-4bad-b9ca-00a95b8b033f",
   "metadata": {},
   "outputs": [
    {
     "name": "stdout",
     "output_type": "stream",
     "text": [
      "x는 5보다 큽니다.\n"
     ]
    }
   ],
   "source": [
    "x = 10\n",
    "if x > 5:\n",
    "    print(\"x는 5보다 큽니다.\")\n",
    "# 출력: x는 5보다 큽니다."
   ]
  },
  {
   "attachments": {},
   "cell_type": "markdown",
   "id": "c1321426-7a1a-4751-aa9e-e9f0e5cb40bb",
   "metadata": {},
   "source": [
    "#### if ~ else 문"
   ]
  },
  {
   "cell_type": "code",
   "execution_count": 17,
   "id": "7b8e135f-6fa2-4f1f-a643-fdc5b9e3bb6b",
   "metadata": {},
   "outputs": [
    {
     "name": "stdout",
     "output_type": "stream",
     "text": [
      "합격입니다.\n"
     ]
    }
   ],
   "source": [
    "score = 70\n",
    "if score >= 60:\n",
    "    print(\"합격입니다.\")\n",
    "else:\n",
    "    print(\"불합격입니다.\")\n",
    "# 출력: 합격입니다."
   ]
  },
  {
   "cell_type": "markdown",
   "id": "15024d6c-2f1c-4c76-970e-076c44844d3e",
   "metadata": {},
   "source": [
    "#### if ~ elif ~ else 다중 조건문"
   ]
  },
  {
   "cell_type": "code",
   "execution_count": 18,
   "id": "ddfc5e63-03bc-4f34-a968-fe9297da3e0a",
   "metadata": {},
   "outputs": [
    {
     "name": "stdout",
     "output_type": "stream",
     "text": [
      "0입니다.\n"
     ]
    }
   ],
   "source": [
    "num = 0\n",
    "\n",
    "if num > 0:\n",
    "    print(\"양수입니다.\")\n",
    "elif num < 0:\n",
    "    print(\"음수입니다.\")\n",
    "else:\n",
    "    print(\"0입니다.\")\n",
    "# 출력: 0입니다."
   ]
  },
  {
   "cell_type": "markdown",
   "id": "4fba84e2-53dc-4396-bcc9-8700578a983d",
   "metadata": {},
   "source": [
    "#### 중첩 조건문 (Nested if)"
   ]
  },
  {
   "cell_type": "code",
   "execution_count": 19,
   "id": "fb69c9b0-5cf7-4fa1-a4b4-3a0e18deeffe",
   "metadata": {},
   "outputs": [
    {
     "name": "stdout",
     "output_type": "stream",
     "text": [
      "성인입니다.\n"
     ]
    }
   ],
   "source": [
    "age = 20\n",
    "if age >= 18:\n",
    "    if age < 65:\n",
    "        print(\"성인입니다.\")\n",
    "    else:\n",
    "        print(\"노년입니다.\")\n",
    "else:\n",
    "    print(\"미성년자입니다.\")\n",
    "# 출력: 성인입니다."
   ]
  },
  {
   "cell_type": "markdown",
   "id": "2bfadc8f-4ff0-41a9-9734-0688caa2b3b3",
   "metadata": {},
   "source": [
    "#### 조건문의 다양한 활용"
   ]
  },
  {
   "cell_type": "code",
   "execution_count": 20,
   "id": "b0cdd387-7982-4454-9c97-5cfd8252175f",
   "metadata": {},
   "outputs": [
    {
     "name": "stdout",
     "output_type": "stream",
     "text": [
      "둘 다 0보다 큽니다.\n"
     ]
    }
   ],
   "source": [
    "# 비교/논리 연산과 함께 사용\n",
    "a = 10\n",
    "b = 5\n",
    "if a > 0 and b > 0:\n",
    "    print(\"둘 다 0보다 큽니다.\")"
   ]
  },
  {
   "cell_type": "code",
   "execution_count": 21,
   "id": "bed0ea47-1a4a-4aaf-8c0a-6b7e8147edd1",
   "metadata": {},
   "outputs": [
    {
     "name": "stdout",
     "output_type": "stream",
     "text": [
      "홀수\n"
     ]
    }
   ],
   "source": [
    "# 한 줄로 쓰는 조건문 (삼항 연산자)\n",
    "x = 5\n",
    "result = \"짝수\" if x % 2 == 0 else \"홀수\"\n",
    "print(result)  # 출력: 홀수"
   ]
  },
  {
   "cell_type": "markdown",
   "id": "cc8389c3-698a-42d1-a517-ee043f9d297f",
   "metadata": {},
   "source": [
    "### **반복문**"
   ]
  },
  {
   "cell_type": "markdown",
   "id": "9e626328-144a-4a81-b985-3de283c8b607",
   "metadata": {},
   "source": [
    "#### for 문"
   ]
  },
  {
   "cell_type": "code",
   "execution_count": 22,
   "id": "b37bfa36-edeb-4690-949d-8fa1a0c08ef1",
   "metadata": {},
   "outputs": [
    {
     "name": "stdout",
     "output_type": "stream",
     "text": [
      "apple\n",
      "banana\n",
      "cherry\n"
     ]
    }
   ],
   "source": [
    "# 리스트의 모든 값 출력\n",
    "fruits = ['apple', 'banana', 'cherry']\n",
    "for fruit in fruits:\n",
    "    print(fruit)"
   ]
  },
  {
   "cell_type": "code",
   "execution_count": 23,
   "id": "675a7aaf-22d0-4147-bdbe-456a32d908eb",
   "metadata": {},
   "outputs": [
    {
     "name": "stdout",
     "output_type": "stream",
     "text": [
      "0\n",
      "1\n",
      "2\n",
      "3\n",
      "4\n"
     ]
    }
   ],
   "source": [
    "# 0부터 4까지 출력 (range 함수 사용)\n",
    "for i in range(5):\n",
    "    print(i)\n",
    "# 출력: 0 1 2 3 4"
   ]
  },
  {
   "cell_type": "code",
   "execution_count": 24,
   "id": "68807728-0bd1-4ffd-91d4-07cfcaf4f74e",
   "metadata": {},
   "outputs": [
    {
     "name": "stdout",
     "output_type": "stream",
     "text": [
      "P\n",
      "y\n",
      "t\n",
      "h\n",
      "o\n",
      "n\n"
     ]
    }
   ],
   "source": [
    "# 다양한 시퀀스에서 반복 - 문자열\n",
    "for char in \"Python\":\n",
    "    print(char)"
   ]
  },
  {
   "cell_type": "code",
   "execution_count": 25,
   "id": "e1eb7d41-076f-4cf7-aa63-5ca55d19929f",
   "metadata": {},
   "outputs": [
    {
     "name": "stdout",
     "output_type": "stream",
     "text": [
      "1\n",
      "2\n",
      "3\n",
      "4\n"
     ]
    }
   ],
   "source": [
    "# 중첩 for문\n",
    "matrix = [[1,2],[3,4]]\n",
    "for row in matrix:\n",
    "    for val in row:\n",
    "        print(val)"
   ]
  },
  {
   "cell_type": "code",
   "execution_count": 26,
   "id": "6e32affe-d5ce-4d79-bc06-0da1e804f263",
   "metadata": {},
   "outputs": [
    {
     "name": "stdout",
     "output_type": "stream",
     "text": [
      "0 A\n",
      "1 B\n",
      "A 90\n",
      "B 85\n"
     ]
    }
   ],
   "source": [
    "# enumerate, zip 등과 활용\n",
    "names = [\"A\", \"B\"]\n",
    "scores = [90, 85]\n",
    "for idx, name in enumerate(names):\n",
    "    print(idx, name)\n",
    "for n, s in zip(names, scores):\n",
    "    print(n, s)"
   ]
  },
  {
   "cell_type": "markdown",
   "id": "451ff8c9-64f6-4cb3-9018-a11e924031f7",
   "metadata": {},
   "source": [
    "#### while 문"
   ]
  },
  {
   "cell_type": "code",
   "execution_count": 27,
   "id": "0d8019f0-f87e-4fac-ba1e-ddc637605d8a",
   "metadata": {},
   "outputs": [
    {
     "name": "stdout",
     "output_type": "stream",
     "text": [
      "1\n",
      "2\n",
      "3\n",
      "4\n",
      "5\n"
     ]
    }
   ],
   "source": [
    "# 1부터 5까지 출력\n",
    "count = 1\n",
    "while count <= 5:\n",
    "    print(count)\n",
    "    count += 1"
   ]
  },
  {
   "cell_type": "code",
   "execution_count": 28,
   "id": "26bc505e-caac-4f08-b337-6994c474d529",
   "metadata": {},
   "outputs": [
    {
     "name": "stdout",
     "output_type": "stream",
     "text": [
      "0\n",
      "1\n",
      "2\n",
      "3\n",
      "4\n",
      "1\n",
      "3\n"
     ]
    }
   ],
   "source": [
    "# break 예제\n",
    "for i in range(10):\n",
    "    if i == 5:\n",
    "        break\n",
    "    print(i)  # 0 1 2 3 4\n",
    "\n",
    "# continue 예제\n",
    "for i in range(5):\n",
    "    if i % 2 == 0:\n",
    "        continue\n",
    "    print(i)  # 1 3"
   ]
  },
  {
   "cell_type": "code",
   "execution_count": 29,
   "id": "be8ddb88-8ff9-4fbb-9d57-0395b5d8760d",
   "metadata": {},
   "outputs": [
    {
     "name": "stdout",
     "output_type": "stream",
     "text": [
      "0\n",
      "1\n",
      "2\n",
      "반복 종료\n"
     ]
    }
   ],
   "source": [
    "# else와 함께 사용\n",
    "for i in range(3):\n",
    "    print(i)\n",
    "else:\n",
    "    print(\"반복 종료\")"
   ]
  },
  {
   "cell_type": "markdown",
   "id": "bd67e19f-fae7-46e9-8fe4-bed461674191",
   "metadata": {},
   "source": [
    "-----"
   ]
  },
  {
   "cell_type": "markdown",
   "id": "40e220fa-bc79-4c52-b07f-6fdc289e50f9",
   "metadata": {},
   "source": [
    "### **함수 기본**"
   ]
  },
  {
   "cell_type": "markdown",
   "id": "5c28429b-561f-494c-be82-f8e25abebdd4",
   "metadata": {},
   "source": [
    "#### 가장 단순한 함수 예제"
   ]
  },
  {
   "cell_type": "code",
   "execution_count": 30,
   "id": "81b52086-80b8-4acd-b374-c40f31bf6d9d",
   "metadata": {},
   "outputs": [
    {
     "name": "stdout",
     "output_type": "stream",
     "text": [
      "안녕하세요!\n"
     ]
    }
   ],
   "source": [
    "def greet():\n",
    "    print(\"안녕하세요!\")\n",
    "\n",
    "greet()  # 호출 결과: 안녕하세요!"
   ]
  },
  {
   "cell_type": "markdown",
   "id": "67b925b5-c9bf-454e-ab53-43e4a9fcf401",
   "metadata": {},
   "source": [
    "#### 매개변수(Parameter)와 인수(Argument)"
   ]
  },
  {
   "cell_type": "code",
   "execution_count": 31,
   "id": "37293053-7e39-4c9f-b8b6-fb9c59c46c93",
   "metadata": {},
   "outputs": [
    {
     "name": "stdout",
     "output_type": "stream",
     "text": [
      "8\n"
     ]
    }
   ],
   "source": [
    "def add(a, b):\n",
    "    return a + b\n",
    "\n",
    "result = add(3, 5)\n",
    "print(result)  # 출력: 8"
   ]
  },
  {
   "cell_type": "markdown",
   "id": "17594265-a209-4a69-9a04-800e3d775deb",
   "metadata": {},
   "source": [
    "#### 반환값(return) 사용법"
   ]
  },
  {
   "cell_type": "code",
   "execution_count": 32,
   "id": "1c1ce379-4a6a-4c2e-bb47-f81cb510903e",
   "metadata": {},
   "outputs": [
    {
     "name": "stdout",
     "output_type": "stream",
     "text": [
      "16\n"
     ]
    }
   ],
   "source": [
    "def square(x):\n",
    "    return x ** 2\n",
    "\n",
    "print(square(4))  # 출력: 16"
   ]
  },
  {
   "cell_type": "markdown",
   "id": "eb48aee1-c5d3-4fbf-b6e5-840ad7d3546d",
   "metadata": {},
   "source": [
    "#### 다양한 형태의 함수 정의"
   ]
  },
  {
   "cell_type": "code",
   "execution_count": 33,
   "id": "c45eeeb8-0cf0-4b0b-8049-1ab3da0757e7",
   "metadata": {},
   "outputs": [
    {
     "name": "stdout",
     "output_type": "stream",
     "text": [
      "안녕, 친구!\n",
      "안녕, 보라!\n"
     ]
    }
   ],
   "source": [
    "# 기본값 매개변수\n",
    "def greet(name=\"친구\"):\n",
    "    print(f\"안녕, {name}!\")\n",
    "\n",
    "greet()           # 출력: 안녕, 친구!\n",
    "greet(\"보라\")     # 출력: 안녕, 보라!"
   ]
  },
  {
   "cell_type": "code",
   "execution_count": 34,
   "id": "7590ba59-0781-48be-a54d-84e411f56be9",
   "metadata": {},
   "outputs": [
    {
     "name": "stdout",
     "output_type": "stream",
     "text": [
      "이름: 영희, 나이: 20\n"
     ]
    }
   ],
   "source": [
    "# 키워드 인수 사용\n",
    "def introduce(name, age):\n",
    "    print(f\"이름: {name}, 나이: {age}\")\n",
    "\n",
    "introduce(age=20, name='영희')  # 이름과 순서 달라도 됨"
   ]
  },
  {
   "cell_type": "code",
   "execution_count": 35,
   "id": "9ab85756-0286-4df3-ba40-0ac1b0672168",
   "metadata": {},
   "outputs": [
    {
     "name": "stdout",
     "output_type": "stream",
     "text": [
      "10\n"
     ]
    }
   ],
   "source": [
    "# 여러 개의 인수를 받을 때 (*args, **kwargs)\n",
    "def sum_all(*numbers):\n",
    "    total = 0\n",
    "    for n in numbers:\n",
    "        total += n\n",
    "    return total\n",
    "\n",
    "print(sum_all(1,2,3,4))  # 출력: 10"
   ]
  },
  {
   "cell_type": "markdown",
   "id": "160d8d16-4374-4b3e-b04d-666e479bcfe0",
   "metadata": {},
   "source": [
    "#### 함수와 범위"
   ]
  },
  {
   "cell_type": "code",
   "execution_count": 36,
   "id": "240d4cf8-e37d-4dbe-ac45-446a6b299273",
   "metadata": {},
   "outputs": [
    {
     "name": "stdout",
     "output_type": "stream",
     "text": [
      "10\n",
      "5\n"
     ]
    }
   ],
   "source": [
    "x = 5  # 전역 변수\n",
    "\n",
    "def change():\n",
    "    x = 10  # 지역 변수\n",
    "    print(x)\n",
    "\n",
    "change()  # 10\n",
    "print(x)  # 5"
   ]
  }
 ],
 "metadata": {
  "kernelspec": {
   "display_name": "test_keri",
   "language": "python",
   "name": "ai_course"
  },
  "language_info": {
   "codemirror_mode": {
    "name": "ipython",
    "version": 3
   },
   "file_extension": ".py",
   "mimetype": "text/x-python",
   "name": "python",
   "nbconvert_exporter": "python",
   "pygments_lexer": "ipython3",
   "version": "3.9.23"
  }
 },
 "nbformat": 4,
 "nbformat_minor": 5
}
