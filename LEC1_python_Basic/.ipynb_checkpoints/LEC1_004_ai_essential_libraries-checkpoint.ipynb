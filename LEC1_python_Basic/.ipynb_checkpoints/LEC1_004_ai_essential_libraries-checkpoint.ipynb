{
 "cells": [
  {
   "attachments": {},
   "cell_type": "markdown",
   "id": "0728080b-3190-4f15-9984-d3d98721b1d1",
   "metadata": {},
   "source": [
    "### Created on 2025\n",
    "### @author: S.W"
   ]
  },
  {
   "cell_type": "markdown",
   "id": "f00e9b8f-8a2b-480c-a1c8-7bd3c64aafc9",
   "metadata": {},
   "source": [
    "### **NumPy 기초**"
   ]
  },
  {
   "cell_type": "markdown",
   "id": "7e14f031-ea8f-4757-bc50-6c79887bbfef",
   "metadata": {},
   "source": [
    "#### 배열 생성"
   ]
  },
  {
   "cell_type": "code",
   "execution_count": 1,
   "id": "3f623c1b-70cf-46c7-9882-fbc3e32fe2c8",
   "metadata": {},
   "outputs": [
    {
     "name": "stdout",
     "output_type": "stream",
     "text": [
      "<class 'numpy.ndarray'>\n"
     ]
    }
   ],
   "source": [
    "# 리스트, 튜플 -> ndarray\n",
    "import numpy as np\n",
    "\n",
    "arr1 = np.array([1, 2, 3])          # 1차원 배열\n",
    "arr2 = np.array([[1, 2], [3, 4]])   # 2차원 배열\n",
    "arr3 = np.array([[1, 2], [3, 4], [5, 6]]) # 3x2 배열\n",
    "print(type(arr1))  # <class 'numpy.ndarray'>"
   ]
  },
  {
   "cell_type": "code",
   "execution_count": 2,
   "id": "a31564de-8997-479d-a5c9-bfabb132b892",
   "metadata": {},
   "outputs": [
    {
     "name": "stdout",
     "output_type": "stream",
     "text": [
      "zeros:\n",
      "[[0. 0. 0.]\n",
      " [0. 0. 0.]],\n",
      "ones:\n",
      "[[1 1]\n",
      " [1 1]\n",
      " [1 1]],\n",
      "full:\n",
      "[[99 99]\n",
      " [99 99]]\n"
     ]
    }
   ],
   "source": [
    "# 특정 값으로 채운 배열 생성\n",
    "zeros = np.zeros((2, 3))       # 2x3 크기, 모든 값 0\n",
    "ones = np.ones((3, 2), dtype=int)  # 3x2 크기, 모든 값 1\n",
    "full = np.full((2, 2), 99)     # 2x2 크기, 모든 값 99\n",
    "\n",
    "print(f\"zeros:\\n{zeros},\\nones:\\n{ones},\\nfull:\\n{full}\")"
   ]
  },
  {
   "cell_type": "code",
   "execution_count": 3,
   "id": "c8780beb-df11-4757-9eeb-9534b30be57e",
   "metadata": {},
   "outputs": [
    {
     "name": "stdout",
     "output_type": "stream",
     "text": [
      "arange:\n",
      "[0 2 4 6 8],\n",
      "linspace:\n",
      "[0.   0.25 0.5  0.75 1.  ]\n"
     ]
    }
   ],
   "source": [
    "# 연속된 값/규칙적 값\n",
    "arange = np.arange(0, 10, 2)   # 0~8, 2씩 증가: [0, 2, 4, 6, 8]\n",
    "linspace = np.linspace(0, 1, 5) # 0~1을 5등분한 값들\n",
    "print(f\"arange:\\n{arange},\\nlinspace:\\n{linspace}\")"
   ]
  },
  {
   "cell_type": "markdown",
   "id": "0f37a4e4-0991-4b21-86f8-fc11cad11bb8",
   "metadata": {},
   "source": [
    "#### 배열의 차원 (Shape, ndim)"
   ]
  },
  {
   "cell_type": "code",
   "execution_count": 4,
   "id": "6c4d7209-4f14-457c-a8d7-23558395c21e",
   "metadata": {},
   "outputs": [
    {
     "name": "stdout",
     "output_type": "stream",
     "text": [
      "(2, 3)\n",
      "2\n"
     ]
    }
   ],
   "source": [
    "arr = np.array([[1, 2, 3], [4, 5, 6]])\n",
    "print(arr.shape)   # (2, 3) → 2행 3열\n",
    "print(arr.ndim)    # 2"
   ]
  },
  {
   "cell_type": "markdown",
   "id": "bece3e44-b00c-42c3-bb0c-7fba4cb39c8a",
   "metadata": {},
   "source": [
    "#### 배열 인덱싱, 슬라이싱, 불리언 인덱싱"
   ]
  },
  {
   "cell_type": "code",
   "execution_count": 5,
   "id": "8faa7472-2fd5-4b2c-bc2e-6cf6906ee8e7",
   "metadata": {},
   "outputs": [
    {
     "name": "stdout",
     "output_type": "stream",
     "text": [
      "20\n",
      "6\n"
     ]
    }
   ],
   "source": [
    "# 인덱싱 (Indexing)\n",
    "arr = np.array([10, 20, 30, 40])\n",
    "print(arr[1])      # 20\n",
    "\n",
    "arr2 = np.array([[1,2,3],[4,5,6]])\n",
    "print(arr2[1, 2])  # 6"
   ]
  },
  {
   "cell_type": "code",
   "execution_count": 6,
   "id": "cbf99a75-d758-4486-b884-26002d26d583",
   "metadata": {},
   "outputs": [
    {
     "name": "stdout",
     "output_type": "stream",
     "text": [
      "[2 3 4]\n",
      "[[2 3]\n",
      " [5 6]\n",
      " [8 9]]\n"
     ]
    }
   ],
   "source": [
    "# 슬라이싱 (Slicing)\n",
    "arr = np.array([0,1,2,3,4,5])\n",
    "print(arr[2:5])    # [2 3 4]\n",
    "arr2 = np.array([[1,2,3],[4,5,6],[7,8,9]])\n",
    "print(arr2[:, 1:]) # 2번째 열 이후 전체: [[2,3],[5,6],[8,9]]"
   ]
  },
  {
   "cell_type": "code",
   "execution_count": 7,
   "id": "31ca88c6-c507-4873-a130-b658211c335a",
   "metadata": {},
   "outputs": [
    {
     "name": "stdout",
     "output_type": "stream",
     "text": [
      "[7 9]\n",
      "[]\n"
     ]
    }
   ],
   "source": [
    "# 불리언 인덱싱 (Boolean Indexing)\n",
    "# 조건에 맞는 데이터만 빠르게 추출\n",
    "arr = np.array([3, 7, 1, 9, 5])\n",
    "print(arr[arr > 5])  # [7, 9]\n",
    "# 짝수만 추출\n",
    "print(arr[arr % 2 == 0])  # []"
   ]
  },
  {
   "cell_type": "code",
   "execution_count": 8,
   "id": "007383bd-d0c5-4123-9a99-1486bec04238",
   "metadata": {},
   "outputs": [
    {
     "name": "stdout",
     "output_type": "stream",
     "text": [
      "[3 4]\n"
     ]
    }
   ],
   "source": [
    "# 불리언 인덱싱 (Boolean Indexing)\n",
    "# 다차원 배열도 불리언 인덱싱 활용 가능\n",
    "arr2 = np.array([[1, 2], [3, 4]])\n",
    "print(arr2[arr2 > 2]) # [3, 4]"
   ]
  },
  {
   "cell_type": "markdown",
   "id": "a60a5faf-bf12-4b22-bb83-13b524a8a069",
   "metadata": {},
   "source": [
    "#### 배열의 기본 연산(사칙연산, 브로드캐스팅)"
   ]
  },
  {
   "cell_type": "code",
   "execution_count": 9,
   "id": "fff58e27-3e47-4031-b232-7c6be145f7cd",
   "metadata": {},
   "outputs": [
    {
     "name": "stdout",
     "output_type": "stream",
     "text": [
      "[5 7 9]\n",
      "[3 3 3]\n",
      "[3 6 9]\n",
      "[4.  2.5 2. ]\n"
     ]
    }
   ],
   "source": [
    "# 배열 사칙연산\n",
    "arr1 = np.array([1, 2, 3])\n",
    "arr2 = np.array([4, 5, 6])\n",
    "print(arr1 + arr2)   # [5, 7, 9]\n",
    "print(arr2 - arr1)   # [3, 3, 3]\n",
    "print(arr1 * 3)      # [3, 6, 9]\n",
    "print(arr2 / arr1)   # [4.0, 2.5, 2.0]"
   ]
  },
  {
   "cell_type": "code",
   "execution_count": 10,
   "id": "886d44b9-9e72-4c86-80b9-8924d6d07996",
   "metadata": {},
   "outputs": [
    {
     "name": "stdout",
     "output_type": "stream",
     "text": [
      "[[11 12]\n",
      " [13 14]]\n"
     ]
    }
   ],
   "source": [
    "# 2차원 배열과 수(스칼라) 연산\n",
    "matrix = np.array([[1,2], [3,4]])\n",
    "print(matrix + 10)   # [[11,12],[13,14]]"
   ]
  },
  {
   "cell_type": "code",
   "execution_count": 11,
   "id": "a0f91f3c-2159-446a-858e-f942788ca8f4",
   "metadata": {},
   "outputs": [
    {
     "name": "stdout",
     "output_type": "stream",
     "text": [
      "[[11 12 13]\n",
      " [14 15 16]]\n",
      "[[2 4 6]\n",
      " [5 7 9]]\n"
     ]
    }
   ],
   "source": [
    "# 브로드캐스팅(Broadcasting)\n",
    "arr = np.array([[1,2,3], [4,5,6]])\n",
    "scalar = 10\n",
    "print(arr + scalar)    # 각 원소에 10을 더함\n",
    "\n",
    "arr2 = np.array([1,2,3])\n",
    "print(arr + arr2)      # 각 행에 arr2를 더함"
   ]
  },
  {
   "cell_type": "code",
   "execution_count": 12,
   "id": "9766f97e-62db-402a-aacb-1f217a8e768a",
   "metadata": {},
   "outputs": [
    {
     "name": "stdout",
     "output_type": "stream",
     "text": [
      "[[ 0  2  4  6]\n",
      " [ 4  6  8 10]\n",
      " [ 8 10 12 14]]\n"
     ]
    }
   ],
   "source": [
    "# 다차원 예시\n",
    "a = np.arange(12).reshape(3,4)   # (3,4) 배열\n",
    "b = np.arange(4)                 # (4,) 1D 배열\n",
    "print(a + b)                     # b(1D)가 각 행에 자동으로 확장되어 더해짐"
   ]
  },
  {
   "cell_type": "markdown",
   "id": "b4cd9788-906f-43eb-a6b6-7605308ea389",
   "metadata": {},
   "source": [
    "#### 주요 함수 활용 (sum, mean, reshape 등)"
   ]
  },
  {
   "cell_type": "code",
   "execution_count": 13,
   "id": "e978588f-20b1-4967-9e67-95162deb404a",
   "metadata": {},
   "outputs": [
    {
     "name": "stdout",
     "output_type": "stream",
     "text": [
      "10\n"
     ]
    }
   ],
   "source": [
    "# sum(): 합계\n",
    "arr = np.array([1, 2, 3, 4])\n",
    "print(arr.sum())           # 10"
   ]
  },
  {
   "cell_type": "code",
   "execution_count": 14,
   "id": "edd4a0b1-f020-4548-b883-90f8bb9d9e93",
   "metadata": {},
   "outputs": [
    {
     "name": "stdout",
     "output_type": "stream",
     "text": [
      "[4 6]\n",
      "[3 7]\n"
     ]
    }
   ],
   "source": [
    "# 다차원에서 축(axis)별 합계\n",
    "arr2 = np.array([[1, 2], [3, 4]])\n",
    "print(arr2.sum(axis=0))    # [4, 6] (열별 합)\n",
    "print(arr2.sum(axis=1))    # [3, 7] (행별 합)"
   ]
  },
  {
   "cell_type": "code",
   "execution_count": 15,
   "id": "1e0905a8-a210-4b62-941e-417551ae9b14",
   "metadata": {},
   "outputs": [
    {
     "name": "stdout",
     "output_type": "stream",
     "text": [
      "2.5\n",
      "[1.5 3.5]\n"
     ]
    }
   ],
   "source": [
    "# mean(): 평균\n",
    "print(arr.mean())          # 2.5\n",
    "print(arr2.mean(axis=1))  # [1.5, 3.5]"
   ]
  },
  {
   "cell_type": "code",
   "execution_count": 16,
   "id": "9d7edf04-56e3-422c-b8e7-311d2c39c8d0",
   "metadata": {},
   "outputs": [
    {
     "name": "stdout",
     "output_type": "stream",
     "text": [
      "[[ 0  1  2  3]\n",
      " [ 4  5  6  7]\n",
      " [ 8  9 10 11]]\n"
     ]
    }
   ],
   "source": [
    "# reshape\n",
    "arr = np.arange(12)\n",
    "arr2 = arr.reshape(3, 4)   # 3행 4열\n",
    "print(arr2)"
   ]
  },
  {
   "cell_type": "code",
   "execution_count": 17,
   "id": "4559e282-5ad5-473b-b703-220690026fbf",
   "metadata": {},
   "outputs": [
    {
     "name": "stdout",
     "output_type": "stream",
     "text": [
      "[[0 1 2 3]\n",
      " [4 5 6 7]]\n"
     ]
    }
   ],
   "source": [
    "# reshape \n",
    "# -1 사용 팁 : 자동으로 남은 크기 결정\n",
    "arr = np.arange(8)\n",
    "arr2 = arr.reshape(2, -1)  # 2행, 열은 자동으로\n",
    "print(arr2)                # [[0 1 2 3], [4 5 6 7]]"
   ]
  },
  {
   "cell_type": "code",
   "execution_count": 18,
   "id": "1c893c74-64bc-43ac-be2c-76030a4c9311",
   "metadata": {},
   "outputs": [
    {
     "name": "stdout",
     "output_type": "stream",
     "text": [
      "[1. 2. 3.]\n"
     ]
    }
   ],
   "source": [
    "# 데이터 타입 지정\n",
    "arr = np.array([1,2,3], dtype=float)\n",
    "print(arr)  # [1. 2. 3.]"
   ]
  },
  {
   "cell_type": "code",
   "execution_count": 19,
   "id": "f9fbebd1-415f-41aa-9345-0a46f938f13c",
   "metadata": {},
   "outputs": [
    {
     "name": "stdout",
     "output_type": "stream",
     "text": [
      "[[0.80780651 0.09004924 0.48672693]\n",
      " [0.59812004 0.45699935 0.48750738]]\n",
      "[[1 7 2]\n",
      " [7 2 0]]\n"
     ]
    }
   ],
   "source": [
    "# 랜덤 배열 생성\n",
    "rand_arr = np.random.rand(2,3)   # 2x3 난수 배열(실수)\n",
    "randint_arr = np.random.randint(0, 10, (2,3)) # 0~9의 정수, 2x3\n",
    "print(rand_arr)\n",
    "print(randint_arr)"
   ]
  },
  {
   "cell_type": "markdown",
   "id": "4a29a88d-44f6-4fa5-aec4-321fd4c750eb",
   "metadata": {},
   "source": [
    "#### 예제"
   ]
  },
  {
   "cell_type": "code",
   "execution_count": 20,
   "id": "64b74757-76d0-4929-bff2-19df3a0d9e07",
   "metadata": {},
   "outputs": [
    {
     "name": "stdout",
     "output_type": "stream",
     "text": [
      "원본 배열:\n",
      " [[ 0  1  2  3]\n",
      " [ 4  5  6  7]\n",
      " [ 8  9 10 11]]\n",
      "2~3행의 1~2열:\n",
      " [[ 5  6]\n",
      " [ 9 10]]\n",
      "5 이상 값: [ 5  6  7  8  9 10 11]\n",
      "행별 합: [ 6 22 38]\n",
      "열별 평균: [4. 5. 6. 7.]\n",
      "원본 배열에 1D 배열 더하기:\n",
      " [[ 0  2  4  6]\n",
      " [ 4  6  8 10]\n",
      " [ 8 10 12 14]]\n",
      "[[0 1 2 3]\n",
      " [4 5 6 7]]\n"
     ]
    }
   ],
   "source": [
    "import numpy as np\n",
    "\n",
    "# 3행 4열 배열 생성 및 인덱싱\n",
    "arr = np.arange(12).reshape(3,4)\n",
    "print(\"원본 배열:\\n\", arr)\n",
    "print(\"2~3행의 1~2열:\\n\", arr[1:3, 1:3])\n",
    "\n",
    "# 배열에서 5 이상 값만 추출\n",
    "filter_arr = arr[arr >= 5]\n",
    "print(\"5 이상 값:\", filter_arr)\n",
    "\n",
    "# 행/열별 합, 평균\n",
    "print(\"행별 합:\", arr.sum(axis=1))\n",
    "print(\"열별 평균:\", arr.mean(axis=0))\n",
    "\n",
    "# 브로드캐스팅 예시\n",
    "arr2 = np.arange(4)\n",
    "print(\"원본 배열에 1D 배열 더하기:\\n\", arr + arr2)\n",
    "\n",
    "# 배열 형태 자유 변환\n",
    "b = np.arange(8)\n",
    "print(b.reshape(2, -1))\n"
   ]
  },
  {
   "cell_type": "markdown",
   "id": "5ccec6ce-c0dc-44f6-94fa-322e857e677d",
   "metadata": {},
   "source": [
    "### **Pandas 기초**"
   ]
  },
  {
   "cell_type": "markdown",
   "id": "c2c27f5d-60cf-4d7c-848c-41be1b8e2fa2",
   "metadata": {},
   "source": [
    "#### Pandas 자료구조 기초: Series와 DataFrame"
   ]
  },
  {
   "cell_type": "code",
   "execution_count": 21,
   "id": "32bf61b1-59a0-4af2-aac7-b1d73dd56cc4",
   "metadata": {},
   "outputs": [
    {
     "name": "stdout",
     "output_type": "stream",
     "text": [
      "Kim     85\n",
      "Lee     90\n",
      "Park    78\n",
      "dtype: int64\n"
     ]
    }
   ],
   "source": [
    "# Series: 1차원 데이터\n",
    "import pandas as pd\n",
    "\n",
    "# 리스트에서 Series 생성\n",
    "scores = pd.Series([85, 90, 78], index=['Kim', 'Lee', 'Park'])\n",
    "print(scores)\n",
    "# Kim     85\n",
    "# Lee     90\n",
    "# Park    78"
   ]
  },
  {
   "cell_type": "code",
   "execution_count": 22,
   "id": "627387e9-20a3-4a99-b316-1bb2d05f0943",
   "metadata": {},
   "outputs": [
    {
     "name": "stdout",
     "output_type": "stream",
     "text": [
      "      Name  Age  Score\n",
      "0    Alice   25     95\n",
      "1      Bob   30     85\n",
      "2  Charlie   28     88\n"
     ]
    }
   ],
   "source": [
    "# DataFrame: 2차원(표형) 데이터\n",
    "# 딕셔너리에서 DataFrame 생성\n",
    "data = {\n",
    "    'Name': ['Alice', 'Bob', 'Charlie'],\n",
    "    'Age': [25, 30, 28],\n",
    "    'Score': [95, 85, 88]\n",
    "}\n",
    "df = pd.DataFrame(data)\n",
    "print(df)\n",
    "#      Name  Age  Score\n",
    "# 0   Alice   25     95\n",
    "# 1     Bob   30     85\n",
    "# 2 Charlie   28     88"
   ]
  },
  {
   "cell_type": "markdown",
   "id": "c081cd61-805b-4185-94c3-58c8e5754bb7",
   "metadata": {},
   "source": [
    "#### 인덱스 조작과 데이터 선택 (iloc, loc)"
   ]
  },
  {
   "cell_type": "code",
   "execution_count": 23,
   "id": "d78dc06c-e948-4b00-bb9c-4fc3ed4ebea2",
   "metadata": {},
   "outputs": [
    {
     "name": "stdout",
     "output_type": "stream",
     "text": [
      "Name     Alice\n",
      "Age         25\n",
      "Score       95\n",
      "Name: 0, dtype: object\n",
      "25\n",
      "0    25\n",
      "1    30\n",
      "2    28\n",
      "Name: Age, dtype: int64\n",
      "   Age  Score\n",
      "0   25     95\n",
      "1   30     85\n"
     ]
    }
   ],
   "source": [
    "# iloc: 정수 기반 인덱싱\n",
    "print(df.iloc[0])       # 첫 번째 행 전체\n",
    "print(df.iloc[0, 1])    # 첫 번째 행, 두 번째 열 값 (25)\n",
    "print(df.iloc[:, 1])    # 모든 행, 두 번째 열 (Age)\n",
    "print(df.iloc[0:2, 1:3]) # 첫~두 번째 행, 두 번째~세 번째 열"
   ]
  },
  {
   "cell_type": "code",
   "execution_count": 24,
   "id": "bd1121d1-146a-4796-8814-2422bd6013f1",
   "metadata": {},
   "outputs": [
    {
     "name": "stdout",
     "output_type": "stream",
     "text": [
      "Age      25\n",
      "Score    95\n",
      "Name: Alice, dtype: int64\n",
      "85\n",
      "         Age  Score\n",
      "Name               \n",
      "Alice     25     95\n",
      "Bob       30     85\n",
      "Charlie   28     88\n"
     ]
    }
   ],
   "source": [
    "# loc: 레이블 기반 인덱싱\n",
    "df2 = df.set_index('Name')\n",
    "print(df2.loc['Alice'])          # Name이 Alice인 행 전체\n",
    "print(df2.loc['Bob', 'Score'])   # Name이 Bob, Score 열 값 (85)\n",
    "print(df2.loc['Alice':'Charlie', 'Age':'Score'])  # 여러 행·여러 열"
   ]
  },
  {
   "cell_type": "code",
   "execution_count": 25,
   "id": "57a00a25-26fa-4722-9ce5-76b68e4f5003",
   "metadata": {},
   "outputs": [
    {
     "name": "stdout",
     "output_type": "stream",
     "text": [
      "      Name  Age  Score\n",
      "1      Bob   30     85\n",
      "2  Charlie   28     88\n"
     ]
    }
   ],
   "source": [
    "# 불리언 인덱싱, fancy indexing - 조건을 이용한 필터링\n",
    "# Age 28 이상인 행만 선택\n",
    "adults = df[df['Age'] >= 28]\n",
    "print(adults)"
   ]
  },
  {
   "cell_type": "markdown",
   "id": "32c5d9dd-f489-4f0e-b2f5-528a80a0286f",
   "metadata": {},
   "source": [
    "#### 데이터 읽기/쓰기 (CSV, Excel 등)"
   ]
  },
  {
   "cell_type": "code",
   "execution_count": 26,
   "id": "da96f7b7-4fe6-4cb4-9be9-0e32285b460b",
   "metadata": {},
   "outputs": [
    {
     "name": "stdout",
     "output_type": "stream",
     "text": [
      "   pclass  survived                                             name     sex  \\\n",
      "0       1         1                    Allen, Miss. Elisabeth Walton  female   \n",
      "1       1         1                   Allison, Master. Hudson Trevor    male   \n",
      "2       1         0                     Allison, Miss. Helen Loraine  female   \n",
      "3       1         0             Allison, Mr. Hudson Joshua Creighton    male   \n",
      "4       1         0  Allison, Mrs. Hudson J C (Bessie Waldo Daniels)  female   \n",
      "\n",
      "       age  sibsp  parch  ticket      fare    cabin embarked boat   body  \\\n",
      "0  29.0000      0      0   24160  211.3375       B5        S    2    NaN   \n",
      "1   0.9167      1      2  113781  151.5500  C22 C26        S   11    NaN   \n",
      "2   2.0000      1      2  113781  151.5500  C22 C26        S  NaN    NaN   \n",
      "3  30.0000      1      2  113781  151.5500  C22 C26        S  NaN  135.0   \n",
      "4  25.0000      1      2  113781  151.5500  C22 C26        S  NaN    NaN   \n",
      "\n",
      "                         home.dest  \n",
      "0                     St Louis, MO  \n",
      "1  Montreal, PQ / Chesterville, ON  \n",
      "2  Montreal, PQ / Chesterville, ON  \n",
      "3  Montreal, PQ / Chesterville, ON  \n",
      "4  Montreal, PQ / Chesterville, ON  \n"
     ]
    }
   ],
   "source": [
    "# CSV 파일 읽기/쓰기\n",
    "# 읽기\n",
    "df_ = pd.read_csv('./datasets/titanic.csv', encoding='utf-8')\n",
    "# 쓰기\n",
    "df_.to_csv('./output.csv', index=False, encoding='utf-8')\n",
    "\n",
    "# 전체 출력 시 to_string() 추천\n",
    "# print(df_.to_string())\n",
    "\n",
    "# 데이터 구조만 보고 싶을 때 head() 함수 사용\n",
    "print(df_.head())"
   ]
  },
  {
   "cell_type": "code",
   "execution_count": 27,
   "id": "c96157ee-adbb-4a9b-b6d0-1f3d6ff91871",
   "metadata": {},
   "outputs": [
    {
     "data": {
      "text/plain": [
       "'\\n확인해야함\\n'"
      ]
     },
     "execution_count": 27,
     "metadata": {},
     "output_type": "execute_result"
    }
   ],
   "source": [
    "\"\"\"\n",
    "확인해야함\n",
    "\"\"\"\n",
    "# # Excel 파일 읽기/쓰기\n",
    "# # 읽기\n",
    "# df_2 = pd.read_excel('./datasets/titanic.xls', sheet_name='Sheet1')\n",
    "# # 쓰기\n",
    "# df_2.to_excel('./output.xls', index=False)"
   ]
  },
  {
   "cell_type": "markdown",
   "id": "56a5e6ac-812f-4bfe-8dd6-bf37a6a4826c",
   "metadata": {},
   "source": [
    "#### 데이터프레임 기본 조작"
   ]
  },
  {
   "cell_type": "code",
   "execution_count": 28,
   "id": "c19a801c-fb45-4a73-ae3d-b042d3bc34cb",
   "metadata": {},
   "outputs": [
    {
     "data": {
      "text/html": [
       "<div>\n",
       "<style scoped>\n",
       "    .dataframe tbody tr th:only-of-type {\n",
       "        vertical-align: middle;\n",
       "    }\n",
       "\n",
       "    .dataframe tbody tr th {\n",
       "        vertical-align: top;\n",
       "    }\n",
       "\n",
       "    .dataframe thead th {\n",
       "        text-align: right;\n",
       "    }\n",
       "</style>\n",
       "<table border=\"1\" class=\"dataframe\">\n",
       "  <thead>\n",
       "    <tr style=\"text-align: right;\">\n",
       "      <th></th>\n",
       "      <th>Name</th>\n",
       "      <th>Age</th>\n",
       "      <th>Score</th>\n",
       "      <th>Passed</th>\n",
       "    </tr>\n",
       "  </thead>\n",
       "  <tbody>\n",
       "    <tr>\n",
       "      <th>0</th>\n",
       "      <td>Alice</td>\n",
       "      <td>25</td>\n",
       "      <td>95</td>\n",
       "      <td>True</td>\n",
       "    </tr>\n",
       "    <tr>\n",
       "      <th>1</th>\n",
       "      <td>Bob</td>\n",
       "      <td>30</td>\n",
       "      <td>85</td>\n",
       "      <td>True</td>\n",
       "    </tr>\n",
       "    <tr>\n",
       "      <th>2</th>\n",
       "      <td>Charlie</td>\n",
       "      <td>28</td>\n",
       "      <td>88</td>\n",
       "      <td>True</td>\n",
       "    </tr>\n",
       "  </tbody>\n",
       "</table>\n",
       "</div>"
      ],
      "text/plain": [
       "      Name  Age  Score  Passed\n",
       "0    Alice   25     95    True\n",
       "1      Bob   30     85    True\n",
       "2  Charlie   28     88    True"
      ]
     },
     "execution_count": 28,
     "metadata": {},
     "output_type": "execute_result"
    }
   ],
   "source": [
    "# 행/열 추가, 삭제, 수정\n",
    "df['Passed'] = df['Score'] >= 60  # 점수가 60 이상인 경우 True\n",
    "\n",
    "df.head()"
   ]
  },
  {
   "cell_type": "code",
   "execution_count": 29,
   "id": "96611791-de33-4dd4-888d-2836c39fc79b",
   "metadata": {},
   "outputs": [
    {
     "data": {
      "text/html": [
       "<div>\n",
       "<style scoped>\n",
       "    .dataframe tbody tr th:only-of-type {\n",
       "        vertical-align: middle;\n",
       "    }\n",
       "\n",
       "    .dataframe tbody tr th {\n",
       "        vertical-align: top;\n",
       "    }\n",
       "\n",
       "    .dataframe thead th {\n",
       "        text-align: right;\n",
       "    }\n",
       "</style>\n",
       "<table border=\"1\" class=\"dataframe\">\n",
       "  <thead>\n",
       "    <tr style=\"text-align: right;\">\n",
       "      <th></th>\n",
       "      <th>Name</th>\n",
       "      <th>Age</th>\n",
       "      <th>Score</th>\n",
       "      <th>Passed</th>\n",
       "    </tr>\n",
       "  </thead>\n",
       "  <tbody>\n",
       "    <tr>\n",
       "      <th>0</th>\n",
       "      <td>Alice</td>\n",
       "      <td>25</td>\n",
       "      <td>95</td>\n",
       "      <td>True</td>\n",
       "    </tr>\n",
       "    <tr>\n",
       "      <th>1</th>\n",
       "      <td>Bob</td>\n",
       "      <td>30</td>\n",
       "      <td>85</td>\n",
       "      <td>True</td>\n",
       "    </tr>\n",
       "    <tr>\n",
       "      <th>2</th>\n",
       "      <td>Charlie</td>\n",
       "      <td>28</td>\n",
       "      <td>88</td>\n",
       "      <td>True</td>\n",
       "    </tr>\n",
       "    <tr>\n",
       "      <th>3</th>\n",
       "      <td>David</td>\n",
       "      <td>23</td>\n",
       "      <td>78</td>\n",
       "      <td>NaN</td>\n",
       "    </tr>\n",
       "  </tbody>\n",
       "</table>\n",
       "</div>"
      ],
      "text/plain": [
       "      Name  Age  Score Passed\n",
       "0    Alice   25     95   True\n",
       "1      Bob   30     85   True\n",
       "2  Charlie   28     88   True\n",
       "3    David   23     78    NaN"
      ]
     },
     "execution_count": 29,
     "metadata": {},
     "output_type": "execute_result"
    }
   ],
   "source": [
    "# 행 추가\n",
    "new_row = pd.DataFrame({'Name': ['David'], 'Age': [23], 'Score': [78]})\n",
    "df = pd.concat([df, new_row], ignore_index=True)\n",
    "\n",
    "df.head()"
   ]
  },
  {
   "cell_type": "code",
   "execution_count": 30,
   "id": "106758f2-282e-4e0a-b668-c3dac652c86d",
   "metadata": {},
   "outputs": [
    {
     "data": {
      "text/html": [
       "<div>\n",
       "<style scoped>\n",
       "    .dataframe tbody tr th:only-of-type {\n",
       "        vertical-align: middle;\n",
       "    }\n",
       "\n",
       "    .dataframe tbody tr th {\n",
       "        vertical-align: top;\n",
       "    }\n",
       "\n",
       "    .dataframe thead th {\n",
       "        text-align: right;\n",
       "    }\n",
       "</style>\n",
       "<table border=\"1\" class=\"dataframe\">\n",
       "  <thead>\n",
       "    <tr style=\"text-align: right;\">\n",
       "      <th></th>\n",
       "      <th>Name</th>\n",
       "      <th>Age</th>\n",
       "      <th>Score</th>\n",
       "    </tr>\n",
       "  </thead>\n",
       "  <tbody>\n",
       "    <tr>\n",
       "      <th>1</th>\n",
       "      <td>Bob</td>\n",
       "      <td>30</td>\n",
       "      <td>85</td>\n",
       "    </tr>\n",
       "    <tr>\n",
       "      <th>2</th>\n",
       "      <td>Charlie</td>\n",
       "      <td>28</td>\n",
       "      <td>88</td>\n",
       "    </tr>\n",
       "    <tr>\n",
       "      <th>3</th>\n",
       "      <td>David</td>\n",
       "      <td>23</td>\n",
       "      <td>78</td>\n",
       "    </tr>\n",
       "  </tbody>\n",
       "</table>\n",
       "</div>"
      ],
      "text/plain": [
       "      Name  Age  Score\n",
       "1      Bob   30     85\n",
       "2  Charlie   28     88\n",
       "3    David   23     78"
      ]
     },
     "execution_count": 30,
     "metadata": {},
     "output_type": "execute_result"
    }
   ],
   "source": [
    "# 열/행 삭제\n",
    "df.drop('Passed', axis=1, inplace=True)  # 열 삭제\n",
    "df.drop(0, axis=0, inplace=True)         # 0번 인덱스 행 삭제\n",
    "df.head()"
   ]
  },
  {
   "cell_type": "code",
   "execution_count": 31,
   "id": "f3d237d5-7f35-40bf-9a94-89192e7a001f",
   "metadata": {},
   "outputs": [
    {
     "data": {
      "text/plain": [
       "Name     0\n",
       "Age      0\n",
       "Score    0\n",
       "dtype: int64"
      ]
     },
     "execution_count": 31,
     "metadata": {},
     "output_type": "execute_result"
    }
   ],
   "source": [
    "# 결측치 확인\n",
    "df.isnull()          # 각 원소별 결측 여부(True/False)\n",
    "df.isnull().sum()    # 각 열별 결측 값 개수"
   ]
  },
  {
   "cell_type": "code",
   "execution_count": 32,
   "id": "67186c04-d63f-4187-abd8-27efdc8d71f6",
   "metadata": {},
   "outputs": [
    {
     "data": {
      "text/plain": [
       "Name      0\n",
       "Age       0\n",
       "Score     0\n",
       "Passed    1\n",
       "dtype: int64"
      ]
     },
     "execution_count": 32,
     "metadata": {},
     "output_type": "execute_result"
    }
   ],
   "source": [
    "df['Passed'] = df['Score'] >= 60  # 점수가 60 이상인 경우 True\n",
    "\n",
    "# 행 추가\n",
    "new_row = pd.DataFrame({'Name': ['David'], 'Age': [23], 'Score': [78]})\n",
    "df = pd.concat([df, new_row], ignore_index=True)\n",
    "\n",
    "df.isnull()          # 각 원소별 결측 여부(True/False)\n",
    "df.isnull().sum()    # 각 열별 결측 값 개수"
   ]
  },
  {
   "cell_type": "code",
   "execution_count": 33,
   "id": "b5b42672-2172-4092-86ea-f3479cf89d87",
   "metadata": {},
   "outputs": [
    {
     "data": {
      "text/html": [
       "<div>\n",
       "<style scoped>\n",
       "    .dataframe tbody tr th:only-of-type {\n",
       "        vertical-align: middle;\n",
       "    }\n",
       "\n",
       "    .dataframe tbody tr th {\n",
       "        vertical-align: top;\n",
       "    }\n",
       "\n",
       "    .dataframe thead th {\n",
       "        text-align: right;\n",
       "    }\n",
       "</style>\n",
       "<table border=\"1\" class=\"dataframe\">\n",
       "  <thead>\n",
       "    <tr style=\"text-align: right;\">\n",
       "      <th></th>\n",
       "      <th>Name</th>\n",
       "      <th>Age</th>\n",
       "      <th>Score</th>\n",
       "      <th>Passed</th>\n",
       "    </tr>\n",
       "  </thead>\n",
       "  <tbody>\n",
       "    <tr>\n",
       "      <th>0</th>\n",
       "      <td>Bob</td>\n",
       "      <td>30</td>\n",
       "      <td>85</td>\n",
       "      <td>True</td>\n",
       "    </tr>\n",
       "    <tr>\n",
       "      <th>1</th>\n",
       "      <td>Charlie</td>\n",
       "      <td>28</td>\n",
       "      <td>88</td>\n",
       "      <td>True</td>\n",
       "    </tr>\n",
       "    <tr>\n",
       "      <th>2</th>\n",
       "      <td>David</td>\n",
       "      <td>23</td>\n",
       "      <td>78</td>\n",
       "      <td>True</td>\n",
       "    </tr>\n",
       "  </tbody>\n",
       "</table>\n",
       "</div>"
      ],
      "text/plain": [
       "      Name  Age  Score Passed\n",
       "0      Bob   30     85   True\n",
       "1  Charlie   28     88   True\n",
       "2    David   23     78   True"
      ]
     },
     "execution_count": 33,
     "metadata": {},
     "output_type": "execute_result"
    }
   ],
   "source": [
    "# 결측치 제거\n",
    "df.dropna()          # 결측치가 포함된 행 전체 삭제"
   ]
  },
  {
   "cell_type": "code",
   "execution_count": 34,
   "id": "23d77fee-da90-4dbe-9db5-ace721bf26cd",
   "metadata": {},
   "outputs": [
    {
     "data": {
      "text/html": [
       "<div>\n",
       "<style scoped>\n",
       "    .dataframe tbody tr th:only-of-type {\n",
       "        vertical-align: middle;\n",
       "    }\n",
       "\n",
       "    .dataframe tbody tr th {\n",
       "        vertical-align: top;\n",
       "    }\n",
       "\n",
       "    .dataframe thead th {\n",
       "        text-align: right;\n",
       "    }\n",
       "</style>\n",
       "<table border=\"1\" class=\"dataframe\">\n",
       "  <thead>\n",
       "    <tr style=\"text-align: right;\">\n",
       "      <th></th>\n",
       "      <th>Name</th>\n",
       "      <th>Age</th>\n",
       "      <th>Score</th>\n",
       "      <th>Passed</th>\n",
       "    </tr>\n",
       "  </thead>\n",
       "  <tbody>\n",
       "    <tr>\n",
       "      <th>0</th>\n",
       "      <td>Bob</td>\n",
       "      <td>30</td>\n",
       "      <td>85</td>\n",
       "      <td>True</td>\n",
       "    </tr>\n",
       "    <tr>\n",
       "      <th>1</th>\n",
       "      <td>Charlie</td>\n",
       "      <td>28</td>\n",
       "      <td>88</td>\n",
       "      <td>True</td>\n",
       "    </tr>\n",
       "    <tr>\n",
       "      <th>2</th>\n",
       "      <td>David</td>\n",
       "      <td>23</td>\n",
       "      <td>78</td>\n",
       "      <td>True</td>\n",
       "    </tr>\n",
       "    <tr>\n",
       "      <th>3</th>\n",
       "      <td>David</td>\n",
       "      <td>23</td>\n",
       "      <td>78</td>\n",
       "      <td>82.25</td>\n",
       "    </tr>\n",
       "  </tbody>\n",
       "</table>\n",
       "</div>"
      ],
      "text/plain": [
       "      Name  Age  Score Passed\n",
       "0      Bob   30     85   True\n",
       "1  Charlie   28     88   True\n",
       "2    David   23     78   True\n",
       "3    David   23     78  82.25"
      ]
     },
     "execution_count": 34,
     "metadata": {},
     "output_type": "execute_result"
    }
   ],
   "source": [
    "# 결측치 대체\n",
    "df.fillna(0)         # 결측치 0으로 대체\n",
    "# 또는 평균값 등으로 대체\n",
    "df.fillna(df['Score'].mean(), inplace=True)\n",
    "df"
   ]
  },
  {
   "cell_type": "code",
   "execution_count": 35,
   "id": "324b683a-f24d-4e4c-99aa-0f60792fa9b3",
   "metadata": {},
   "outputs": [
    {
     "data": {
      "text/html": [
       "<div>\n",
       "<style scoped>\n",
       "    .dataframe tbody tr th:only-of-type {\n",
       "        vertical-align: middle;\n",
       "    }\n",
       "\n",
       "    .dataframe tbody tr th {\n",
       "        vertical-align: top;\n",
       "    }\n",
       "\n",
       "    .dataframe thead th {\n",
       "        text-align: right;\n",
       "    }\n",
       "</style>\n",
       "<table border=\"1\" class=\"dataframe\">\n",
       "  <thead>\n",
       "    <tr style=\"text-align: right;\">\n",
       "      <th></th>\n",
       "      <th>Name</th>\n",
       "      <th>Age</th>\n",
       "      <th>Score</th>\n",
       "      <th>Passed</th>\n",
       "    </tr>\n",
       "  </thead>\n",
       "  <tbody>\n",
       "    <tr>\n",
       "      <th>1</th>\n",
       "      <td>Charlie</td>\n",
       "      <td>28</td>\n",
       "      <td>88</td>\n",
       "      <td>True</td>\n",
       "    </tr>\n",
       "    <tr>\n",
       "      <th>0</th>\n",
       "      <td>Bob</td>\n",
       "      <td>30</td>\n",
       "      <td>85</td>\n",
       "      <td>True</td>\n",
       "    </tr>\n",
       "    <tr>\n",
       "      <th>2</th>\n",
       "      <td>David</td>\n",
       "      <td>23</td>\n",
       "      <td>78</td>\n",
       "      <td>True</td>\n",
       "    </tr>\n",
       "    <tr>\n",
       "      <th>3</th>\n",
       "      <td>David</td>\n",
       "      <td>23</td>\n",
       "      <td>78</td>\n",
       "      <td>82.25</td>\n",
       "    </tr>\n",
       "  </tbody>\n",
       "</table>\n",
       "</div>"
      ],
      "text/plain": [
       "      Name  Age  Score Passed\n",
       "1  Charlie   28     88   True\n",
       "0      Bob   30     85   True\n",
       "2    David   23     78   True\n",
       "3    David   23     78  82.25"
      ]
     },
     "execution_count": 35,
     "metadata": {},
     "output_type": "execute_result"
    }
   ],
   "source": [
    "# 행 정렬\n",
    "df.sort_values(by='Score', ascending=False, inplace=True)\n",
    "df"
   ]
  },
  {
   "cell_type": "code",
   "execution_count": 36,
   "id": "6c391598-483f-4cf5-962a-9d762bedf742",
   "metadata": {},
   "outputs": [
    {
     "data": {
      "text/html": [
       "<div>\n",
       "<style scoped>\n",
       "    .dataframe tbody tr th:only-of-type {\n",
       "        vertical-align: middle;\n",
       "    }\n",
       "\n",
       "    .dataframe tbody tr th {\n",
       "        vertical-align: top;\n",
       "    }\n",
       "\n",
       "    .dataframe thead th {\n",
       "        text-align: right;\n",
       "    }\n",
       "</style>\n",
       "<table border=\"1\" class=\"dataframe\">\n",
       "  <thead>\n",
       "    <tr style=\"text-align: right;\">\n",
       "      <th></th>\n",
       "      <th>Name</th>\n",
       "      <th>Age</th>\n",
       "      <th>Score</th>\n",
       "      <th>Passed</th>\n",
       "    </tr>\n",
       "  </thead>\n",
       "  <tbody>\n",
       "    <tr>\n",
       "      <th>1</th>\n",
       "      <td>Charlie</td>\n",
       "      <td>28</td>\n",
       "      <td>88</td>\n",
       "      <td>True</td>\n",
       "    </tr>\n",
       "    <tr>\n",
       "      <th>0</th>\n",
       "      <td>Bob</td>\n",
       "      <td>30</td>\n",
       "      <td>85</td>\n",
       "      <td>True</td>\n",
       "    </tr>\n",
       "    <tr>\n",
       "      <th>2</th>\n",
       "      <td>David</td>\n",
       "      <td>23</td>\n",
       "      <td>78</td>\n",
       "      <td>True</td>\n",
       "    </tr>\n",
       "  </tbody>\n",
       "</table>\n",
       "</div>"
      ],
      "text/plain": [
       "      Name  Age  Score Passed\n",
       "1  Charlie   28     88   True\n",
       "0      Bob   30     85   True\n",
       "2    David   23     78   True"
      ]
     },
     "execution_count": 36,
     "metadata": {},
     "output_type": "execute_result"
    }
   ],
   "source": [
    "# 중복 제거\n",
    "df.drop_duplicates(subset=['Name'], keep='first', inplace=True) # keep='first'는 첫 번째 항목 유지, 나머지 중복 행 삭제\n",
    "df"
   ]
  },
  {
   "cell_type": "markdown",
   "id": "915d19cf-36fe-4e1d-aa5f-90a72c524ed2",
   "metadata": {},
   "source": [
    "#### 그룹화 및 통계/집계 함수 활용"
   ]
  },
  {
   "cell_type": "code",
   "execution_count": 37,
   "id": "cd69e107-0814-45ff-8b14-5c634b5fa6a6",
   "metadata": {},
   "outputs": [
    {
     "name": "stdout",
     "output_type": "stream",
     "text": [
      "Name\n",
      "Bob        85.0\n",
      "Charlie    88.0\n",
      "David      78.0\n",
      "Name: Score, dtype: float64\n"
     ]
    }
   ],
   "source": [
    "# groupby를 활용한 데이터 집계\n",
    "group = df.groupby('Name')\n",
    "print(group['Score'].mean())"
   ]
  },
  {
   "cell_type": "code",
   "execution_count": 38,
   "id": "7f86deed-a3af-4a05-95d5-de5b6f093b73",
   "metadata": {},
   "outputs": [
    {
     "data": {
      "text/html": [
       "<div>\n",
       "<style scoped>\n",
       "    .dataframe tbody tr th:only-of-type {\n",
       "        vertical-align: middle;\n",
       "    }\n",
       "\n",
       "    .dataframe tbody tr th {\n",
       "        vertical-align: top;\n",
       "    }\n",
       "\n",
       "    .dataframe thead tr th {\n",
       "        text-align: left;\n",
       "    }\n",
       "\n",
       "    .dataframe thead tr:last-of-type th {\n",
       "        text-align: right;\n",
       "    }\n",
       "</style>\n",
       "<table border=\"1\" class=\"dataframe\">\n",
       "  <thead>\n",
       "    <tr>\n",
       "      <th></th>\n",
       "      <th colspan=\"3\" halign=\"left\">Score</th>\n",
       "    </tr>\n",
       "    <tr>\n",
       "      <th></th>\n",
       "      <th>mean</th>\n",
       "      <th>max</th>\n",
       "      <th>min</th>\n",
       "    </tr>\n",
       "    <tr>\n",
       "      <th>Name</th>\n",
       "      <th></th>\n",
       "      <th></th>\n",
       "      <th></th>\n",
       "    </tr>\n",
       "  </thead>\n",
       "  <tbody>\n",
       "    <tr>\n",
       "      <th>Bob</th>\n",
       "      <td>85.0</td>\n",
       "      <td>85</td>\n",
       "      <td>85</td>\n",
       "    </tr>\n",
       "    <tr>\n",
       "      <th>Charlie</th>\n",
       "      <td>88.0</td>\n",
       "      <td>88</td>\n",
       "      <td>88</td>\n",
       "    </tr>\n",
       "    <tr>\n",
       "      <th>David</th>\n",
       "      <td>78.0</td>\n",
       "      <td>78</td>\n",
       "      <td>78</td>\n",
       "    </tr>\n",
       "  </tbody>\n",
       "</table>\n",
       "</div>"
      ],
      "text/plain": [
       "        Score        \n",
       "         mean max min\n",
       "Name                 \n",
       "Bob      85.0  85  85\n",
       "Charlie  88.0  88  88\n",
       "David    78.0  78  78"
      ]
     },
     "execution_count": 38,
     "metadata": {},
     "output_type": "execute_result"
    }
   ],
   "source": [
    "# 다양한 집계 함수 활용\n",
    "df.groupby('Name').agg({'Score': ['mean', 'max', 'min']})"
   ]
  },
  {
   "cell_type": "code",
   "execution_count": 39,
   "id": "02a321fb-d263-4997-965f-a4a6cf7e5949",
   "metadata": {},
   "outputs": [
    {
     "name": "stdout",
     "output_type": "stream",
     "text": [
      "             Age      Score\n",
      "count   3.000000   3.000000\n",
      "mean   27.000000  83.666667\n",
      "std     3.605551   5.131601\n",
      "min    23.000000  78.000000\n",
      "25%    25.500000  81.500000\n",
      "50%    28.000000  85.000000\n",
      "75%    29.000000  86.500000\n",
      "max    30.000000  88.000000\n"
     ]
    }
   ],
   "source": [
    "# describe() 함수로 빠른 통계 요약\n",
    "print(df.describe())"
   ]
  },
  {
   "cell_type": "code",
   "execution_count": 40,
   "id": "856e7ed8-aac4-461c-9277-185ff33f7462",
   "metadata": {},
   "outputs": [
    {
     "name": "stdout",
     "output_type": "stream",
     "text": [
      "Name\n",
      "Charlie    1\n",
      "Bob        1\n",
      "David      1\n",
      "Name: count, dtype: int64\n"
     ]
    }
   ],
   "source": [
    "# value_counts()로 값 개수 세기\n",
    "print(df['Name'].value_counts())"
   ]
  },
  {
   "cell_type": "markdown",
   "id": "4dda89ff-80d6-4f24-979d-4b1540db2d6d",
   "metadata": {},
   "source": [
    "### **Matplotlib 기초**"
   ]
  },
  {
   "cell_type": "markdown",
   "id": "2327e985-712a-41f0-960c-1b70d43097a6",
   "metadata": {},
   "source": [
    "#### Matplotlib 기본 구조"
   ]
  },
  {
   "cell_type": "code",
   "execution_count": 41,
   "id": "dd5c079f-09cd-422f-b4e5-969fa5786200",
   "metadata": {},
   "outputs": [
    {
     "data": {
      "image/png": "[encoded data removed]",
      "text/plain": [
       "<Figure size 640x480 with 1 Axes>"
      ]
     },
     "metadata": {},
     "output_type": "display_data"
    }
   ],
   "source": [
    "import matplotlib.pyplot as plt\n",
    "\n",
    "# Figure와 Axis 생성\n",
    "fig, ax = plt.subplots()  # 기본 1개 축 생성\n",
    "\n",
    "# 데이터 준비\n",
    "x = [1, 2, 3, 4, 5]\n",
    "y = [10, 15, 13, 17, 20]\n",
    "\n",
    "# 그래프 그리기\n",
    "ax.plot(x, y)             # 선 그래프\n",
    "\n",
    "# 제목과 라벨 설정\n",
    "ax.set_title(\"Line Graph\")\n",
    "ax.set_xlabel(\"X\")\n",
    "ax.set_ylabel(\"Y\")\n",
    "\n",
    "# 그래프 표시\n",
    "plt.show()"
   ]
  },
  {
   "cell_type": "code",
   "execution_count": 42,
   "id": "7a552c4b-ad18-4685-ae02-23918d25576e",
   "metadata": {},
   "outputs": [
    {
     "data": {
      "image/png": "[encoded data removed]",
      "text/plain": [
       "<Figure size 640x480 with 1 Axes>"
      ]
     },
     "metadata": {},
     "output_type": "display_data"
    }
   ],
   "source": [
    "# 선 그래프\n",
    "plt.plot([1, 2, 3, 4], [10, 20, 15, 25], marker='o')\n",
    "plt.title(\"example: line graph\")\n",
    "plt.xlabel(\"X\")\n",
    "plt.ylabel(\"Y\")\n",
    "plt.show()"
   ]
  },
  {
   "cell_type": "code",
   "execution_count": 43,
   "id": "0792a31f-2d33-4b96-9580-b51968e6b06a",
   "metadata": {},
   "outputs": [
    {
     "data": {
      "image/png": "[encoded data removed]",
      "text/plain": [
       "<Figure size 640x480 with 1 Axes>"
      ]
     },
     "metadata": {},
     "output_type": "display_data"
    }
   ],
   "source": [
    "# 막대 그래프\n",
    "categories = ['A', 'B', 'C', 'D']\n",
    "values = [10, 24, 36, 18]\n",
    "\n",
    "plt.bar(categories, values, color='skyblue')\n",
    "plt.title(\"example: bar plot\")\n",
    "plt.xlabel(\"category\")\n",
    "plt.ylabel(\"value\")\n",
    "plt.show()"
   ]
  },
  {
   "cell_type": "code",
   "execution_count": 44,
   "id": "639e0396-897f-4f16-8764-6ee4900a9a2c",
   "metadata": {},
   "outputs": [
    {
     "data": {
      "image/png": "[encoded data removed]",
      "text/plain": [
       "<Figure size 640x480 with 1 Axes>"
      ]
     },
     "metadata": {},
     "output_type": "display_data"
    }
   ],
   "source": [
    "# 산점도\n",
    "x = [5, 7, 8, 5, 6, 7]\n",
    "y = [10, 14, 12, 11, 13, 15]\n",
    "\n",
    "plt.scatter(x, y, color='green')\n",
    "plt.title(\"example: scatter plot\")\n",
    "plt.xlabel(\"X\")\n",
    "plt.ylabel(\"Y\")\n",
    "plt.show()"
   ]
  },
  {
   "cell_type": "markdown",
   "id": "97d7850f-844a-490b-baaf-0a1c224515a7",
   "metadata": {},
   "source": [
    "#### Seaborn을 이용한 고급 시각화"
   ]
  },
  {
   "cell_type": "code",
   "execution_count": 45,
   "id": "d428b3d4-ec4f-43b4-934c-e42f34ee97eb",
   "metadata": {},
   "outputs": [],
   "source": [
    "import seaborn as sns\n",
    "import matplotlib.pyplot as plt"
   ]
  },
  {
   "cell_type": "code",
   "execution_count": 46,
   "id": "03b0d60c-64bc-4e41-8a35-809823b21df4",
   "metadata": {},
   "outputs": [
    {
     "data": {
      "image/png": "[encoded data removed]",
      "text/plain": [
       "<Figure size 640x480 with 2 Axes>"
      ]
     },
     "metadata": {},
     "output_type": "display_data"
    }
   ],
   "source": [
    "#  히트맵 (Heatmap) - 값의 크기를 색상으로 표현해 데이터 관계를 시각화\n",
    "import numpy as np\n",
    "\n",
    "data = np.random.rand(5, 5)\n",
    "sns.heatmap(data, annot=True, cmap='coolwarm')\n",
    "plt.title(\"example: heat-map\")\n",
    "plt.show()"
   ]
  },
  {
   "cell_type": "code",
   "execution_count": 47,
   "id": "dd2c29e9-ba49-4156-bca3-9d751def0e44",
   "metadata": {},
   "outputs": [
    {
     "data": {
      "image/png": "[encoded data removed]",
      "text/plain": [
       "<Figure size 640x480 with 1 Axes>"
      ]
     },
     "metadata": {},
     "output_type": "display_data"
    }
   ],
   "source": [
    "# 박스 플롯 (Box Plot) - 데이터 분포 및 이상치 시각화에 사용\n",
    "tips = sns.load_dataset(\"tips\")  # 예제 내장 데이터셋\n",
    "sns.boxplot(x=\"day\", y=\"total_bill\", data=tips)\n",
    "plt.title(\"example: box plot\")\n",
    "plt.show()"
   ]
  },
  {
   "cell_type": "code",
   "execution_count": 48,
   "id": "02492718-921b-4a49-abfe-71139fd000d4",
   "metadata": {},
   "outputs": [
    {
     "data": {
      "image/png": "[encoded data removed]",
      "text/plain": [
       "<Figure size 822.125x750 with 12 Axes>"
      ]
     },
     "metadata": {},
     "output_type": "display_data"
    }
   ],
   "source": [
    "# 페어 플롯 (Pair Plot) - 여러 변수의 분포와 상관관계를 한 번에 시각화\n",
    "sns.pairplot(tips, hue=\"smoker\")\n",
    "plt.show()"
   ]
  }
 ],
 "metadata": {
  "kernelspec": {
   "display_name": "test_keri",
   "language": "python",
   "name": "ai_course"
  },
  "language_info": {
   "codemirror_mode": {
    "name": "ipython",
    "version": 3
   },
   "file_extension": ".py",
   "mimetype": "text/x-python",
   "name": "python",
   "nbconvert_exporter": "python",
   "pygments_lexer": "ipython3",
   "version": "3.9.23"
  }
 },
 "nbformat": 4,
 "nbformat_minor": 5
}
