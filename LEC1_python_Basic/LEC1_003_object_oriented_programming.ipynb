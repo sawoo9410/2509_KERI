{
 "cells": [
  {
   "cell_type": "markdown",
   "id": "e1f99468-0acd-4d60-bf6d-3f235d27379e",
   "metadata": {},
   "source": [
    "### Created on 2025\n",
    "### @author: S.W"
   ]
  },
  {
   "cell_type": "markdown",
   "id": "733d66e2-f1ad-4b8a-a0fd-93566e064c60",
   "metadata": {},
   "source": [
    "### **객체 지향 프로그래밍**"
   ]
  },
  {
   "cell_type": "code",
   "execution_count": 1,
   "id": "de3d08e9-edfb-4be3-bcd6-b69c9c2fe71a",
   "metadata": {},
   "outputs": [],
   "source": [
    "# 생성자 init 예제\n",
    "class Person:\n",
    "    def __init__(self, name, age):\n",
    "        self.name = name    # 객체의 이름 속성 초기화\n",
    "        self.age = age      # 객체의 나이 속성 초기화\n",
    "\n",
    "    def greet(self):\n",
    "        print(f\"안녕하세요, 제 이름은 {self.name}이고, 나이는 {self.age}살입니다.\")"
   ]
  },
  {
   "cell_type": "markdown",
   "id": "945af69a-7246-419f-a1e4-f6e97bef4b9c",
   "metadata": {},
   "source": [
    "#### 객체 생성과 속성 및 메서드 사용"
   ]
  },
  {
   "cell_type": "code",
   "execution_count": 2,
   "id": "32e9369b-1eea-4fb3-826e-46e0bfc31e7c",
   "metadata": {},
   "outputs": [],
   "source": [
    "# 객체 생성 (인스턴스화)\n",
    "person1 = Person(\"홍길동\", 30)\n",
    "person2 = Person(\"김영희\", 25)"
   ]
  },
  {
   "cell_type": "code",
   "execution_count": 3,
   "id": "2fe17d02-3e1a-4db4-9c1e-217f61d87823",
   "metadata": {},
   "outputs": [
    {
     "name": "stdout",
     "output_type": "stream",
     "text": [
      "홍길동\n",
      "31\n"
     ]
    }
   ],
   "source": [
    "# 속성 접근 및 수정\n",
    "print(person1.name)  # \"홍길동\"\n",
    "person1.age = 31     # 나이 수정\n",
    "print(person1.age)   # 31"
   ]
  },
  {
   "cell_type": "code",
   "execution_count": 4,
   "id": "50948d9e-3662-4a29-b7df-0de896f0a55e",
   "metadata": {},
   "outputs": [
    {
     "name": "stdout",
     "output_type": "stream",
     "text": [
      "안녕하세요, 제 이름은 홍길동이고, 나이는 31살입니다.\n",
      "안녕하세요, 제 이름은 김영희이고, 나이는 25살입니다.\n"
     ]
    }
   ],
   "source": [
    "# 메서드 호출\n",
    "person1.greet()  # 안녕하세요, 제 이름은 홍길동이고, 나이는 31살입니다.\n",
    "person2.greet()  # 안녕하세요, 제 이름은 김영희이고, 나이는 25살입니다."
   ]
  },
  {
   "cell_type": "markdown",
   "id": "9a15fa84-6928-4668-bb3a-ea05ece3315a",
   "metadata": {},
   "source": [
    "#### 클래스 내 속성과 메서드 상세"
   ]
  },
  {
   "cell_type": "code",
   "execution_count": 5,
   "id": "3d547edf-fc81-41ee-9fb3-f72f3aad4a47",
   "metadata": {},
   "outputs": [
    {
     "name": "stdout",
     "output_type": "stream",
     "text": [
      "4\n",
      "4\n",
      "blue\n"
     ]
    }
   ],
   "source": [
    "# 인스턴스 변수 vs 클래스 변수\n",
    "class Car:\n",
    "    wheels = 4  # 클래스 변수(모든 차가 4바퀴)\n",
    "\n",
    "    def __init__(self, color):\n",
    "        self.color = color  # 인스턴스 변수\n",
    "\n",
    "c1 = Car(\"red\")\n",
    "c2 = Car(\"blue\")\n",
    "print(Car.wheels)  # 4\n",
    "print(c1.wheels)   # 4\n",
    "print(c2.color)    # blue"
   ]
  },
  {
   "cell_type": "code",
   "execution_count": 6,
   "id": "14085c98-a55d-46c3-a5cc-5d1a8a598337",
   "metadata": {},
   "outputs": [],
   "source": [
    "# 메서드 작성\n",
    "class Rectangle:\n",
    "    def __init__(self, width, height):\n",
    "        self.width = width\n",
    "        self.height = height\n",
    "\n",
    "    def area(self):\n",
    "        return self.width * self.height\n",
    "\n",
    "    def perimeter(self):\n",
    "        return 2 * (self.width + self.height)"
   ]
  },
  {
   "cell_type": "code",
   "execution_count": 7,
   "id": "92bce7c1-cb17-48a1-8479-396977612d87",
   "metadata": {},
   "outputs": [
    {
     "name": "stdout",
     "output_type": "stream",
     "text": [
      "15\n",
      "16\n"
     ]
    }
   ],
   "source": [
    "# 객체 생성 후 메서드 호출\n",
    "rect = Rectangle(5, 3)\n",
    "print(rect.area())      # 15\n",
    "print(rect.perimeter()) # 16"
   ]
  },
  {
   "cell_type": "code",
   "execution_count": 8,
   "id": "916b1dae-0fe9-4576-bc32-22ecdcf2b416",
   "metadata": {},
   "outputs": [],
   "source": [
    "# 예제 코드\n",
    "class Person:\n",
    "    species = \"인간\"  # 클래스 변수\n",
    "\n",
    "    def __init__(self, name, age):\n",
    "        self.name = name    # 인스턴스 변수\n",
    "        self.age = age\n",
    "\n",
    "    def greet(self):\n",
    "        print(f\"안녕하세요, 제 이름은 {self.name}이고, 나이는 {self.age}살입니다.\")\n",
    "\n",
    "    def have_birthday(self):\n",
    "        self.age += 1\n",
    "        print(f\"생일 축하합니다! {self.name}님의 나이는 이제 {self.age}살입니다.\")"
   ]
  },
  {
   "cell_type": "code",
   "execution_count": 9,
   "id": "3222450a-a289-43e3-bc53-a67ee11ea412",
   "metadata": {},
   "outputs": [],
   "source": [
    "# 객체 생성\n",
    "p1 = Person(\"홍길동\", 30)\n",
    "p2 = Person(\"김영희\", 25)"
   ]
  },
  {
   "cell_type": "code",
   "execution_count": 10,
   "id": "9d1c20e0-e861-4353-9096-970a84ef0f2d",
   "metadata": {},
   "outputs": [
    {
     "name": "stdout",
     "output_type": "stream",
     "text": [
      "안녕하세요, 제 이름은 홍길동이고, 나이는 30살입니다.\n",
      "안녕하세요, 제 이름은 김영희이고, 나이는 25살입니다.\n"
     ]
    }
   ],
   "source": [
    "# 메서드 호출\n",
    "p1.greet()            # 안녕하세요, 제 이름은 홍길동이고, 나이는 30살입니다.\n",
    "p2.greet()            # 안녕하세요, 제 이름은 김영희이고, 나이는 25살입니다."
   ]
  },
  {
   "cell_type": "code",
   "execution_count": 11,
   "id": "ad0d239c-c39f-424c-b67e-8e7043fcb83c",
   "metadata": {},
   "outputs": [
    {
     "name": "stdout",
     "output_type": "stream",
     "text": [
      "생일 축하합니다! 김영희님의 나이는 이제 26살입니다.\n"
     ]
    }
   ],
   "source": [
    "# 속성 수정 및 메서드 활용\n",
    "p2.have_birthday()    # 생일 축하합니다! 김영희님의 나이는 이제 26살입니다."
   ]
  },
  {
   "cell_type": "code",
   "execution_count": 12,
   "id": "ece441f2-de30-4e79-98c7-a53f71e885b2",
   "metadata": {},
   "outputs": [
    {
     "name": "stdout",
     "output_type": "stream",
     "text": [
      "인간\n",
      "인간\n"
     ]
    }
   ],
   "source": [
    "# 클래스 변수 접근\n",
    "print(Person.species)  # 인간\n",
    "print(p1.species)      # 인간"
   ]
  },
  {
   "cell_type": "markdown",
   "id": "d72dd325-0a9f-430d-b2f5-2f5988e6f492",
   "metadata": {},
   "source": [
    "### **상속(Inheritance)**"
   ]
  },
  {
   "cell_type": "code",
   "execution_count": 13,
   "id": "2f322c74-f8ed-4a73-b4d2-bedf38d788de",
   "metadata": {},
   "outputs": [],
   "source": [
    "class Animal:\n",
    "    def __init__(self, name):\n",
    "        self.name = name\n",
    "    \n",
    "    def speak(self):\n",
    "        print(f\"{self.name}가 소리를 냅니다.\")\n",
    "\n",
    "class Dog(Animal):\n",
    "    def speak(self):\n",
    "        # 메서드 오버라이딩(Method Overriding) \n",
    "        print(f\"{self.name}가 멍멍!\")\n",
    "\n",
    "class Cat(Animal):\n",
    "    def speak(self):\n",
    "        # 메서드 오버라이딩(Method Overriding) \n",
    "        print(f\"{self.name}가 야옹!\")"
   ]
  },
  {
   "cell_type": "code",
   "execution_count": 14,
   "id": "3fe526ce-6a20-4b60-b4eb-b5ce4b172b94",
   "metadata": {},
   "outputs": [
    {
     "name": "stdout",
     "output_type": "stream",
     "text": [
      "초코가 멍멍!\n",
      "나비가 야옹!\n"
     ]
    }
   ],
   "source": [
    "dog = Dog(\"초코\")\n",
    "cat = Cat(\"나비\")\n",
    "\n",
    "dog.speak()  # 초코가 멍멍!\n",
    "cat.speak()  # 나비가 야옹!"
   ]
  },
  {
   "cell_type": "markdown",
   "id": "8de71d17-9dcc-49a7-a3d0-a132aa3ccf5b",
   "metadata": {},
   "source": [
    "### **다형성(Polymorphism)**"
   ]
  },
  {
   "cell_type": "code",
   "execution_count": 15,
   "id": "5c6585d0-5ed5-4306-93b7-87d0fc4f6bcd",
   "metadata": {},
   "outputs": [
    {
     "name": "stdout",
     "output_type": "stream",
     "text": [
      "초코가 멍멍!\n",
      "나비가 야옹!\n"
     ]
    }
   ],
   "source": [
    "def animal_sound(animal):\n",
    "    animal.speak()\n",
    "\n",
    "animal_sound(dog)  # 초코가 멍멍!\n",
    "animal_sound(cat)  # 나비가 야옹!"
   ]
  },
  {
   "cell_type": "markdown",
   "id": "f714e8d8-8dbc-4e32-87d4-d343d8ff936f",
   "metadata": {},
   "source": [
    "### **함수형 프로그래밍 요소**"
   ]
  },
  {
   "cell_type": "markdown",
   "id": "c6375737-5feb-460a-96e9-3e1bd4be8047",
   "metadata": {},
   "source": [
    "#### 람다 함수"
   ]
  },
  {
   "cell_type": "code",
   "execution_count": 16,
   "id": "1a50151a-39ce-45df-8dad-ec5772bb83e6",
   "metadata": {},
   "outputs": [
    {
     "name": "stdout",
     "output_type": "stream",
     "text": [
      "25\n"
     ]
    }
   ],
   "source": [
    "square = lambda x: x ** 2\n",
    "print(square(5))  # 25"
   ]
  },
  {
   "cell_type": "code",
   "execution_count": 17,
   "id": "1afac9b7-08be-4d2e-adb6-5c9429fefbfb",
   "metadata": {},
   "outputs": [
    {
     "name": "stdout",
     "output_type": "stream",
     "text": [
      "10\n"
     ]
    }
   ],
   "source": [
    "# 여러 매개변수 예제\n",
    "add = lambda x, y: x + y\n",
    "print(add(3, 7))  # 10"
   ]
  },
  {
   "cell_type": "markdown",
   "id": "08bf61d1-cb63-447a-9981-b0f0eebddd0d",
   "metadata": {},
   "source": [
    "#### map 함수"
   ]
  },
  {
   "cell_type": "code",
   "execution_count": 18,
   "id": "da144e37-3290-458e-9485-3d22b4b949b0",
   "metadata": {},
   "outputs": [
    {
     "name": "stdout",
     "output_type": "stream",
     "text": [
      "[1, 4, 9, 16, 25]\n"
     ]
    }
   ],
   "source": [
    "numbers = [1, 2, 3, 4, 5]\n",
    "squares = list(map(lambda x: x**2, numbers))\n",
    "print(squares)  # [1, 4, 9, 16, 25]"
   ]
  },
  {
   "cell_type": "markdown",
   "id": "28d4f2da-5335-46c2-b2b1-342952132327",
   "metadata": {},
   "source": [
    "#### filter 함수"
   ]
  },
  {
   "cell_type": "code",
   "execution_count": 19,
   "id": "634a9bea-8fb2-4489-b329-484e5cd56006",
   "metadata": {},
   "outputs": [
    {
     "name": "stdout",
     "output_type": "stream",
     "text": [
      "[2, 4]\n"
     ]
    }
   ],
   "source": [
    "numbers = [1, 2, 3, 4, 5]\n",
    "evens = list(filter(lambda x: x % 2 == 0, numbers))\n",
    "print(evens)  # [2, 4]"
   ]
  },
  {
   "cell_type": "markdown",
   "id": "ef5027b8-9adf-47d6-96bd-a29322ec1783",
   "metadata": {},
   "source": [
    "#### reduce 함수"
   ]
  },
  {
   "cell_type": "code",
   "execution_count": 20,
   "id": "b46f785e-8ad5-4577-a6d1-429846902dd3",
   "metadata": {},
   "outputs": [
    {
     "name": "stdout",
     "output_type": "stream",
     "text": [
      "15\n"
     ]
    }
   ],
   "source": [
    "from functools import reduce\n",
    "\n",
    "numbers = [1, 2, 3, 4, 5]\n",
    "sum_result = reduce(lambda x, y: x + y, numbers)\n",
    "print(sum_result)  # 15"
   ]
  }
 ],
 "metadata": {
  "kernelspec": {
   "display_name": "test_keri",
   "language": "python",
   "name": "ai_course"
  },
  "language_info": {
   "codemirror_mode": {
    "name": "ipython",
    "version": 3
   },
   "file_extension": ".py",
   "mimetype": "text/x-python",
   "name": "python",
   "nbconvert_exporter": "python",
   "pygments_lexer": "ipython3",
   "version": "3.9.23"
  }
 },
 "nbformat": 4,
 "nbformat_minor": 5
}
