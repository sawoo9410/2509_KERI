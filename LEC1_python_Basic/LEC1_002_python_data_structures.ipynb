{
 "cells": [
  {
   "cell_type": "markdown",
   "id": "5005e077-c6aa-4465-87ab-ee5271ef2e12",
   "metadata": {},
   "source": [
    "### Created on 2025\n",
    "### @author: S.W"
   ]
  },
  {
   "cell_type": "markdown",
   "id": "2bfd7416-aa36-474f-b907-64a6fad584a1",
   "metadata": {},
   "source": [
    "### **기본 자료구조 소개**"
   ]
  },
  {
   "cell_type": "markdown",
   "id": "b836eeb6-396c-4f12-839b-54629ba2c5b5",
   "metadata": {},
   "source": [
    "#### list"
   ]
  },
  {
   "cell_type": "code",
   "execution_count": 1,
   "id": "47787b30-580d-428b-9e12-7aef88834145",
   "metadata": {},
   "outputs": [],
   "source": [
    "# 생성 예제\n",
    "fruits = [\"apple\", \"banana\", \"cherry\"]\n",
    "numbers = [1, 2, 3, 4]\n",
    "mixed = [1, \"two\", 3.0, True]"
   ]
  },
  {
   "cell_type": "code",
   "execution_count": 2,
   "id": "84a2d05c-582e-4082-877b-b575bd0ca37a",
   "metadata": {},
   "outputs": [
    {
     "name": "stdout",
     "output_type": "stream",
     "text": [
      "apple\n",
      "cherry\n"
     ]
    }
   ],
   "source": [
    "# 인덱싱: 특정 위치 요소 접근\n",
    "print(fruits[0])  # 'apple'\n",
    "print(fruits[-1]) # 'cherry' (뒤에서 첫 번째)"
   ]
  },
  {
   "cell_type": "code",
   "execution_count": 3,
   "id": "643d304b-3951-467b-b86f-c074c9759856",
   "metadata": {},
   "outputs": [
    {
     "name": "stdout",
     "output_type": "stream",
     "text": [
      "['apple', 'banana']\n",
      "['apple', 'banana']\n",
      "['banana', 'cherry']\n"
     ]
    }
   ],
   "source": [
    "# 슬라이싱: 부분 리스트 추출\n",
    "print(fruits[0:2])  # ['apple', 'banana']\n",
    "print(fruits[:2])   # 시작부터 2번째 전까지\n",
    "print(fruits[1:])   # 1번째부터 끝까지"
   ]
  },
  {
   "cell_type": "code",
   "execution_count": 4,
   "id": "faf1850c-aab1-40c9-928c-991bfafdb3a5",
   "metadata": {},
   "outputs": [
    {
     "name": "stdout",
     "output_type": "stream",
     "text": [
      "['grape', 'cherry', 'orange']\n"
     ]
    }
   ],
   "source": [
    "# 추가/삭제\n",
    "fruits.append(\"orange\")   # 맨 끝에 추가\n",
    "fruits.insert(1, \"grape\") # 특정 위치에 삽입\n",
    "fruits.remove(\"banana\")   # 특정 값 삭제\n",
    "del fruits[0]             # 인덱스 위치 삭제\n",
    "\n",
    "print(fruits)"
   ]
  },
  {
   "cell_type": "code",
   "execution_count": 5,
   "id": "9978c351-262f-4f96-8b20-a9205d2a04fd",
   "metadata": {},
   "outputs": [
    {
     "name": "stdout",
     "output_type": "stream",
     "text": [
      "grape\n",
      "cherry\n",
      "orange\n"
     ]
    }
   ],
   "source": [
    "# 반복문과 연계\n",
    "for fruit in fruits:\n",
    "    print(fruit)"
   ]
  },
  {
   "cell_type": "markdown",
   "id": "3d81ef1c-7fd2-4aa5-8704-0369ead465c7",
   "metadata": {},
   "source": [
    "#### tuple"
   ]
  },
  {
   "cell_type": "code",
   "execution_count": 6,
   "id": "95fa128a-bb5d-42d2-ba3a-33880348c4ac",
   "metadata": {},
   "outputs": [],
   "source": [
    "# 생성 예제\n",
    "point = (10, 20)\n",
    "colors = (\"red\", \"green\", \"blue\")\n",
    "single = (5,)  # 요소가 하나인 튜플은 콤마 꼭 필요"
   ]
  },
  {
   "cell_type": "code",
   "execution_count": 7,
   "id": "63bb8679-e2a1-453f-af6d-b19ef304e5bd",
   "metadata": {},
   "outputs": [
    {
     "name": "stdout",
     "output_type": "stream",
     "text": [
      "10\n"
     ]
    }
   ],
   "source": [
    "# 요소 접근은 리스트와 동일 (인덱싱 가능)\n",
    "print(point[0])  # 10"
   ]
  },
  {
   "cell_type": "code",
   "execution_count": 8,
   "id": "4c9383ff-d0e0-4c95-88fb-80b95c8ec3a1",
   "metadata": {},
   "outputs": [
    {
     "ename": "TypeError",
     "evalue": "'tuple' object does not support item assignment",
     "output_type": "error",
     "traceback": [
      "\u001b[0;31m---------------------------------------------------------------------------\u001b[0m",
      "\u001b[0;31mTypeError\u001b[0m                                 Traceback (most recent call last)",
      "Cell \u001b[0;32mIn[8], line 2\u001b[0m\n\u001b[1;32m      1\u001b[0m \u001b[38;5;66;03m# 튜플은 변경 불가므로, 변경 시도 시 오류 발생\u001b[39;00m\n\u001b[0;32m----> 2\u001b[0m \u001b[43mpoint\u001b[49m\u001b[43m[\u001b[49m\u001b[38;5;241;43m0\u001b[39;49m\u001b[43m]\u001b[49m \u001b[38;5;241m=\u001b[39m \u001b[38;5;241m15\u001b[39m  \u001b[38;5;66;03m# TypeError 발생\u001b[39;00m\n",
      "\u001b[0;31mTypeError\u001b[0m: 'tuple' object does not support item assignment"
     ]
    }
   ],
   "source": [
    "# 튜플은 변경 불가므로, 변경 시도 시 오류 발생\n",
    "point[0] = 15  # TypeError 발생"
   ]
  },
  {
   "cell_type": "markdown",
   "id": "22e7122a-461f-420e-9397-e628bf1d60b4",
   "metadata": {},
   "source": [
    "#### set"
   ]
  },
  {
   "cell_type": "code",
   "execution_count": 9,
   "id": "7f6ddd10-cb79-495c-b268-1477f08f8eb2",
   "metadata": {},
   "outputs": [
    {
     "name": "stdout",
     "output_type": "stream",
     "text": [
      "{1, 2, 3, 4}\n"
     ]
    }
   ],
   "source": [
    "# 생성 예제\n",
    "numbers = {1, 2, 3, 3, 4}   # 중복 3은 하나만 저장됨\n",
    "print(numbers)              # {1, 2, 3, 4}"
   ]
  },
  {
   "cell_type": "code",
   "execution_count": 10,
   "id": "d71aeddb-827d-45e5-a3de-5a1d2ccac53a",
   "metadata": {},
   "outputs": [
    {
     "name": "stdout",
     "output_type": "stream",
     "text": [
      "{1, 2, 3, 4, 5}\n",
      "{3}\n",
      "{1, 2}\n"
     ]
    }
   ],
   "source": [
    "# 집합 연산 예제\n",
    "a = {1, 2, 3}\n",
    "b = {3, 4, 5}\n",
    "print(a | b)  # 합집합 {1, 2, 3, 4, 5}\n",
    "print(a & b)  # 교집합 {3}\n",
    "print(a - b)  # 차집합 {1, 2}"
   ]
  },
  {
   "cell_type": "code",
   "execution_count": 11,
   "id": "7b00e8be-5d22-4bbf-aa81-de49067e4abd",
   "metadata": {},
   "outputs": [
    {
     "name": "stdout",
     "output_type": "stream",
     "text": [
      "{1, 3, 6}\n"
     ]
    }
   ],
   "source": [
    "# 추가/삭제 메서드\n",
    "a.add(6)      # 요소 추가\n",
    "a.remove(2)   # 요소 삭제 (없으면 오류)\n",
    "a.discard(10) # 요소 삭제 (없어도 오류 없음)\n",
    "print(a)"
   ]
  },
  {
   "cell_type": "markdown",
   "id": "f29fe9e7-96e3-4fcb-87db-fc333861e7a9",
   "metadata": {},
   "source": [
    "#### dictionary"
   ]
  },
  {
   "cell_type": "code",
   "execution_count": 12,
   "id": "083313da-3e69-46d1-8f97-03a95e02e3cd",
   "metadata": {},
   "outputs": [
    {
     "name": "stdout",
     "output_type": "stream",
     "text": [
      "{'name': 'Alice', 'age': 25, 'is_student': True}\n"
     ]
    }
   ],
   "source": [
    "# 생성 예제\n",
    "person = {\"name\": \"Alice\", \"age\": 25, \"is_student\": True}\n",
    "print(person)"
   ]
  },
  {
   "cell_type": "code",
   "execution_count": 13,
   "id": "d89ecee2-2a4d-4ba2-9194-47860ea079e3",
   "metadata": {},
   "outputs": [
    {
     "name": "stdout",
     "output_type": "stream",
     "text": [
      "Alice\n",
      "{'name': 'Alice', 'age': 26, 'email': 'a@b.com'}\n"
     ]
    }
   ],
   "source": [
    "# 접근, 추가, 수정, 삭제\n",
    "print(person[\"name\"])          # 'Alice'\n",
    "person[\"age\"] = 26             # 수정\n",
    "person[\"email\"] = \"a@b.com\"    # 추가\n",
    "del person[\"is_student\"]       # 삭제\n",
    "print(person)"
   ]
  },
  {
   "cell_type": "code",
   "execution_count": 14,
   "id": "48b90273-ea2b-4152-9f8c-6c4e29da1f23",
   "metadata": {},
   "outputs": [
    {
     "name": "stdout",
     "output_type": "stream",
     "text": [
      "이름 있음\n"
     ]
    }
   ],
   "source": [
    "# 키 존재 여부 확인\n",
    "if \"name\" in person:\n",
    "    print(\"이름 있음\")"
   ]
  },
  {
   "cell_type": "code",
   "execution_count": 15,
   "id": "f6d7b107-e054-4ebf-9c19-1ea3fe5eec4f",
   "metadata": {},
   "outputs": [
    {
     "name": "stdout",
     "output_type": "stream",
     "text": [
      "name: Alice\n",
      "age: 26\n",
      "email: a@b.com\n"
     ]
    }
   ],
   "source": [
    "# 반복문 예제\n",
    "for key, value in person.items():\n",
    "    print(f\"{key}: {value}\")"
   ]
  },
  {
   "cell_type": "code",
   "execution_count": 16,
   "id": "dc15068b-2b4f-443b-aef6-1c46134092b1",
   "metadata": {},
   "outputs": [
    {
     "name": "stdout",
     "output_type": "stream",
     "text": [
      "list: [], tuple: (), set: set(), dictionary: {}\n"
     ]
    }
   ],
   "source": [
    "# 빈 자료구조 생성법\n",
    "empty_list = []\n",
    "empty_tuple = ()\n",
    "empty_set = set()\n",
    "empty_dict = {}\n",
    "\n",
    "print(f\"list: {empty_list}, tuple: {empty_tuple}, set: {empty_set}, dictionary: {empty_dict}\")"
   ]
  },
  {
   "cell_type": "code",
   "execution_count": 17,
   "id": "e882bf35-f353-4b21-8722-70f22a4c3ddd",
   "metadata": {},
   "outputs": [
    {
     "name": "stdout",
     "output_type": "stream",
     "text": [
      "(1, 2, 3) <class 'tuple'>\n",
      "[1, 2, 3] <class 'list'>\n"
     ]
    }
   ],
   "source": [
    "# 자료구조 변환\n",
    "list_to_tuple = tuple([1, 2, 3])\n",
    "print(list_to_tuple, type(list_to_tuple))\n",
    "\n",
    "set_to_list = list({1, 2, 3})\n",
    "print(set_to_list, type(set_to_list))"
   ]
  },
  {
   "cell_type": "markdown",
   "id": "cd485d14-aa40-47f3-9061-afc13cc6b54e",
   "metadata": {},
   "source": [
    "### **고급 자료구조 활용**"
   ]
  },
  {
   "cell_type": "markdown",
   "id": "34d7134e-6a93-4f52-bb3e-09a6c26e27ea",
   "metadata": {},
   "source": [
    "#### 리스트 컴프리헨션 (List Comprehension)"
   ]
  },
  {
   "cell_type": "code",
   "execution_count": 18,
   "id": "1f30aa89-d5a8-4000-8f0b-778b8b50337f",
   "metadata": {},
   "outputs": [
    {
     "name": "stdout",
     "output_type": "stream",
     "text": [
      "[1, 4, 9, 16, 25]\n"
     ]
    }
   ],
   "source": [
    "# 1부터 5까지 제곱값 리스트 만들기\n",
    "squares = [x**2 for x in range(1, 6)]\n",
    "print(squares)  # [1, 4, 9, 16, 25]"
   ]
  },
  {
   "cell_type": "code",
   "execution_count": 19,
   "id": "5598558f-32d1-412c-a3ed-cdeba6f9e63f",
   "metadata": {},
   "outputs": [
    {
     "name": "stdout",
     "output_type": "stream",
     "text": [
      "['apple!', 'banana!', 'cherry!']\n"
     ]
    }
   ],
   "source": [
    "# 기존 리스트 각 요소에 \"!\" 붙이기\n",
    "words = [\"apple\", \"banana\", \"cherry\"]\n",
    "excited_words = [word + \"!\" for word in words]\n",
    "print(excited_words)  # ['apple!', 'banana!', 'cherry!']"
   ]
  },
  {
   "cell_type": "code",
   "execution_count": 20,
   "id": "a97278ef-bd06-4eb7-a655-ac535769f2cf",
   "metadata": {},
   "outputs": [
    {
     "name": "stdout",
     "output_type": "stream",
     "text": [
      "[2, 4, 6, 8, 10, 12, 14, 16, 18, 20]\n"
     ]
    }
   ],
   "source": [
    "# 조건문 포함 리스트 컴프리헨션\n",
    "# 1~20에서 짝수만 리스트로 생성\n",
    "evens = [x for x in range(1, 21) if x % 2 == 0]\n",
    "print(evens)  # [2, 4, 6, 8, 10, 12, 14, 16, 18, 20]"
   ]
  },
  {
   "cell_type": "code",
   "execution_count": 21,
   "id": "20f842cc-9903-4b27-8bc5-26269a28a0a6",
   "metadata": {},
   "outputs": [
    {
     "name": "stdout",
     "output_type": "stream",
     "text": [
      "[-1, 2, -3, 4, -5]\n"
     ]
    }
   ],
   "source": [
    "# 조건문과 else 같이 쓰기\n",
    "result = [x if x % 2 == 0 else -x for x in range(1, 6)]\n",
    "print(result)  # [-1, 2, -3, 4, -5]"
   ]
  },
  {
   "cell_type": "markdown",
   "id": "ad297519-095a-483a-a0c0-e850ace18428",
   "metadata": {},
   "source": [
    "#### 딕셔너리 컴프리헨션 (Dictionary Comprehension)"
   ]
  },
  {
   "cell_type": "code",
   "execution_count": 22,
   "id": "d39c611e-680e-4fbe-84d1-ef3d74b9ebb8",
   "metadata": {},
   "outputs": [
    {
     "name": "stdout",
     "output_type": "stream",
     "text": [
      "{1: 1, 2: 4, 3: 9, 4: 16, 5: 25}\n"
     ]
    }
   ],
   "source": [
    "# 1~5 정수와 그 제곱을 키-값 쌍으로 가진 딕셔너리 생성\n",
    "squares_dict = {x: x**2 for x in range(1, 6)}\n",
    "print(squares_dict)  # {1: 1, 2: 4, 3: 9, 4: 16, 5: 25}"
   ]
  },
  {
   "cell_type": "code",
   "execution_count": 23,
   "id": "7ac91d41-0240-4e56-a6ae-ccb87cf79848",
   "metadata": {},
   "outputs": [
    {
     "name": "stdout",
     "output_type": "stream",
     "text": [
      "{'apple': 5, 'banana': 6, 'cherry': 6}\n"
     ]
    }
   ],
   "source": [
    "# 리스트에서 이름과 길이의 딕셔너리 만들기\n",
    "words = [\"apple\", \"banana\", \"cherry\"]\n",
    "lengths = {word: len(word) for word in words}\n",
    "print(lengths)  # {'apple': 5, 'banana': 6, 'cherry': 6}"
   ]
  },
  {
   "cell_type": "code",
   "execution_count": 24,
   "id": "1ed12af2-fd45-4df2-8b29-17259a113ee6",
   "metadata": {},
   "outputs": [
    {
     "name": "stdout",
     "output_type": "stream",
     "text": [
      "{2: 4, 4: 16, 6: 36, 8: 64, 10: 100}\n"
     ]
    }
   ],
   "source": [
    "# 조건문 포함\n",
    "# 값이 짝수인 경우만 포함\n",
    "even_squares = {x: x**2 for x in range(1, 11) if x % 2 == 0}\n",
    "print(even_squares)  # {2: 4, 4: 16, 6: 36, 8: 64, 10: 100}"
   ]
  },
  {
   "cell_type": "markdown",
   "id": "ceff94b8-6421-4818-aa02-60cf5b3c5a0c",
   "metadata": {},
   "source": [
    "#### 셋 컴프리헨션 (Set Comprehension)"
   ]
  },
  {
   "cell_type": "code",
   "execution_count": 25,
   "id": "4a18691a-4f47-47b2-b0f9-4add2d2293eb",
   "metadata": {},
   "outputs": [
    {
     "name": "stdout",
     "output_type": "stream",
     "text": [
      "{0, 1}\n"
     ]
    }
   ],
   "source": [
    "# 1부터 10까지 수 중 제곱 후 3으로 나눈 나머지의 집합 생성\n",
    "mod_set = {x**2 % 3 for x in range(1, 11)}\n",
    "print(mod_set)  # {0, 1, 2} (서로 다른 나머지만 저장됨)"
   ]
  },
  {
   "cell_type": "code",
   "execution_count": 26,
   "id": "5770cd87-323f-4816-adf4-eff627d7bb91",
   "metadata": {},
   "outputs": [
    {
     "name": "stdout",
     "output_type": "stream",
     "text": [
      "{1, 2, 3, 4}\n"
     ]
    }
   ],
   "source": [
    "# 리스트에서 중복 제거 효과\n",
    "nums = [1, 2, 2, 3, 3, 3, 4]\n",
    "unique_nums = {x for x in nums}\n",
    "print(unique_nums)  # {1, 2, 3, 4}"
   ]
  },
  {
   "cell_type": "code",
   "execution_count": 27,
   "id": "50f6634e-6ca0-428e-afa6-91d6553ce2a2",
   "metadata": {},
   "outputs": [
    {
     "name": "stdout",
     "output_type": "stream",
     "text": [
      "[1, 4, 9, 16, 25]\n",
      "[1, 4, 9, 16, 25]\n"
     ]
    }
   ],
   "source": [
    "#### 컴프리헨션 비교\n",
    "# 일반적인 for 반복문을 이용해 리스트 생성\n",
    "squares = []\n",
    "for x in range(1, 6):\n",
    "    squares.append(x**2)\n",
    "print(squares)\n",
    "\n",
    "# 리스트 컴프리헨션을 이용한 간결한 표현\n",
    "squares = [x**2 for x in range(1, 6)]\n",
    "print(squares)"
   ]
  },
  {
   "cell_type": "markdown",
   "id": "bb7126a9-4f0e-4b95-8154-730eae19ddfe",
   "metadata": {},
   "source": [
    "### **문자열 처리**"
   ]
  },
  {
   "cell_type": "markdown",
   "id": "2a8d5441-6ccf-4a7f-930f-f1a033b30211",
   "metadata": {},
   "source": [
    "#### 문자열 인덱싱과 슬라이싱"
   ]
  },
  {
   "cell_type": "code",
   "execution_count": 28,
   "id": "6f161395-44bd-480c-8904-76400ce3f8d1",
   "metadata": {},
   "outputs": [
    {
     "name": "stdout",
     "output_type": "stream",
     "text": [
      "P\n",
      "h\n",
      "n\n",
      "o\n"
     ]
    }
   ],
   "source": [
    "# 인덱싱\n",
    "s = \"Python\"\n",
    "print(s[0])   # 'P' (첫 글자)\n",
    "print(s[3])   # 'h' (네 번째 글자)\n",
    "print(s[-1])  # 'n' (마지막 글자)\n",
    "print(s[-2])  # 'o' (끝에서 두 번째 글자)"
   ]
  },
  {
   "cell_type": "code",
   "execution_count": 29,
   "id": "6f0722d7-b2e6-4c0b-8bfe-d899535c5741",
   "metadata": {},
   "outputs": [
    {
     "name": "stdout",
     "output_type": "stream",
     "text": [
      "Hello\n",
      "Hello\n",
      "Python!\n",
      "Hlo yhn\n",
      "!nohtyP ,olleH\n"
     ]
    }
   ],
   "source": [
    "# 슬라이싱\n",
    "s = \"Hello, Python!\"\n",
    "print(s[0:5])    # 'Hello' (0~4번째 문자)\n",
    "print(s[:5])     # 'Hello' (처음부터 5번째 전까지)\n",
    "print(s[7:])     # 'Python!' (7번째부터 끝까지)\n",
    "print(s[::2])    # 'Hlo yhn' (처음부터 끝까지 2칸씩 건너뛰기)\n",
    "print(s[::-1])   # '!nohtyP ,olleH' (문자열 뒤집기)"
   ]
  },
  {
   "cell_type": "markdown",
   "id": "c448b6d5-f2fb-4e3c-8c5e-f15c6a088d2a",
   "metadata": {},
   "source": [
    "#### 문자열 포맷팅"
   ]
  },
  {
   "cell_type": "code",
   "execution_count": 30,
   "id": "0797ca3a-3d8f-4958-b8ea-c57af9b21240",
   "metadata": {},
   "outputs": [
    {
     "name": "stdout",
     "output_type": "stream",
     "text": [
      "이름: Alice, 나이: 25\n"
     ]
    }
   ],
   "source": [
    "# % 포맷팅 (구식)\n",
    "name = \"Alice\"\n",
    "age = 25\n",
    "print(\"이름: %s, 나이: %d\" % (name, age))"
   ]
  },
  {
   "cell_type": "code",
   "execution_count": 31,
   "id": "016f01ff-f65c-40be-80c9-fd339d695024",
   "metadata": {},
   "outputs": [
    {
     "name": "stdout",
     "output_type": "stream",
     "text": [
      "이름: Alice, 나이: 25\n",
      "이름: Alice, 나이: 25\n",
      "나이: 25, 이름: Alice\n"
     ]
    }
   ],
   "source": [
    "# format() 메서드\n",
    "print(\"이름: {}, 나이: {}\".format(name, age))\n",
    "print(\"이름: {0}, 나이: {1}\".format(name, age))\n",
    "print(\"나이: {age}, 이름: {name}\".format(name=name, age=age))"
   ]
  },
  {
   "cell_type": "code",
   "execution_count": 32,
   "id": "62cb4eea-a23b-4e57-81f1-edb3615cc9f7",
   "metadata": {},
   "outputs": [
    {
     "name": "stdout",
     "output_type": "stream",
     "text": [
      "이름: Alice, 나이: 25\n",
      "내년 나이: 26\n"
     ]
    }
   ],
   "source": [
    "# f-string (파이썬 3.6+ 권장)\n",
    "print(f\"이름: {name}, 나이: {age}\")\n",
    "print(f\"내년 나이: {age + 1}\")"
   ]
  },
  {
   "cell_type": "code",
   "execution_count": 33,
   "id": "f696a763-8e84-4694-8af9-dd127d6ddd23",
   "metadata": {},
   "outputs": [
    {
     "name": "stdout",
     "output_type": "stream",
     "text": [
      "['Hello', 'Python!']\n",
      "Hello Python!\n",
      "Hello, World!\n",
      "7\n"
     ]
    }
   ],
   "source": [
    "# 주요 메서드 활용\n",
    "text = \"Hello, Python!\"\n",
    "\n",
    "words = text.split(\", \")\n",
    "print(words)        # ['Hello', 'Python!']\n",
    "\n",
    "joined = \" \".join(words)\n",
    "print(joined)       # 'Hello Python!'\n",
    "\n",
    "replaced = text.replace(\"Python\", \"World\")\n",
    "print(replaced)      # 'Hello, World!'\n",
    "\n",
    "pos = text.find(\"Python\")\n",
    "print(pos)           # 7"
   ]
  },
  {
   "cell_type": "code",
   "execution_count": 34,
   "id": "bba6e51f-c06a-48c2-b5a3-115c98f746ed",
   "metadata": {},
   "outputs": [
    {
     "name": "stdout",
     "output_type": "stream",
     "text": [
      "Hello\n",
      "World\n",
      "She said, \"Hello!\"\n",
      "Path: C:\\Users\\Alice\n"
     ]
    }
   ],
   "source": [
    "# 이스케이프 문자\n",
    "print(\"Hello\\nWorld\")\n",
    "print(\"She said, \\\"Hello!\\\"\")\n",
    "print(\"Path: C:\\\\Users\\\\Alice\")"
   ]
  },
  {
   "cell_type": "markdown",
   "id": "3bdb42b6-fac3-4b4d-b708-48e820b6b040",
   "metadata": {},
   "source": [
    "### **파일 입출력**"
   ]
  },
  {
   "cell_type": "markdown",
   "id": "74c3f675-7ebd-417d-881a-331eb6b1896a",
   "metadata": {},
   "source": [
    "#### 파일 쓰기"
   ]
  },
  {
   "cell_type": "code",
   "execution_count": 35,
   "id": "fccab06a-2dcb-40c6-a19c-b0f483eefc60",
   "metadata": {},
   "outputs": [],
   "source": [
    "# 파일 열기 (쓰기 모드)\n",
    "f = open(\"example.txt\", \"w\", encoding=\"utf-8\")\n",
    "\n",
    "f.write(\"첫 번째 줄입니다.\\n\")\n",
    "f.write(\"두 번째 줄입니다.\\n\")\n",
    "\n",
    "f.close()"
   ]
  },
  {
   "cell_type": "code",
   "execution_count": 36,
   "id": "8ce225c8-b7a8-423e-8c1b-eeea151aebd5",
   "metadata": {},
   "outputs": [],
   "source": [
    "# 파일에 내용 추가하기 ('a' 모드)\n",
    "with open(\"example.txt\", \"a\", encoding=\"utf-8\") as f:\n",
    "\tf.write(\"추가된 한 줄입니다.\\n\")"
   ]
  },
  {
   "cell_type": "markdown",
   "id": "a88ac375-0a3e-461d-a064-16d7e8396e61",
   "metadata": {},
   "source": [
    "#### 파일 읽기"
   ]
  },
  {
   "cell_type": "code",
   "execution_count": 37,
   "id": "7adb20b2-898e-4e2d-bd05-0b619e191e58",
   "metadata": {},
   "outputs": [
    {
     "name": "stdout",
     "output_type": "stream",
     "text": [
      "첫 번째 줄입니다.\n",
      "두 번째 줄입니다.\n",
      "추가된 한 줄입니다.\n",
      "\n"
     ]
    }
   ],
   "source": [
    "# 파일 열기 (읽기 모드)\n",
    "f = open(\"example.txt\", \"r\", encoding=\"utf-8\")\n",
    "\n",
    "# 파일 내용 전체 읽기\n",
    "content = f.read()\n",
    "print(content)\n",
    "\n",
    "# 파일 닫기\n",
    "f.close()"
   ]
  },
  {
   "cell_type": "code",
   "execution_count": 38,
   "id": "4046606b-c838-4d80-99b0-6d2032caf01b",
   "metadata": {},
   "outputs": [
    {
     "name": "stdout",
     "output_type": "stream",
     "text": [
      "첫 번째 줄입니다.\n",
      "---\n",
      "두 번째 줄입니다.\n",
      "---\n",
      "추가된 한 줄입니다.\n",
      "---\n"
     ]
    }
   ],
   "source": [
    "# 파일 내용을 한 줄씩 읽기\n",
    "with open(\"example.txt\", \"r\", encoding=\"utf-8\") as f:\n",
    "    for line in f:\n",
    "        print(line.strip())  # 줄바꿈 문자 제거 후 출력\n",
    "        print(\"---\")"
   ]
  },
  {
   "cell_type": "markdown",
   "id": "4efca797-64ae-458b-b499-d8636c5f2b7e",
   "metadata": {},
   "source": [
    "#### with 구문"
   ]
  },
  {
   "cell_type": "code",
   "execution_count": 39,
   "id": "350238e0-61cc-4794-8d96-1726d000a75d",
   "metadata": {},
   "outputs": [
    {
     "name": "stdout",
     "output_type": "stream",
     "text": [
      "첫 번째 줄입니다.\n",
      "두 번째 줄입니다.\n",
      "추가된 한 줄입니다.\n",
      "\n"
     ]
    }
   ],
   "source": [
    "with open(\"example.txt\", \"r\", encoding=\"utf-8\") as f:\n",
    "    content = f.read()\n",
    "    print(content)\n",
    "# with 블록 종료 시 자동으로 f.close() 호출됨"
   ]
  },
  {
   "cell_type": "code",
   "execution_count": 40,
   "id": "c9ab2dad-90bb-405d-901b-94d7c01dbf4b",
   "metadata": {},
   "outputs": [],
   "source": [
    "# output.txt 파일에 데이터를 쓰는 예제\n",
    "with open(\"output.txt\", \"w\", encoding=\"utf-8\") as file:\n",
    "    file.write(\"안녕하세요.\\n\")\n",
    "    file.write(\"파일 입출력 예제입니다.\\n\")"
   ]
  },
  {
   "cell_type": "code",
   "execution_count": 41,
   "id": "02e77523-d91e-4c57-89bd-50cecc6e7212",
   "metadata": {},
   "outputs": [
    {
     "name": "stdout",
     "output_type": "stream",
     "text": [
      "안녕하세요.\n",
      "파일 입출력 예제입니다.\n"
     ]
    }
   ],
   "source": [
    "# example.txt 파일을 읽어서 출력하는 예제\n",
    "with open(\"output.txt\", \"r\", encoding=\"utf-8\") as file:\n",
    "    for line in file:\n",
    "        print(line.strip())"
   ]
  },
  {
   "cell_type": "markdown",
   "id": "ac4d9eaf-28ef-4e00-b233-a1c0921cac05",
   "metadata": {},
   "source": [
    "### **예외 처리**"
   ]
  },
  {
   "cell_type": "markdown",
   "id": "72e92ea9-d4c1-4dda-b858-0583e7d2b718",
   "metadata": {},
   "source": [
    "#### 예외 처리 (try-except-finally 구문)"
   ]
  },
  {
   "cell_type": "code",
   "execution_count": 42,
   "id": "2b80eb4f-6f8d-491b-bc98-4b29f843278b",
   "metadata": {},
   "outputs": [
    {
     "name": "stdout",
     "output_type": "stream",
     "text": [
      "파일이 없습니다.\n",
      "파일 처리 종료\n"
     ]
    }
   ],
   "source": [
    "try:\n",
    "    f = open(\"data.txt\", \"r\")\n",
    "    data = f.read()\n",
    "except FileNotFoundError:\n",
    "    print(\"파일이 없습니다.\")\n",
    "else:\n",
    "    print(\"파일 내용을 성공적으로 읽음\")\n",
    "finally:\n",
    "    f.close()  # 파일이 열려 있었건 아니건 반드시 실행하여 자원 해제\n",
    "    print(\"파일 처리 종료\")"
   ]
  },
  {
   "cell_type": "code",
   "execution_count": 43,
   "id": "5ce21155-89d5-4ce9-90b0-d18af553331a",
   "metadata": {},
   "outputs": [
    {
     "name": "stdin",
     "output_type": "stream",
     "text": [
      "숫자 입력:  1\n"
     ]
    },
    {
     "name": "stdout",
     "output_type": "stream",
     "text": [
      "결과: 10.0\n",
      "프로그램 종료\n"
     ]
    }
   ],
   "source": [
    "#### 예외 객체 활용하기\n",
    "try:\n",
    "    num = int(input(\"숫자 입력: \"))\n",
    "    result = 10 / num\n",
    "except Exception as e:\n",
    "    print(f\"에러 발생: {e}\")\n",
    "else:\n",
    "    print(f\"결과: {result}\")\n",
    "finally:\n",
    "    print(\"프로그램 종료\")"
   ]
  },
  {
   "cell_type": "markdown",
   "id": "17b5f6fa-3b24-4ca2-b8c1-ec2b8532a23c",
   "metadata": {},
   "source": [
    "#### 사용자 정의 예외 처리"
   ]
  },
  {
   "cell_type": "code",
   "execution_count": 44,
   "id": "9c4699e7-7e49-4420-9a03-af5a1cf5de11",
   "metadata": {},
   "outputs": [],
   "source": [
    "class MyError(Exception):\n",
    "    def __init__(self, message):\n",
    "        self.message = message\n",
    "    def __str__(self):\n",
    "        return self.message"
   ]
  },
  {
   "cell_type": "code",
   "execution_count": 45,
   "id": "acf8290a-995a-4dbe-8a72-d136998f753b",
   "metadata": {},
   "outputs": [
    {
     "name": "stdout",
     "output_type": "stream",
     "text": [
      "사용자 정의 에러 발생: 음수는 허용되지 않습니다.\n"
     ]
    }
   ],
   "source": [
    "# 사용자 정의 예외 발생시키기 (raise)\n",
    "def check_value(x):\n",
    "    if x < 0:\n",
    "        raise MyError(\"음수는 허용되지 않습니다.\")\n",
    "    else:\n",
    "        print(f\"입력값은 {x}입니다.\")\n",
    "\n",
    "try:\n",
    "    check_value(-5)\n",
    "except MyError as e:\n",
    "    print(f\"사용자 정의 에러 발생: {e}\")"
   ]
  },
  {
   "cell_type": "code",
   "execution_count": 46,
   "id": "57a0f37d-cf10-41fb-96c6-42c8b2fb0363",
   "metadata": {
    "scrolled": true
   },
   "outputs": [
    {
     "ename": "NegativeInputError",
     "evalue": "음수는 허용되지 않습니다.",
     "output_type": "error",
     "traceback": [
      "\u001b[0;31m---------------------------------------------------------------------------\u001b[0m",
      "\u001b[0;31mNegativeInputError\u001b[0m                        Traceback (most recent call last)",
      "Cell \u001b[0;32mIn[46], line 27\u001b[0m\n\u001b[1;32m     24\u001b[0m         \u001b[38;5;28mprint\u001b[39m(\u001b[38;5;124m\"\u001b[39m\u001b[38;5;124m처리 완료\u001b[39m\u001b[38;5;124m\"\u001b[39m)\n\u001b[1;32m     26\u001b[0m \u001b[38;5;66;03m# 호출 테스트\u001b[39;00m\n\u001b[0;32m---> 27\u001b[0m \u001b[43mprocess_file\u001b[49m\u001b[43m(\u001b[49m\u001b[38;5;124;43m\"\u001b[39;49m\u001b[38;5;124;43mdata.txt\u001b[39;49m\u001b[38;5;124;43m\"\u001b[39;49m\u001b[43m,\u001b[49m\u001b[43m \u001b[49m\u001b[38;5;241;43m-\u001b[39;49m\u001b[38;5;241;43m1\u001b[39;49m\u001b[43m)\u001b[49m\n",
      "Cell \u001b[0;32mIn[46], line 7\u001b[0m, in \u001b[0;36mprocess_file\u001b[0;34m(filename, number)\u001b[0m\n\u001b[1;32m      5\u001b[0m \u001b[38;5;28;01mdef\u001b[39;00m\u001b[38;5;250m \u001b[39m\u001b[38;5;21mprocess_file\u001b[39m(filename, number):\n\u001b[1;32m      6\u001b[0m     \u001b[38;5;28;01mif\u001b[39;00m number \u001b[38;5;241m<\u001b[39m \u001b[38;5;241m0\u001b[39m:\n\u001b[0;32m----> 7\u001b[0m         \u001b[38;5;28;01mraise\u001b[39;00m NegativeInputError(\u001b[38;5;124m\"\u001b[39m\u001b[38;5;124m음수는 허용되지 않습니다.\u001b[39m\u001b[38;5;124m\"\u001b[39m)\n\u001b[1;32m      9\u001b[0m     \u001b[38;5;28;01mtry\u001b[39;00m:\n\u001b[1;32m     10\u001b[0m         \u001b[38;5;28;01mwith\u001b[39;00m \u001b[38;5;28mopen\u001b[39m(filename, \u001b[38;5;124m'\u001b[39m\u001b[38;5;124mr\u001b[39m\u001b[38;5;124m'\u001b[39m, encoding\u001b[38;5;241m=\u001b[39m\u001b[38;5;124m'\u001b[39m\u001b[38;5;124mutf-8\u001b[39m\u001b[38;5;124m'\u001b[39m) \u001b[38;5;28;01mas\u001b[39;00m f:\n",
      "\u001b[0;31mNegativeInputError\u001b[0m: 음수는 허용되지 않습니다."
     ]
    }
   ],
   "source": [
    "# 종합 예제: 사용자 정의 예외와 finally를 활용한 파일 처리\n",
    "class NegativeInputError(Exception):\n",
    "    pass\n",
    "\n",
    "def process_file(filename, number):\n",
    "    if number < 0:\n",
    "        raise NegativeInputError(\"음수는 허용되지 않습니다.\")\n",
    "    \n",
    "    try:\n",
    "        with open(filename, 'r', encoding='utf-8') as f:\n",
    "            content = f.read()\n",
    "            result = 10 / number\n",
    "    except FileNotFoundError:\n",
    "        print(\"파일이 존재하지 않습니다.\")\n",
    "    except ZeroDivisionError:\n",
    "        print(\"0으로 나눌 수 없습니다.\")\n",
    "    except NegativeInputError as e:\n",
    "        print(f\"사용자 정의 오류: {e}\")\n",
    "    else:\n",
    "        print(\"파일 내용과 계산 결과\")\n",
    "        print(content)\n",
    "        print(result)\n",
    "    finally:\n",
    "        print(\"처리 완료\")\n",
    "\n",
    "# 호출 테스트\n",
    "process_file(\"data.txt\", -1)"
   ]
  },
  {
   "cell_type": "markdown",
   "id": "49ca077a-c843-4a34-af8b-a2d8a0775258",
   "metadata": {},
   "source": [
    "### **외부 데이터 포맷 다루기**"
   ]
  },
  {
   "cell_type": "markdown",
   "id": "fccc3553-7ad7-404b-b6ee-a266a2a0651f",
   "metadata": {},
   "source": [
    "#### JSON (JavaScript Object Notation)"
   ]
  },
  {
   "cell_type": "code",
   "execution_count": 47,
   "id": "6b860786-4d91-40ff-86fe-535519c201fb",
   "metadata": {},
   "outputs": [
    {
     "name": "stdout",
     "output_type": "stream",
     "text": [
      "{'name': 'Alice', 'age': 25, 'is_student': False}\n",
      "Alice\n"
     ]
    }
   ],
   "source": [
    "import json\n",
    "\n",
    "# JSON 문자열 파싱\n",
    "json_str = '{\"name\": \"Alice\", \"age\": 25, \"is_student\": false}'\n",
    "data = json.loads(json_str)\n",
    "print(data)              # {'name': 'Alice', 'age': 25, 'is_student': False}\n",
    "print(data['name'])      # Alice"
   ]
  },
  {
   "cell_type": "code",
   "execution_count": 48,
   "id": "c7e0cc04-b8d1-41d1-a111-2c8c6f31bc61",
   "metadata": {},
   "outputs": [
    {
     "name": "stdout",
     "output_type": "stream",
     "text": [
      "{\"fruit\": \"apple\", \"quantity\": 10, \"price\": 2.5}\n"
     ]
    }
   ],
   "source": [
    "# 파이썬 객체를 JSON 문자열로 변환\n",
    "python_dict = {'fruit': 'apple', 'quantity': 10, 'price': 2.5}\n",
    "json_data = json.dumps(python_dict)\n",
    "print(json_data)         # {\"fruit\": \"apple\", \"quantity\": 10, \"price\": 2.5}"
   ]
  },
  {
   "cell_type": "code",
   "execution_count": 49,
   "id": "f983109b-389c-4f29-baec-12049ffcaba6",
   "metadata": {},
   "outputs": [],
   "source": [
    "# JSON 파일 읽기와 쓰기\n",
    "with open('data.json', 'w', encoding='utf-8') as f:\n",
    "    json.dump(python_dict, f, ensure_ascii=False, indent=4)  # 인덴트로 보기 좋게 저장\n",
    "    \n",
    "with open('data.json', 'r', encoding='utf-8') as f:\n",
    "    content = json.load(f)  # JSON 파일 읽어 파이썬 딕셔너리로 변환"
   ]
  },
  {
   "cell_type": "code",
   "execution_count": 50,
   "id": "f9632225-a46f-40aa-8446-08f8343b78c1",
   "metadata": {},
   "outputs": [
    {
     "data": {
      "text/plain": [
       "{'fruit': 'apple', 'quantity': 10, 'price': 2.5}"
      ]
     },
     "execution_count": 50,
     "metadata": {},
     "output_type": "execute_result"
    }
   ],
   "source": [
    "content"
   ]
  },
  {
   "cell_type": "markdown",
   "id": "45681f70-bdd8-4e04-816d-a973d872a254",
   "metadata": {},
   "source": [
    "#### YAML"
   ]
  },
  {
   "cell_type": "code",
   "execution_count": 51,
   "id": "017c62be-329a-469d-9857-491d4f8ca7c3",
   "metadata": {},
   "outputs": [
    {
     "name": "stdout",
     "output_type": "stream",
     "text": [
      "{'name': 'Alice', 'age': 25, 'is_student': False, 'hobbies': ['reading', 'hiking', 'coding']}\n"
     ]
    }
   ],
   "source": [
    "import yaml\n",
    "\n",
    "# YAML 문자열 읽기\n",
    "yaml_str = \"\"\"\n",
    "name: Alice\n",
    "age: 25\n",
    "is_student: false\n",
    "hobbies:\n",
    "  - reading\n",
    "  - hiking\n",
    "  - coding\n",
    "\"\"\"\n",
    "\n",
    "data = yaml.safe_load(yaml_str)\n",
    "print(data)          # {'name': 'Alice', 'age': 25, 'is_student': False, 'hobbies': ['reading', 'hiking', 'coding']}"
   ]
  },
  {
   "cell_type": "code",
   "execution_count": 52,
   "id": "a8abc5e9-ce3f-4811-ac4f-70176e87750c",
   "metadata": {},
   "outputs": [
    {
     "name": "stdout",
     "output_type": "stream",
     "text": [
      "active: true\n",
      "items:\n",
      "- 1\n",
      "- 2\n",
      "- 3\n",
      "title: Example\n",
      "\n"
     ]
    }
   ],
   "source": [
    "# 파이썬 객체를 YAML 문자열로 변환\n",
    "python_obj = {\n",
    "    'title': 'Example',\n",
    "    'items': [1, 2, 3],\n",
    "    'active': True\n",
    "}\n",
    "\n",
    "yaml_data = yaml.dump(python_obj)\n",
    "print(yaml_data)"
   ]
  },
  {
   "cell_type": "code",
   "execution_count": 53,
   "id": "541d0915-7123-4ceb-8a6e-6604e2a408c6",
   "metadata": {},
   "outputs": [],
   "source": [
    "# YAML 파일 읽기/쓰기\n",
    "with open('config.yaml', 'w', encoding='utf-8') as f:\n",
    "    yaml.dump(python_obj, f, allow_unicode=True)\n",
    "    \n",
    "with open('config.yaml', 'r', encoding='utf-8') as f:\n",
    "    config = yaml.safe_load(f)"
   ]
  },
  {
   "cell_type": "code",
   "execution_count": 54,
   "id": "a6c4a689-aae6-4bb8-af02-c6ea42957d07",
   "metadata": {},
   "outputs": [
    {
     "data": {
      "text/plain": [
       "{'active': True, 'items': [1, 2, 3], 'title': 'Example'}"
      ]
     },
     "execution_count": 54,
     "metadata": {},
     "output_type": "execute_result"
    }
   ],
   "source": [
    "config"
   ]
  }
 ],
 "metadata": {
  "kernelspec": {
   "display_name": "test_keri",
   "language": "python",
   "name": "ai_course"
  },
  "language_info": {
   "codemirror_mode": {
    "name": "ipython",
    "version": 3
   },
   "file_extension": ".py",
   "mimetype": "text/x-python",
   "name": "python",
   "nbconvert_exporter": "python",
   "pygments_lexer": "ipython3",
   "version": "3.9.23"
  }
 },
 "nbformat": 4,
 "nbformat_minor": 5
}
