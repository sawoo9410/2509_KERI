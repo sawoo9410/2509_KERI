{
 "cells": [
  {
   "cell_type": "markdown",
   "id": "e3a455da-2ab8-41c9-9feb-e45d55eb0fbb",
   "metadata": {},
   "source": [
    "### Created on 2025\n",
    "### @author: S.W"
   ]
  },
  {
   "cell_type": "code",
   "execution_count": null,
   "id": "2eb38b35-e952-4d62-b3f0-dbc6ac8240ff",
   "metadata": {},
   "outputs": [],
   "source": [
    "# ==================================================================================\n",
    "# 초심자를 위한 RNN, LSTM, GRU 텍스트 분류 Jupyter 실습 코드\n",
    "# 작성자: AI Engineer (3년차 CV → NLP 확장)\n",
    "# 대상: NLP 초심자 (RNN 개념 처음 접하는 사람들)\n",
    "# ==================================================================================\n",
    "\n",
    "import torch\n",
    "import torch.nn as nn\n",
    "import torch.optim as optim\n",
    "import torch.nn.functional as F\n",
    "from torch.utils.data import Dataset, DataLoader\n",
    "import numpy as np\n",
    "import pandas as pd\n",
    "import matplotlib.pyplot as plt\n",
    "import seaborn as sns\n",
    "from sklearn.model_selection import train_test_split\n",
    "from sklearn.metrics import accuracy_score, classification_report, confusion_matrix\n",
    "from collections import Counter\n",
    "import re\n",
    "from tqdm import tqdm\n",
    "import warnings\n",
    "warnings.filterwarnings('ignore')"
   ]
  },
  {
   "cell_type": "code",
   "execution_count": 2,
   "id": "6a609e43-ed07-494b-be79-a51d148cc30c",
   "metadata": {},
   "outputs": [
    {
     "name": "stdout",
     "output_type": "stream",
     "text": [
      "🚀 RNN, LSTM, GRU 텍스트 분류 실습을 시작합니다!\n",
      "============================================================\n"
     ]
    }
   ],
   "source": [
    "# 시각화 설정\n",
    "plt.style.use('seaborn-v0_8')\n",
    "plt.rcParams['figure.figsize'] = (12, 8)\n",
    "plt.rcParams['font.size'] = 12\n",
    "\n",
    "print(\"🚀 RNN, LSTM, GRU 텍스트 분류 실습을 시작합니다!\")\n",
    "print(\"=\" * 60)"
   ]
  },
  {
   "cell_type": "code",
   "execution_count": 3,
   "id": "e0eadde2-92b8-4020-9789-f0070aade4ce",
   "metadata": {},
   "outputs": [
    {
     "name": "stdout",
     "output_type": "stream",
     "text": [
      "📊 데이터셋 크기: 1000\n",
      "긍정 리뷰: 500개\n",
      "부정 리뷰: 500개\n",
      "\n",
      "샘플 데이터:\n",
      "                                              text  label\n",
      "0   This movie is absolutely amazing and wonderful      1\n",
      "1    I love this film it's fantastic and brilliant      1\n",
      "2       Great acting superb story highly recommend      1\n",
      "3    Excellent movie with outstanding performances      1\n",
      "4  Brilliant cinematography and amazing soundtrack      1\n"
     ]
    }
   ],
   "source": [
    "# ==================================================================================\n",
    "# 1. 데이터 준비 및 전처리\n",
    "# ==================================================================================\n",
    "\n",
    "# 간단한 영화 리뷰 감성 분석 데이터셋 생성 (실제 상황에서는 IMDB 등 사용)\n",
    "def create_sample_data():\n",
    "    \"\"\"\n",
    "    초심자 이해를 위한 간단한 샘플 데이터 생성\n",
    "    실제로는 datasets.load_dataset('imdb') 등을 사용하지만, \n",
    "    개념 이해를 위해 작은 데이터셋으로 시작\n",
    "    \"\"\"\n",
    "    positive_reviews = [\n",
    "        \"This movie is absolutely amazing and wonderful\",\n",
    "        \"I love this film it's fantastic and brilliant\",\n",
    "        \"Great acting superb story highly recommend\",\n",
    "        \"Excellent movie with outstanding performances\",\n",
    "        \"Brilliant cinematography and amazing soundtrack\",\n",
    "        \"Perfect film love every minute of it\",\n",
    "        \"Outstanding story with excellent character development\",\n",
    "        \"Amazing visual effects and great acting\",\n",
    "        \"Superb direction and brilliant screenplay\",\n",
    "        \"Fantastic movie highly recommended for everyone\"\n",
    "    ] * 50  # 500개 긍정 리뷰\n",
    "\n",
    "    negative_reviews = [\n",
    "        \"This movie is terrible and boring waste of time\",\n",
    "        \"Awful film with bad acting and poor story\",\n",
    "        \"Horrible movie terrible performances very disappointing\",\n",
    "        \"Bad film boring story terrible acting\",\n",
    "        \"Worst movie ever seen very disappointing\",\n",
    "        \"Terrible film awful story and bad direction\",\n",
    "        \"Boring movie with poor acting and bad script\",\n",
    "        \"Disappointing film terrible story and acting\",\n",
    "        \"Awful movie waste of time and money\",\n",
    "        \"Bad film poor story terrible performances\"\n",
    "    ] * 50  # 500개 부정 리뷰\n",
    "    \n",
    "    # 데이터프레임 생성\n",
    "    data = []\n",
    "    for review in positive_reviews:\n",
    "        data.append({'text': review, 'label': 1})  # 1: 긍정\n",
    "    for review in negative_reviews:\n",
    "        data.append({'text': review, 'label': 0})  # 0: 부정\n",
    "    \n",
    "    return pd.DataFrame(data)\n",
    "\n",
    "# 데이터 생성 및 확인\n",
    "df = create_sample_data()\n",
    "print(f\"📊 데이터셋 크기: {len(df)}\")\n",
    "print(f\"긍정 리뷰: {sum(df['label'] == 1)}개\")\n",
    "print(f\"부정 리뷰: {sum(df['label'] == 0)}개\")\n",
    "print(\"\\n샘플 데이터:\")\n",
    "print(df.head())"
   ]
  },
  {
   "cell_type": "code",
   "execution_count": 4,
   "id": "409480c2-5565-4037-957b-8f77465b1f0d",
   "metadata": {},
   "outputs": [
    {
     "name": "stdout",
     "output_type": "stream",
     "text": [
      "📝 어휘집 크기: 56\n",
      "\n",
      "🔄 텍스트 → 숫자 시퀀스 변환 완료\n",
      "예시:\n",
      "원본: This movie is absolutely amazing and wonderful\n",
      "시퀀스: [10, 3, 19, 31, 11, 2, 32, 0, 0, 0, 0, 0, 0, 0, 0, 0, 0, 0, 0, 0]\n"
     ]
    }
   ],
   "source": [
    "# ==================================================================================\n",
    "# 2. 텍스트 전처리 및 토크나이징\n",
    "# ==================================================================================\n",
    "\n",
    "class TextPreprocessor:\n",
    "    \"\"\"\n",
    "    초심자를 위한 텍스트 전처리 클래스\n",
    "    - 복잡한 전처리보다는 핵심 개념에 집중\n",
    "    \"\"\"\n",
    "    def __init__(self):\n",
    "        self.word_to_idx = {'<PAD>': 0, '<UNK>': 1}\n",
    "        self.idx_to_word = {0: '<PAD>', 1: '<UNK>'}\n",
    "        self.vocab_size = 2\n",
    "        \n",
    "    def build_vocabulary(self, texts):\n",
    "        \"\"\"단어 사전 구축\"\"\"\n",
    "        word_counts = Counter()\n",
    "        \n",
    "        for text in texts:\n",
    "            # 간단한 토크나이징 (공백 기준)\n",
    "            words = self.simple_tokenize(text)\n",
    "            word_counts.update(words)\n",
    "        \n",
    "        # 빈도수 기준으로 상위 단어들만 사용 (vocab_size 제한)\n",
    "        for word, count in word_counts.most_common(1000):  # 상위 1000개 단어만\n",
    "            if word not in self.word_to_idx:\n",
    "                self.word_to_idx[word] = self.vocab_size\n",
    "                self.idx_to_word[self.vocab_size] = word\n",
    "                self.vocab_size += 1\n",
    "                \n",
    "        print(f\"📝 어휘집 크기: {self.vocab_size}\")\n",
    "        \n",
    "    def simple_tokenize(self, text):\n",
    "        \"\"\"간단한 토크나이징\"\"\"\n",
    "        # 소문자 변환 및 특수문자 제거\n",
    "        text = re.sub(r'[^a-zA-Z\\s]', '', text.lower())\n",
    "        return text.split()\n",
    "    \n",
    "    def text_to_sequence(self, text, max_length=20):\n",
    "        \"\"\"텍스트를 숫자 시퀀스로 변환\"\"\"\n",
    "        words = self.simple_tokenize(text)\n",
    "        sequence = []\n",
    "        \n",
    "        for word in words[:max_length]:  # 최대 길이 제한\n",
    "            sequence.append(self.word_to_idx.get(word, 1))  # <UNK> = 1\n",
    "            \n",
    "        # 패딩 추가\n",
    "        while len(sequence) < max_length:\n",
    "            sequence.append(0)  # <PAD> = 0\n",
    "            \n",
    "        return sequence\n",
    "\n",
    "# 전처리기 초기화 및 어휘집 구축\n",
    "preprocessor = TextPreprocessor()\n",
    "preprocessor.build_vocabulary(df['text'].tolist())\n",
    "\n",
    "# 데이터 변환\n",
    "sequences = []\n",
    "for text in df['text']:\n",
    "    sequences.append(preprocessor.text_to_sequence(text))\n",
    "\n",
    "df['sequence'] = sequences\n",
    "print(\"\\n🔄 텍스트 → 숫자 시퀀스 변환 완료\")\n",
    "print(\"예시:\")\n",
    "print(f\"원본: {df.iloc[0]['text']}\")\n",
    "print(f\"시퀀스: {df.iloc[0]['sequence']}\")"
   ]
  },
  {
   "cell_type": "code",
   "execution_count": 5,
   "id": "3e0aba34-66a5-4628-b875-4b8ee314f357",
   "metadata": {},
   "outputs": [
    {
     "name": "stdout",
     "output_type": "stream",
     "text": [
      "🔨 훈련 데이터: 800개\n",
      "🔨 테스트 데이터: 200개\n"
     ]
    }
   ],
   "source": [
    "# ==================================================================================\n",
    "# 3. 데이터셋 클래스 정의\n",
    "# ==================================================================================\n",
    "\n",
    "class TextDataset(Dataset):\n",
    "    \"\"\"\n",
    "    PyTorch 데이터셋 클래스\n",
    "    초심자가 이해하기 쉽도록 간단하게 구현\n",
    "    \"\"\"\n",
    "    def __init__(self, sequences, labels):\n",
    "        self.sequences = torch.tensor(sequences, dtype=torch.long)\n",
    "        self.labels = torch.tensor(labels, dtype=torch.long)\n",
    "        \n",
    "    def __len__(self):\n",
    "        return len(self.sequences)\n",
    "    \n",
    "    def __getitem__(self, idx):\n",
    "        return self.sequences[idx], self.labels[idx]\n",
    "\n",
    "# 데이터 분할\n",
    "X = df['sequence'].tolist()\n",
    "y = df['label'].tolist()\n",
    "\n",
    "X_train, X_test, y_train, y_test = train_test_split(\n",
    "    X, y, test_size=0.2, random_state=42, stratify=y\n",
    ")\n",
    "\n",
    "# 데이터셋 생성\n",
    "train_dataset = TextDataset(X_train, y_train)\n",
    "test_dataset = TextDataset(X_test, y_test)\n",
    "\n",
    "# 데이터로더 생성\n",
    "batch_size = 32\n",
    "train_loader = DataLoader(train_dataset, batch_size=batch_size, shuffle=True)\n",
    "test_loader = DataLoader(test_dataset, batch_size=batch_size, shuffle=False)\n",
    "\n",
    "print(f\"🔨 훈련 데이터: {len(train_dataset)}개\")\n",
    "print(f\"🔨 테스트 데이터: {len(test_dataset)}개\")"
   ]
  },
  {
   "cell_type": "code",
   "execution_count": 6,
   "id": "c8f4823d-f28f-4df3-908c-bef73df5d635",
   "metadata": {},
   "outputs": [
    {
     "name": "stdout",
     "output_type": "stream",
     "text": [
      "🤖 모델 생성 완료:\n",
      "   - RNN 파라미터 수: 68,322\n",
      "   - LSTM 파라미터 수: 255,714\n",
      "   - GRU 파라미터 수: 193,250\n"
     ]
    }
   ],
   "source": [
    "# ==================================================================================\n",
    "# 4. 모델 정의: RNN, LSTM, GRU\n",
    "# ==================================================================================\n",
    "\n",
    "class SimpleRNN(nn.Module):\n",
    "    \"\"\"\n",
    "    기본 RNN 모델\n",
    "    초심자 이해를 위해 구조를 명확하게 표현\n",
    "    \"\"\"\n",
    "    def __init__(self, vocab_size, embedding_dim, hidden_dim, output_dim, num_layers=1):\n",
    "        super(SimpleRNN, self).__init__()\n",
    "        \n",
    "        # 임베딩 레이어: 단어 인덱스 → 벡터\n",
    "        self.embedding = nn.Embedding(vocab_size, embedding_dim, padding_idx=0)\n",
    "        \n",
    "        # RNN 레이어\n",
    "        self.rnn = nn.RNN(embedding_dim, hidden_dim, num_layers, batch_first=True)\n",
    "        \n",
    "        # 분류를 위한 완전연결 레이어\n",
    "        self.fc = nn.Linear(hidden_dim, output_dim)\n",
    "        \n",
    "        # 드롭아웃 (과적합 방지)\n",
    "        self.dropout = nn.Dropout(0.3)\n",
    "        \n",
    "    def forward(self, x):\n",
    "        # x: (batch_size, sequence_length)\n",
    "        \n",
    "        # 1. 임베딩\n",
    "        embedded = self.embedding(x)  # (batch_size, seq_len, embedding_dim)\n",
    "        \n",
    "        # 2. RNN 통과\n",
    "        rnn_out, hidden = self.rnn(embedded)  # rnn_out: (batch_size, seq_len, hidden_dim)\n",
    "        \n",
    "        # 3. 마지막 타임스텝의 출력 사용\n",
    "        last_output = rnn_out[:, -1, :]  # (batch_size, hidden_dim)\n",
    "        \n",
    "        # 4. 드롭아웃 적용\n",
    "        last_output = self.dropout(last_output)\n",
    "        \n",
    "        # 5. 분류\n",
    "        output = self.fc(last_output)  # (batch_size, output_dim)\n",
    "        \n",
    "        return output\n",
    "\n",
    "class SimpleLSTM(nn.Module):\n",
    "    \"\"\"\n",
    "    LSTM 모델\n",
    "    RNN의 기울기 소실 문제를 해결한 버전\n",
    "    \"\"\"\n",
    "    def __init__(self, vocab_size, embedding_dim, hidden_dim, output_dim, num_layers=1):\n",
    "        super(SimpleLSTM, self).__init__()\n",
    "        \n",
    "        self.embedding = nn.Embedding(vocab_size, embedding_dim, padding_idx=0)\n",
    "        \n",
    "        # LSTM 레이어 (RNN 대신 LSTM 사용)\n",
    "        self.lstm = nn.LSTM(embedding_dim, hidden_dim, num_layers, batch_first=True)\n",
    "        \n",
    "        self.fc = nn.Linear(hidden_dim, output_dim)\n",
    "        self.dropout = nn.Dropout(0.3)\n",
    "        \n",
    "    def forward(self, x):\n",
    "        embedded = self.embedding(x)\n",
    "        \n",
    "        # LSTM은 hidden state와 cell state 모두 반환\n",
    "        lstm_out, (hidden, cell) = self.lstm(embedded)\n",
    "        \n",
    "        # 마지막 타임스텝 출력 사용\n",
    "        last_output = lstm_out[:, -1, :]\n",
    "        last_output = self.dropout(last_output)\n",
    "        \n",
    "        output = self.fc(last_output)\n",
    "        return output\n",
    "\n",
    "class SimpleGRU(nn.Module):\n",
    "    \"\"\"\n",
    "    GRU 모델\n",
    "    LSTM보다 간단하면서도 성능이 비슷한 모델\n",
    "    \"\"\"\n",
    "    def __init__(self, vocab_size, embedding_dim, hidden_dim, output_dim, num_layers=1):\n",
    "        super(SimpleGRU, self).__init__()\n",
    "        \n",
    "        self.embedding = nn.Embedding(vocab_size, embedding_dim, padding_idx=0)\n",
    "        \n",
    "        # GRU 레이어\n",
    "        self.gru = nn.GRU(embedding_dim, hidden_dim, num_layers, batch_first=True)\n",
    "        \n",
    "        self.fc = nn.Linear(hidden_dim, output_dim)\n",
    "        self.dropout = nn.Dropout(0.3)\n",
    "        \n",
    "    def forward(self, x):\n",
    "        embedded = self.embedding(x)\n",
    "        \n",
    "        # GRU는 hidden state만 반환 (cell state 없음)\n",
    "        gru_out, hidden = self.gru(embedded)\n",
    "        \n",
    "        last_output = gru_out[:, -1, :]\n",
    "        last_output = self.dropout(last_output)\n",
    "        \n",
    "        output = self.fc(last_output)\n",
    "        return output\n",
    "\n",
    "# 모델 하이퍼파라미터\n",
    "vocab_size = preprocessor.vocab_size\n",
    "embedding_dim = 100\n",
    "hidden_dim = 128\n",
    "output_dim = 2  # 이진 분류 (긍정/부정)\n",
    "num_layers = 2\n",
    "\n",
    "# 모델 인스턴스 생성\n",
    "rnn_model = SimpleRNN(vocab_size, embedding_dim, hidden_dim, output_dim, num_layers)\n",
    "lstm_model = SimpleLSTM(vocab_size, embedding_dim, hidden_dim, output_dim, num_layers)\n",
    "gru_model = SimpleGRU(vocab_size, embedding_dim, hidden_dim, output_dim, num_layers)\n",
    "\n",
    "print(\"🤖 모델 생성 완료:\")\n",
    "print(f\"   - RNN 파라미터 수: {sum(p.numel() for p in rnn_model.parameters()):,}\")\n",
    "print(f\"   - LSTM 파라미터 수: {sum(p.numel() for p in lstm_model.parameters()):,}\")\n",
    "print(f\"   - GRU 파라미터 수: {sum(p.numel() for p in gru_model.parameters()):,}\")"
   ]
  },
  {
   "cell_type": "code",
   "execution_count": 7,
   "id": "64f1372d-164a-4153-b695-fa3e29fcc584",
   "metadata": {},
   "outputs": [],
   "source": [
    "# ==================================================================================\n",
    "# 5. 훈련 및 평가 함수\n",
    "# ==================================================================================\n",
    "\n",
    "def train_model(model, train_loader, test_loader, epochs=10, lr=0.001):\n",
    "    \"\"\"\n",
    "    모델 훈련 함수\n",
    "    초심자가 훈련 과정을 이해할 수 있도록 상세한 로그 포함\n",
    "    \"\"\"\n",
    "    device = torch.device('cuda' if torch.cuda.is_available() else 'cpu')\n",
    "    model.to(device)\n",
    "    \n",
    "    criterion = nn.CrossEntropyLoss()\n",
    "    optimizer = optim.Adam(model.parameters(), lr=lr)\n",
    "    \n",
    "    train_losses = []\n",
    "    train_accuracies = []\n",
    "    test_accuracies = []\n",
    "    \n",
    "    print(f\"🚀 훈련 시작 (장치: {device})\")\n",
    "    print(\"=\" * 50)\n",
    "    \n",
    "    for epoch in range(epochs):\n",
    "        # 훈련 모드\n",
    "        model.train()\n",
    "        total_loss = 0\n",
    "        correct = 0\n",
    "        total = 0\n",
    "        \n",
    "        # 훈련 배치 처리\n",
    "        for batch_idx, (data, target) in enumerate(train_loader):\n",
    "            data, target = data.to(device), target.to(device)\n",
    "            \n",
    "            optimizer.zero_grad()\n",
    "            output = model(data)\n",
    "            loss = criterion(output, target)\n",
    "            loss.backward()\n",
    "            optimizer.step()\n",
    "            \n",
    "            total_loss += loss.item()\n",
    "            pred = output.argmax(dim=1)\n",
    "            correct += pred.eq(target).sum().item()\n",
    "            total += target.size(0)\n",
    "        \n",
    "        train_loss = total_loss / len(train_loader)\n",
    "        train_acc = 100. * correct / total\n",
    "        \n",
    "        # 평가 모드\n",
    "        model.eval()\n",
    "        test_correct = 0\n",
    "        test_total = 0\n",
    "        \n",
    "        with torch.no_grad():\n",
    "            for data, target in test_loader:\n",
    "                data, target = data.to(device), target.to(device)\n",
    "                output = model(data)\n",
    "                pred = output.argmax(dim=1)\n",
    "                test_correct += pred.eq(target).sum().item()\n",
    "                test_total += target.size(0)\n",
    "        \n",
    "        test_acc = 100. * test_correct / test_total\n",
    "        \n",
    "        train_losses.append(train_loss)\n",
    "        train_accuracies.append(train_acc)\n",
    "        test_accuracies.append(test_acc)\n",
    "        \n",
    "        print(f'Epoch {epoch+1:2d}/{epochs}: '\n",
    "              f'Loss: {train_loss:.4f}, '\n",
    "              f'Train Acc: {train_acc:.2f}%, '\n",
    "              f'Test Acc: {test_acc:.2f}%')\n",
    "    \n",
    "    return train_losses, train_accuracies, test_accuracies\n",
    "\n",
    "def evaluate_model(model, test_loader):\n",
    "    \"\"\"모델 상세 평가\"\"\"\n",
    "    device = torch.device('cuda' if torch.cuda.is_available() else 'cpu')\n",
    "    model.eval()\n",
    "    \n",
    "    all_preds = []\n",
    "    all_targets = []\n",
    "    \n",
    "    with torch.no_grad():\n",
    "        for data, target in test_loader:\n",
    "            data, target = data.to(device), target.to(device)\n",
    "            output = model(data)\n",
    "            pred = output.argmax(dim=1)\n",
    "            \n",
    "            all_preds.extend(pred.cpu().numpy())\n",
    "            all_targets.extend(target.cpu().numpy())\n",
    "    \n",
    "    accuracy = accuracy_score(all_targets, all_preds)\n",
    "    report = classification_report(all_targets, all_preds, \n",
    "                                 target_names=['부정', '긍정'])\n",
    "    \n",
    "    return accuracy, report, all_targets, all_preds"
   ]
  },
  {
   "cell_type": "code",
   "execution_count": 8,
   "id": "ba71f912-b24c-46c9-9dd4-7519839727ec",
   "metadata": {},
   "outputs": [
    {
     "name": "stdout",
     "output_type": "stream",
     "text": [
      "\n",
      "🔥 모델별 훈련 시작!\n",
      "============================================================\n",
      "\n",
      "📊 RNN 모델 훈련 중...\n",
      "🚀 훈련 시작 (장치: cuda)\n",
      "==================================================\n",
      "Epoch  1/15: Loss: 0.4151, Train Acc: 78.75%, Test Acc: 100.00%\n",
      "Epoch  2/15: Loss: 0.0078, Train Acc: 100.00%, Test Acc: 100.00%\n",
      "Epoch  3/15: Loss: 0.0006, Train Acc: 100.00%, Test Acc: 100.00%\n",
      "Epoch  4/15: Loss: 0.0004, Train Acc: 100.00%, Test Acc: 100.00%\n",
      "Epoch  5/15: Loss: 0.0003, Train Acc: 100.00%, Test Acc: 100.00%\n",
      "Epoch  6/15: Loss: 0.0002, Train Acc: 100.00%, Test Acc: 100.00%\n",
      "Epoch  7/15: Loss: 0.0002, Train Acc: 100.00%, Test Acc: 100.00%\n",
      "Epoch  8/15: Loss: 0.0002, Train Acc: 100.00%, Test Acc: 100.00%\n",
      "Epoch  9/15: Loss: 0.0002, Train Acc: 100.00%, Test Acc: 100.00%\n",
      "Epoch 10/15: Loss: 0.0001, Train Acc: 100.00%, Test Acc: 100.00%\n",
      "Epoch 11/15: Loss: 0.0001, Train Acc: 100.00%, Test Acc: 100.00%\n",
      "Epoch 12/15: Loss: 0.0001, Train Acc: 100.00%, Test Acc: 100.00%\n",
      "Epoch 13/15: Loss: 0.0001, Train Acc: 100.00%, Test Acc: 100.00%\n",
      "Epoch 14/15: Loss: 0.0001, Train Acc: 100.00%, Test Acc: 100.00%\n",
      "Epoch 15/15: Loss: 0.0001, Train Acc: 100.00%, Test Acc: 100.00%\n",
      "✅ RNN 최종 정확도: 1.0000\n",
      "\n",
      "📊 LSTM 모델 훈련 중...\n",
      "🚀 훈련 시작 (장치: cuda)\n",
      "==================================================\n",
      "Epoch  1/15: Loss: 0.6256, Train Acc: 61.88%, Test Acc: 100.00%\n",
      "Epoch  2/15: Loss: 0.0356, Train Acc: 100.00%, Test Acc: 100.00%\n",
      "Epoch  3/15: Loss: 0.0003, Train Acc: 100.00%, Test Acc: 100.00%\n",
      "Epoch  4/15: Loss: 0.0002, Train Acc: 100.00%, Test Acc: 100.00%\n",
      "Epoch  5/15: Loss: 0.0002, Train Acc: 100.00%, Test Acc: 100.00%\n",
      "Epoch  6/15: Loss: 0.0001, Train Acc: 100.00%, Test Acc: 100.00%\n",
      "Epoch  7/15: Loss: 0.0001, Train Acc: 100.00%, Test Acc: 100.00%\n",
      "Epoch  8/15: Loss: 0.0001, Train Acc: 100.00%, Test Acc: 100.00%\n",
      "Epoch  9/15: Loss: 0.0001, Train Acc: 100.00%, Test Acc: 100.00%\n",
      "Epoch 10/15: Loss: 0.0001, Train Acc: 100.00%, Test Acc: 100.00%\n",
      "Epoch 11/15: Loss: 0.0001, Train Acc: 100.00%, Test Acc: 100.00%\n",
      "Epoch 12/15: Loss: 0.0001, Train Acc: 100.00%, Test Acc: 100.00%\n",
      "Epoch 13/15: Loss: 0.0001, Train Acc: 100.00%, Test Acc: 100.00%\n",
      "Epoch 14/15: Loss: 0.0001, Train Acc: 100.00%, Test Acc: 100.00%\n",
      "Epoch 15/15: Loss: 0.0000, Train Acc: 100.00%, Test Acc: 100.00%\n",
      "✅ LSTM 최종 정확도: 1.0000\n",
      "\n",
      "📊 GRU 모델 훈련 중...\n",
      "🚀 훈련 시작 (장치: cuda)\n",
      "==================================================\n",
      "Epoch  1/15: Loss: 0.4724, Train Acc: 70.75%, Test Acc: 100.00%\n",
      "Epoch  2/15: Loss: 0.0004, Train Acc: 100.00%, Test Acc: 100.00%\n",
      "Epoch  3/15: Loss: 0.0001, Train Acc: 100.00%, Test Acc: 100.00%\n",
      "Epoch  4/15: Loss: 0.0001, Train Acc: 100.00%, Test Acc: 100.00%\n",
      "Epoch  5/15: Loss: 0.0001, Train Acc: 100.00%, Test Acc: 100.00%\n",
      "Epoch  6/15: Loss: 0.0001, Train Acc: 100.00%, Test Acc: 100.00%\n",
      "Epoch  7/15: Loss: 0.0001, Train Acc: 100.00%, Test Acc: 100.00%\n",
      "Epoch  8/15: Loss: 0.0000, Train Acc: 100.00%, Test Acc: 100.00%\n",
      "Epoch  9/15: Loss: 0.0000, Train Acc: 100.00%, Test Acc: 100.00%\n",
      "Epoch 10/15: Loss: 0.0000, Train Acc: 100.00%, Test Acc: 100.00%\n",
      "Epoch 11/15: Loss: 0.0000, Train Acc: 100.00%, Test Acc: 100.00%\n",
      "Epoch 12/15: Loss: 0.0000, Train Acc: 100.00%, Test Acc: 100.00%\n",
      "Epoch 13/15: Loss: 0.0000, Train Acc: 100.00%, Test Acc: 100.00%\n",
      "Epoch 14/15: Loss: 0.0000, Train Acc: 100.00%, Test Acc: 100.00%\n",
      "Epoch 15/15: Loss: 0.0000, Train Acc: 100.00%, Test Acc: 100.00%\n",
      "✅ GRU 최종 정확도: 1.0000\n"
     ]
    }
   ],
   "source": [
    "# ==================================================================================\n",
    "# 6. 모델 훈련 및 비교\n",
    "# ==================================================================================\n",
    "\n",
    "print(\"\\n🔥 모델별 훈련 시작!\")\n",
    "print(\"=\" * 60)\n",
    "\n",
    "# 각 모델 훈련\n",
    "models = {\n",
    "    'RNN': rnn_model,\n",
    "    'LSTM': lstm_model, \n",
    "    'GRU': gru_model\n",
    "}\n",
    "\n",
    "results = {}\n",
    "\n",
    "for name, model in models.items():\n",
    "    print(f\"\\n📊 {name} 모델 훈련 중...\")\n",
    "    \n",
    "    train_losses, train_accs, test_accs = train_model(\n",
    "        model, train_loader, test_loader, epochs=15, lr=0.001\n",
    "    )\n",
    "    \n",
    "    # 평가\n",
    "    accuracy, report, targets, preds = evaluate_model(model, test_loader)\n",
    "    \n",
    "    results[name] = {\n",
    "        'model': model,\n",
    "        'train_losses': train_losses,\n",
    "        'train_accuracies': train_accs,\n",
    "        'test_accuracies': test_accs,\n",
    "        'final_accuracy': accuracy,\n",
    "        'report': report,\n",
    "        'targets': targets,\n",
    "        'predictions': preds\n",
    "    }\n",
    "    \n",
    "    print(f\"✅ {name} 최종 정확도: {accuracy:.4f}\")"
   ]
  },
  {
   "cell_type": "code",
   "execution_count": 9,
   "id": "794d3ab7-b7dd-4f82-934a-e5dbb233a454",
   "metadata": {},
   "outputs": [
    {
     "data": {
      "image/png": "[encoded data removed]",
      "text/plain": [
       "<Figure size 1500x1000 with 4 Axes>"
      ]
     },
     "metadata": {},
     "output_type": "display_data"
    },
    {
     "data": {
      "image/png": "[encoded data removed]",
      "text/plain": [
       "<Figure size 1500x400 with 6 Axes>"
      ]
     },
     "metadata": {},
     "output_type": "display_data"
    }
   ],
   "source": [
    "# ==================================================================================\n",
    "# 7. 결과 시각화 및 비교\n",
    "# ==================================================================================\n",
    "\n",
    "# 훈련 과정 시각화\n",
    "fig, axes = plt.subplots(2, 2, figsize=(15, 10))\n",
    "\n",
    "# 손실 곡선\n",
    "axes[0, 0].set_title('훈련 손실 (Training Loss)', fontsize=14, fontweight='bold')\n",
    "for name, result in results.items():\n",
    "    axes[0, 0].plot(result['train_losses'], label=name, linewidth=2)\n",
    "axes[0, 0].legend()\n",
    "axes[0, 0].set_xlabel('Epoch')\n",
    "axes[0, 0].set_ylabel('Loss')\n",
    "axes[0, 0].grid(True, alpha=0.3)\n",
    "\n",
    "# 훈련 정확도\n",
    "axes[0, 1].set_title('훈련 정확도 (Training Accuracy)', fontsize=14, fontweight='bold')\n",
    "for name, result in results.items():\n",
    "    axes[0, 1].plot(result['train_accuracies'], label=name, linewidth=2)\n",
    "axes[0, 1].legend()\n",
    "axes[0, 1].set_xlabel('Epoch')\n",
    "axes[0, 1].set_ylabel('Accuracy (%)')\n",
    "axes[0, 1].grid(True, alpha=0.3)\n",
    "\n",
    "# 테스트 정확도\n",
    "axes[1, 0].set_title('테스트 정확도 (Test Accuracy)', fontsize=14, fontweight='bold')\n",
    "for name, result in results.items():\n",
    "    axes[1, 0].plot(result['test_accuracies'], label=name, linewidth=2)\n",
    "axes[1, 0].legend()\n",
    "axes[1, 0].set_xlabel('Epoch')\n",
    "axes[1, 0].set_ylabel('Accuracy (%)')\n",
    "axes[1, 0].grid(True, alpha=0.3)\n",
    "\n",
    "# 최종 성능 비교\n",
    "model_names = list(results.keys())\n",
    "final_accuracies = [results[name]['final_accuracy'] for name in model_names]\n",
    "\n",
    "axes[1, 1].set_title('최종 성능 비교', fontsize=14, fontweight='bold')\n",
    "bars = axes[1, 1].bar(model_names, final_accuracies, \n",
    "                      color=['skyblue', 'lightgreen', 'salmon'])\n",
    "axes[1, 1].set_ylabel('Accuracy')\n",
    "axes[1, 1].set_ylim(0, 1)\n",
    "\n",
    "# 막대 위에 정확도 값 표시\n",
    "for bar, acc in zip(bars, final_accuracies):\n",
    "    height = bar.get_height()\n",
    "    axes[1, 1].text(bar.get_x() + bar.get_width()/2., height + 0.01,\n",
    "                    f'{acc:.3f}', ha='center', va='bottom', fontweight='bold')\n",
    "\n",
    "plt.tight_layout()\n",
    "plt.show()\n",
    "\n",
    "# 혼동 행렬 시각화\n",
    "fig, axes = plt.subplots(1, 3, figsize=(15, 4))\n",
    "\n",
    "for idx, (name, result) in enumerate(results.items()):\n",
    "    cm = confusion_matrix(result['targets'], result['predictions'])\n",
    "    \n",
    "    sns.heatmap(cm, annot=True, fmt='d', cmap='Blues', \n",
    "                xticklabels=['부정', '긍정'], \n",
    "                yticklabels=['부정', '긍정'], \n",
    "                ax=axes[idx])\n",
    "    axes[idx].set_title(f'{name} 혼동 행렬')\n",
    "    axes[idx].set_xlabel('예측')\n",
    "    axes[idx].set_ylabel('실제')\n",
    "\n",
    "plt.tight_layout()\n",
    "plt.show()"
   ]
  },
  {
   "cell_type": "code",
   "execution_count": 10,
   "id": "a4ae35a0-3830-4fff-b235-fa6f7a967362",
   "metadata": {},
   "outputs": [
    {
     "name": "stdout",
     "output_type": "stream",
     "text": [
      "\n",
      "📈 모델 성능 상세 분석\n",
      "============================================================\n",
      "🏆 최고 성능 모델: RNN\n",
      "   정확도: 1.0000\n",
      "\n",
      "📊 각 모델별 분류 리포트:\n",
      "\n",
      "RNN 모델:\n",
      "              precision    recall  f1-score   support\n",
      "\n",
      "          부정       1.00      1.00      1.00       100\n",
      "          긍정       1.00      1.00      1.00       100\n",
      "\n",
      "    accuracy                           1.00       200\n",
      "   macro avg       1.00      1.00      1.00       200\n",
      "weighted avg       1.00      1.00      1.00       200\n",
      "\n",
      "\n",
      "LSTM 모델:\n",
      "              precision    recall  f1-score   support\n",
      "\n",
      "          부정       1.00      1.00      1.00       100\n",
      "          긍정       1.00      1.00      1.00       100\n",
      "\n",
      "    accuracy                           1.00       200\n",
      "   macro avg       1.00      1.00      1.00       200\n",
      "weighted avg       1.00      1.00      1.00       200\n",
      "\n",
      "\n",
      "GRU 모델:\n",
      "              precision    recall  f1-score   support\n",
      "\n",
      "          부정       1.00      1.00      1.00       100\n",
      "          긍정       1.00      1.00      1.00       100\n",
      "\n",
      "    accuracy                           1.00       200\n",
      "   macro avg       1.00      1.00      1.00       200\n",
      "weighted avg       1.00      1.00      1.00       200\n",
      "\n"
     ]
    }
   ],
   "source": [
    "# ==================================================================================\n",
    "# 8. 상세 분석 및 해석\n",
    "# ==================================================================================\n",
    "\n",
    "print(\"\\n📈 모델 성능 상세 분석\")\n",
    "print(\"=\" * 60)\n",
    "\n",
    "best_model_name = max(results.keys(), key=lambda x: results[x]['final_accuracy'])\n",
    "print(f\"🏆 최고 성능 모델: {best_model_name}\")\n",
    "print(f\"   정확도: {results[best_model_name]['final_accuracy']:.4f}\")\n",
    "\n",
    "print(f\"\\n📊 각 모델별 분류 리포트:\")\n",
    "for name, result in results.items():\n",
    "    print(f\"\\n{name} 모델:\")\n",
    "    print(result['report'])"
   ]
  },
  {
   "cell_type": "code",
   "execution_count": 11,
   "id": "8d1f5b0f-0856-49d8-9754-e6ef612d7493",
   "metadata": {},
   "outputs": [
    {
     "name": "stdout",
     "output_type": "stream",
     "text": [
      "\n",
      "🔮 실제 예측 테스트 (RNN 모델 사용)\n",
      "============================================================\n",
      "문장: 'This movie is absolutely fantastic!'\n",
      "예측: 긍정 (신뢰도: 0.9999)\n",
      "----------------------------------------\n",
      "문장: 'Terrible film, waste of my time'\n",
      "예측: 부정 (신뢰도: 0.9999)\n",
      "----------------------------------------\n",
      "문장: 'Great story and amazing acting'\n",
      "예측: 긍정 (신뢰도: 0.9999)\n",
      "----------------------------------------\n",
      "문장: 'Boring and disappointing movie'\n",
      "예측: 부정 (신뢰도: 0.9999)\n",
      "----------------------------------------\n"
     ]
    }
   ],
   "source": [
    "# ==================================================================================\n",
    "# 9. 실제 예측 테스트\n",
    "# ==================================================================================\n",
    "\n",
    "def predict_sentiment(model, text, preprocessor):\n",
    "    \"\"\"새로운 텍스트의 감성 예측\"\"\"\n",
    "    device = torch.device('cuda' if torch.cuda.is_available() else 'cpu')\n",
    "    model.eval()\n",
    "    \n",
    "    # 전처리\n",
    "    sequence = preprocessor.text_to_sequence(text)\n",
    "    sequence_tensor = torch.tensor([sequence], dtype=torch.long).to(device)\n",
    "    \n",
    "    with torch.no_grad():\n",
    "        output = model(sequence_tensor)\n",
    "        probabilities = F.softmax(output, dim=1)\n",
    "        prediction = output.argmax(dim=1).item()\n",
    "        confidence = probabilities[0][prediction].item()\n",
    "    \n",
    "    sentiment = \"긍정\" if prediction == 1 else \"부정\"\n",
    "    return sentiment, confidence\n",
    "\n",
    "# 테스트 문장들\n",
    "test_sentences = [\n",
    "    \"This movie is absolutely fantastic!\",\n",
    "    \"Terrible film, waste of my time\",\n",
    "    \"Great story and amazing acting\",\n",
    "    \"Boring and disappointing movie\"\n",
    "]\n",
    "\n",
    "print(f\"\\n🔮 실제 예측 테스트 ({best_model_name} 모델 사용)\")\n",
    "print(\"=\" * 60)\n",
    "\n",
    "best_model = results[best_model_name]['model']\n",
    "for sentence in test_sentences:\n",
    "    sentiment, confidence = predict_sentiment(best_model, sentence, preprocessor)\n",
    "    print(f\"문장: '{sentence}'\")\n",
    "    print(f\"예측: {sentiment} (신뢰도: {confidence:.4f})\")\n",
    "    print(\"-\" * 40)"
   ]
  },
  {
   "cell_type": "code",
   "execution_count": 12,
   "id": "4b03d012-0cd2-4518-9549-2b21c1864ca7",
   "metadata": {},
   "outputs": [
    {
     "name": "stdout",
     "output_type": "stream",
     "text": [
      "\n",
      "📚 초심자를 위한 핵심 개념 정리\n",
      "============================================================\n",
      "\n",
      "🔍 RNN (Recurrent Neural Network):\n",
      "   • 순서가 있는 데이터(시퀀스)를 처리하는 신경망\n",
      "   • 이전 시점의 정보를 기억하여 현재 예측에 활용\n",
      "   • 문제점: 긴 시퀀스에서 기울기 소실 문제 발생\n",
      "\n",
      "🔍 LSTM (Long Short-Term Memory):\n",
      "   • RNN의 기울기 소실 문제를 해결한 개선 버전\n",
      "   • Cell State와 Hidden State 두 가지 상태 유지\n",
      "   • Forget Gate, Input Gate, Output Gate로 정보 제어\n",
      "   • 장기 의존성 문제 해결에 효과적\n",
      "\n",
      "🔍 GRU (Gated Recurrent Unit):\n",
      "   • LSTM보다 간단한 구조로 비슷한 성능 달성\n",
      "   • Reset Gate와 Update Gate 두 개의 게이트만 사용\n",
      "   • 파라미터 수가 적어 훈련 속도가 빠름\n",
      "   • 실무에서 LSTM과 함께 널리 사용\n",
      "\n",
      "💡 실무 팁:\n",
      "   • 짧은 시퀀스: RNN도 충분히 효과적\n",
      "   • 긴 시퀀스: LSTM 또는 GRU 권장\n",
      "   • 빠른 실험: GRU가 훈련 속도 면에서 유리\n",
      "   • 정확도 우선: LSTM이 약간 더 나은 경우 많음\n",
      "   • 현재 트렌드: Transformer 기반 모델이 대세\n",
      "\n",
      "✅ 실습 완료! 최고 성능: RNN (1.0000)\n",
      "============================================================\n"
     ]
    }
   ],
   "source": [
    "# ==================================================================================\n",
    "# 10. 초심자를 위한 핵심 개념 정리\n",
    "# ==================================================================================\n",
    "\n",
    "print(\"\\n📚 초심자를 위한 핵심 개념 정리\")\n",
    "print(\"=\" * 60)\n",
    "\n",
    "concepts = {\n",
    "    \"RNN (Recurrent Neural Network)\": [\n",
    "        \"순서가 있는 데이터(시퀀스)를 처리하는 신경망\",\n",
    "        \"이전 시점의 정보를 기억하여 현재 예측에 활용\",\n",
    "        \"문제점: 긴 시퀀스에서 기울기 소실 문제 발생\"\n",
    "    ],\n",
    "    \n",
    "    \"LSTM (Long Short-Term Memory)\": [\n",
    "        \"RNN의 기울기 소실 문제를 해결한 개선 버전\",\n",
    "        \"Cell State와 Hidden State 두 가지 상태 유지\",\n",
    "        \"Forget Gate, Input Gate, Output Gate로 정보 제어\",\n",
    "        \"장기 의존성 문제 해결에 효과적\"\n",
    "    ],\n",
    "    \n",
    "    \"GRU (Gated Recurrent Unit)\": [\n",
    "        \"LSTM보다 간단한 구조로 비슷한 성능 달성\",\n",
    "        \"Reset Gate와 Update Gate 두 개의 게이트만 사용\",\n",
    "        \"파라미터 수가 적어 훈련 속도가 빠름\",\n",
    "        \"실무에서 LSTM과 함께 널리 사용\"\n",
    "    ]\n",
    "}\n",
    "\n",
    "for concept, explanations in concepts.items():\n",
    "    print(f\"\\n🔍 {concept}:\")\n",
    "    for explanation in explanations:\n",
    "        print(f\"   • {explanation}\")\n",
    "\n",
    "print(\"\\n💡 실무 팁:\")\n",
    "print(\"   • 짧은 시퀀스: RNN도 충분히 효과적\")\n",
    "print(\"   • 긴 시퀀스: LSTM 또는 GRU 권장\")\n",
    "print(\"   • 빠른 실험: GRU가 훈련 속도 면에서 유리\")\n",
    "print(\"   • 정확도 우선: LSTM이 약간 더 나은 경우 많음\")\n",
    "print(\"   • 현재 트렌드: Transformer 기반 모델이 대세\")\n",
    "\n",
    "print(f\"\\n✅ 실습 완료! 최고 성능: {best_model_name} ({results[best_model_name]['final_accuracy']:.4f})\")\n",
    "print(\"=\" * 60)"
   ]
  },
  {
   "cell_type": "code",
   "execution_count": null,
   "id": "b531445c-ca04-4e5f-bbdd-c947435678b2",
   "metadata": {},
   "outputs": [],
   "source": []
  },
  {
   "cell_type": "code",
   "execution_count": null,
   "id": "b01d2618-b758-48cb-b50c-be7330ad9636",
   "metadata": {},
   "outputs": [],
   "source": []
  },
  {
   "cell_type": "code",
   "execution_count": null,
   "id": "fef2762b-1838-4992-a3c9-a573690446eb",
   "metadata": {},
   "outputs": [],
   "source": []
  },
  {
   "cell_type": "code",
   "execution_count": null,
   "id": "db879cfd-3b2f-4baf-8465-a3bed71673ea",
   "metadata": {},
   "outputs": [],
   "source": []
  },
  {
   "cell_type": "code",
   "execution_count": null,
   "id": "3de11db2-f87d-42a2-877e-0dd39a7edfab",
   "metadata": {},
   "outputs": [],
   "source": []
  },
  {
   "cell_type": "code",
   "execution_count": null,
   "id": "3fc31b46-3187-4b27-85a9-55444fc3a0aa",
   "metadata": {},
   "outputs": [],
   "source": []
  },
  {
   "cell_type": "code",
   "execution_count": 13,
   "id": "8948e18c-f52e-4fed-bd79-dfe01501145d",
   "metadata": {
    "scrolled": true
   },
   "outputs": [
    {
     "name": "stdout",
     "output_type": "stream",
     "text": [
      "🚀 한글 감성분석을 위한 RNN, LSTM, GRU 실습을 시작합니다!\n",
      "======================================================================\n",
      "📊 데이터셋 크기: 1020\n",
      "긍정 리뷰: 510개\n",
      "부정 리뷰: 510개\n",
      "\n",
      "샘플 데이터:\n",
      "              text  label\n",
      "0     영화는 정말 훌륭했어요      1\n",
      "1  매우 감동적인 스토리였습니다      1\n",
      "2   배우들의 연기가 뛰어났어요      1\n",
      "3        완벽한 작품이네요      1\n",
      "4   다시 보고 싶은 영화입니다      1\n",
      "5    최고의 영화 중 하나예요      1\n",
      "6      정말 재미있게 봤어요      1\n",
      "7    감동적이고 아름다운 영화      1\n",
      "8      훌륭한 연출과 스토리      1\n",
      "9       놀라운 영화였습니다      1\n",
      "\n",
      "🔄 한글 텍스트 전처리 시작...\n",
      "\n",
      "🔍 토크나이징 비교:\n",
      "원본: 이 영화는 정말 재미있고 감동적이었어요\n",
      "형태소 분석: ['이', '영화', '는', '정말', '재미있다', '감동', '적', '이다']\n",
      "단순 분리: ['이', '영화는', '정말', '재미있고', '감동적이었어요']\n",
      "📝 어휘집 구축 중...\n"
     ]
    },
    {
     "name": "stderr",
     "output_type": "stream",
     "text": [
      "토크나이징: 100%|██████████| 1020/1020 [00:01<00:00, 867.00it/s]\n"
     ]
    },
    {
     "name": "stdout",
     "output_type": "stream",
     "text": [
      "📚 어휘집 크기: 85\n",
      "🔤 가장 빈번한 단어들: [('영화', 255), ('이다', 150), ('정말', 135), ('의', 105), ('작품', 105), ('감동', 90), ('스토리', 90), ('좋다', 90), ('너무', 90), ('연기', 75)]\n",
      "\n",
      "🔄 텍스트 → 숫자 시퀀스 변환 중...\n"
     ]
    },
    {
     "name": "stderr",
     "output_type": "stream",
     "text": [
      "시퀀스 변환: 100%|██████████| 1020/1020 [00:00<00:00, 1401.69it/s]\n"
     ]
    },
    {
     "name": "stdout",
     "output_type": "stream",
     "text": [
      "\n",
      "✅ 변환 완료!\n",
      "예시:\n",
      "원본: 영화는 정말 훌륭했어요\n",
      "토큰: ['영화', '는', '정말', '훌륭하다']\n",
      "시퀀스: [2, 30, 4, 24, 0, 0, 0, 0, 0, 0, 0, 0, 0, 0, 0, 0, 0, 0, 0, 0, 0, 0, 0, 0, 0, 0, 0, 0, 0, 0]\n",
      "🔨 훈련 데이터: 816개\n",
      "🔨 테스트 데이터: 204개\n",
      "🤖 한글 감성분석 모델 생성 완료:\n",
      "   - RNN 파라미터 수: 241,794\n",
      "   - LSTM 파라미터 수: 932,994\n",
      "   - GRU 파라미터 수: 702,594\n",
      "\n",
      "🔥 한글 감성분석 모델 훈련 시작!\n",
      "======================================================================\n",
      "\n",
      "📊 RNN 모델 훈련 중...\n",
      "🚀 훈련 시작 (장치: cuda)\n",
      "============================================================\n"
     ]
    },
    {
     "name": "stderr",
     "output_type": "stream",
     "text": [
      "Epoch 1/20: 100%|██████████| 26/26 [00:00<00:00, 57.20it/s, Loss=0.6944, Acc=50.86%]\n"
     ]
    },
    {
     "name": "stdout",
     "output_type": "stream",
     "text": [
      "Epoch  1/20: Loss: 0.6967, Train Acc: 50.86%, Test Acc: 50.00%, LR: 0.001000\n"
     ]
    },
    {
     "name": "stderr",
     "output_type": "stream",
     "text": [
      "Epoch 2/20: 100%|██████████| 26/26 [00:00<00:00, 127.41it/s, Loss=0.4721, Acc=62.50%]\n"
     ]
    },
    {
     "name": "stdout",
     "output_type": "stream",
     "text": [
      "Epoch  2/20: Loss: 0.5996, Train Acc: 62.50%, Test Acc: 90.20%, LR: 0.001000\n"
     ]
    },
    {
     "name": "stderr",
     "output_type": "stream",
     "text": [
      "Epoch 3/20: 100%|██████████| 26/26 [00:00<00:00, 127.19it/s, Loss=0.0072, Acc=91.79%]\n"
     ]
    },
    {
     "name": "stdout",
     "output_type": "stream",
     "text": [
      "Epoch  3/20: Loss: 0.2449, Train Acc: 91.79%, Test Acc: 95.59%, LR: 0.001000\n"
     ]
    },
    {
     "name": "stderr",
     "output_type": "stream",
     "text": [
      "Epoch 4/20: 100%|██████████| 26/26 [00:00<00:00, 128.65it/s, Loss=0.6072, Acc=96.32%]\n"
     ]
    },
    {
     "name": "stdout",
     "output_type": "stream",
     "text": [
      "Epoch  4/20: Loss: 0.1082, Train Acc: 96.32%, Test Acc: 95.59%, LR: 0.001000\n"
     ]
    },
    {
     "name": "stderr",
     "output_type": "stream",
     "text": [
      "Epoch 5/20: 100%|██████████| 26/26 [00:00<00:00, 128.92it/s, Loss=0.0054, Acc=95.34%]\n"
     ]
    },
    {
     "name": "stdout",
     "output_type": "stream",
     "text": [
      "Epoch  5/20: Loss: 0.1429, Train Acc: 95.34%, Test Acc: 100.00%, LR: 0.001000\n"
     ]
    },
    {
     "name": "stderr",
     "output_type": "stream",
     "text": [
      "Epoch 6/20: 100%|██████████| 26/26 [00:00<00:00, 129.75it/s, Loss=0.0037, Acc=99.75%]\n"
     ]
    },
    {
     "name": "stdout",
     "output_type": "stream",
     "text": [
      "Epoch  6/20: Loss: 0.0111, Train Acc: 99.75%, Test Acc: 98.04%, LR: 0.000800\n"
     ]
    },
    {
     "name": "stderr",
     "output_type": "stream",
     "text": [
      "Epoch 7/20: 100%|██████████| 26/26 [00:00<00:00, 127.73it/s, Loss=0.0005, Acc=99.14%]\n"
     ]
    },
    {
     "name": "stdout",
     "output_type": "stream",
     "text": [
      "Epoch  7/20: Loss: 0.0256, Train Acc: 99.14%, Test Acc: 98.04%, LR: 0.000800\n"
     ]
    },
    {
     "name": "stderr",
     "output_type": "stream",
     "text": [
      "Epoch 8/20: 100%|██████████| 26/26 [00:00<00:00, 129.70it/s, Loss=0.0003, Acc=99.14%]\n"
     ]
    },
    {
     "name": "stdout",
     "output_type": "stream",
     "text": [
      "Epoch  8/20: Loss: 0.0298, Train Acc: 99.14%, Test Acc: 96.57%, LR: 0.000800\n"
     ]
    },
    {
     "name": "stderr",
     "output_type": "stream",
     "text": [
      "Epoch 9/20: 100%|██████████| 26/26 [00:00<00:00, 128.43it/s, Loss=0.0060, Acc=97.55%]\n"
     ]
    },
    {
     "name": "stdout",
     "output_type": "stream",
     "text": [
      "Epoch  9/20: Loss: 0.0992, Train Acc: 97.55%, Test Acc: 98.04%, LR: 0.000800\n"
     ]
    },
    {
     "name": "stderr",
     "output_type": "stream",
     "text": [
      "Epoch 10/20: 100%|██████████| 26/26 [00:00<00:00, 127.98it/s, Loss=0.0025, Acc=98.90%]\n"
     ]
    },
    {
     "name": "stdout",
     "output_type": "stream",
     "text": [
      "Epoch 10/20: Loss: 0.0399, Train Acc: 98.90%, Test Acc: 100.00%, LR: 0.000800\n"
     ]
    },
    {
     "name": "stderr",
     "output_type": "stream",
     "text": [
      "Epoch 11/20: 100%|██████████| 26/26 [00:00<00:00, 129.59it/s, Loss=0.0002, Acc=100.00%]\n"
     ]
    },
    {
     "name": "stdout",
     "output_type": "stream",
     "text": [
      "Epoch 11/20: Loss: 0.0006, Train Acc: 100.00%, Test Acc: 100.00%, LR: 0.000640\n"
     ]
    },
    {
     "name": "stderr",
     "output_type": "stream",
     "text": [
      "Epoch 12/20: 100%|██████████| 26/26 [00:00<00:00, 126.78it/s, Loss=0.0002, Acc=100.00%]\n"
     ]
    },
    {
     "name": "stdout",
     "output_type": "stream",
     "text": [
      "Epoch 12/20: Loss: 0.0003, Train Acc: 100.00%, Test Acc: 100.00%, LR: 0.000640\n"
     ]
    },
    {
     "name": "stderr",
     "output_type": "stream",
     "text": [
      "Epoch 13/20: 100%|██████████| 26/26 [00:00<00:00, 129.31it/s, Loss=0.0002, Acc=100.00%]\n"
     ]
    },
    {
     "name": "stdout",
     "output_type": "stream",
     "text": [
      "Epoch 13/20: Loss: 0.0002, Train Acc: 100.00%, Test Acc: 100.00%, LR: 0.000640\n"
     ]
    },
    {
     "name": "stderr",
     "output_type": "stream",
     "text": [
      "Epoch 14/20: 100%|██████████| 26/26 [00:00<00:00, 127.72it/s, Loss=0.0002, Acc=100.00%]\n"
     ]
    },
    {
     "name": "stdout",
     "output_type": "stream",
     "text": [
      "Epoch 14/20: Loss: 0.0002, Train Acc: 100.00%, Test Acc: 100.00%, LR: 0.000640\n"
     ]
    },
    {
     "name": "stderr",
     "output_type": "stream",
     "text": [
      "Epoch 15/20: 100%|██████████| 26/26 [00:00<00:00, 129.09it/s, Loss=0.0001, Acc=100.00%]\n"
     ]
    },
    {
     "name": "stdout",
     "output_type": "stream",
     "text": [
      "Epoch 15/20: Loss: 0.0002, Train Acc: 100.00%, Test Acc: 100.00%, LR: 0.000640\n"
     ]
    },
    {
     "name": "stderr",
     "output_type": "stream",
     "text": [
      "Epoch 16/20: 100%|██████████| 26/26 [00:00<00:00, 127.58it/s, Loss=0.0001, Acc=100.00%]\n"
     ]
    },
    {
     "name": "stdout",
     "output_type": "stream",
     "text": [
      "Epoch 16/20: Loss: 0.0001, Train Acc: 100.00%, Test Acc: 100.00%, LR: 0.000512\n"
     ]
    },
    {
     "name": "stderr",
     "output_type": "stream",
     "text": [
      "Epoch 17/20: 100%|██████████| 26/26 [00:00<00:00, 129.10it/s, Loss=0.0001, Acc=100.00%]\n"
     ]
    },
    {
     "name": "stdout",
     "output_type": "stream",
     "text": [
      "Epoch 17/20: Loss: 0.0001, Train Acc: 100.00%, Test Acc: 100.00%, LR: 0.000512\n"
     ]
    },
    {
     "name": "stderr",
     "output_type": "stream",
     "text": [
      "Epoch 18/20: 100%|██████████| 26/26 [00:00<00:00, 130.08it/s, Loss=0.0001, Acc=100.00%]\n"
     ]
    },
    {
     "name": "stdout",
     "output_type": "stream",
     "text": [
      "Epoch 18/20: Loss: 0.0001, Train Acc: 100.00%, Test Acc: 100.00%, LR: 0.000512\n"
     ]
    },
    {
     "name": "stderr",
     "output_type": "stream",
     "text": [
      "Epoch 19/20: 100%|██████████| 26/26 [00:00<00:00, 128.09it/s, Loss=0.0001, Acc=100.00%]\n"
     ]
    },
    {
     "name": "stdout",
     "output_type": "stream",
     "text": [
      "Epoch 19/20: Loss: 0.0001, Train Acc: 100.00%, Test Acc: 100.00%, LR: 0.000512\n"
     ]
    },
    {
     "name": "stderr",
     "output_type": "stream",
     "text": [
      "Epoch 20/20: 100%|██████████| 26/26 [00:00<00:00, 127.60it/s, Loss=0.0001, Acc=100.00%]\n"
     ]
    },
    {
     "name": "stdout",
     "output_type": "stream",
     "text": [
      "Epoch 20/20: Loss: 0.0001, Train Acc: 100.00%, Test Acc: 100.00%, LR: 0.000512\n",
      "✅ RNN 최종 정확도: 1.0000\n",
      "\n",
      "📊 LSTM 모델 훈련 중...\n",
      "🚀 훈련 시작 (장치: cuda)\n",
      "============================================================\n"
     ]
    },
    {
     "name": "stderr",
     "output_type": "stream",
     "text": [
      "Epoch 1/20: 100%|██████████| 26/26 [00:00<00:00, 91.75it/s, Loss=0.7054, Acc=48.04%]\n"
     ]
    },
    {
     "name": "stdout",
     "output_type": "stream",
     "text": [
      "Epoch  1/20: Loss: 0.6974, Train Acc: 48.04%, Test Acc: 50.00%, LR: 0.001000\n"
     ]
    },
    {
     "name": "stderr",
     "output_type": "stream",
     "text": [
      "Epoch 2/20: 100%|██████████| 26/26 [00:00<00:00, 90.42it/s, Loss=0.6939, Acc=48.53%]\n"
     ]
    },
    {
     "name": "stdout",
     "output_type": "stream",
     "text": [
      "Epoch  2/20: Loss: 0.6935, Train Acc: 48.53%, Test Acc: 50.00%, LR: 0.001000\n"
     ]
    },
    {
     "name": "stderr",
     "output_type": "stream",
     "text": [
      "Epoch 3/20: 100%|██████████| 26/26 [00:00<00:00, 91.62it/s, Loss=0.6974, Acc=49.63%]\n"
     ]
    },
    {
     "name": "stdout",
     "output_type": "stream",
     "text": [
      "Epoch  3/20: Loss: 0.6939, Train Acc: 49.63%, Test Acc: 50.00%, LR: 0.001000\n"
     ]
    },
    {
     "name": "stderr",
     "output_type": "stream",
     "text": [
      "Epoch 4/20: 100%|██████████| 26/26 [00:00<00:00, 90.51it/s, Loss=0.6938, Acc=50.86%]\n"
     ]
    },
    {
     "name": "stdout",
     "output_type": "stream",
     "text": [
      "Epoch  4/20: Loss: 0.6929, Train Acc: 50.86%, Test Acc: 50.00%, LR: 0.001000\n"
     ]
    },
    {
     "name": "stderr",
     "output_type": "stream",
     "text": [
      "Epoch 5/20: 100%|██████████| 26/26 [00:00<00:00, 90.82it/s, Loss=0.6936, Acc=49.51%]\n"
     ]
    },
    {
     "name": "stdout",
     "output_type": "stream",
     "text": [
      "Epoch  5/20: Loss: 0.6938, Train Acc: 49.51%, Test Acc: 50.00%, LR: 0.001000\n"
     ]
    },
    {
     "name": "stderr",
     "output_type": "stream",
     "text": [
      "Epoch 6/20: 100%|██████████| 26/26 [00:00<00:00, 90.10it/s, Loss=0.6919, Acc=49.63%]\n"
     ]
    },
    {
     "name": "stdout",
     "output_type": "stream",
     "text": [
      "Epoch  6/20: Loss: 0.6951, Train Acc: 49.63%, Test Acc: 50.00%, LR: 0.000800\n"
     ]
    },
    {
     "name": "stderr",
     "output_type": "stream",
     "text": [
      "Epoch 7/20: 100%|██████████| 26/26 [00:00<00:00, 90.76it/s, Loss=0.6944, Acc=50.37%]\n"
     ]
    },
    {
     "name": "stdout",
     "output_type": "stream",
     "text": [
      "Epoch  7/20: Loss: 0.6937, Train Acc: 50.37%, Test Acc: 50.00%, LR: 0.000800\n"
     ]
    },
    {
     "name": "stderr",
     "output_type": "stream",
     "text": [
      "Epoch 8/20: 100%|██████████| 26/26 [00:00<00:00, 89.75it/s, Loss=0.6902, Acc=50.00%]\n"
     ]
    },
    {
     "name": "stdout",
     "output_type": "stream",
     "text": [
      "Epoch  8/20: Loss: 0.6932, Train Acc: 50.00%, Test Acc: 50.00%, LR: 0.000800\n"
     ]
    },
    {
     "name": "stderr",
     "output_type": "stream",
     "text": [
      "Epoch 9/20: 100%|██████████| 26/26 [00:00<00:00, 90.72it/s, Loss=0.6925, Acc=52.08%]\n"
     ]
    },
    {
     "name": "stdout",
     "output_type": "stream",
     "text": [
      "Epoch  9/20: Loss: 0.6929, Train Acc: 52.08%, Test Acc: 50.00%, LR: 0.000800\n"
     ]
    },
    {
     "name": "stderr",
     "output_type": "stream",
     "text": [
      "Epoch 10/20: 100%|██████████| 26/26 [00:00<00:00, 90.87it/s, Loss=0.6977, Acc=51.96%]\n"
     ]
    },
    {
     "name": "stdout",
     "output_type": "stream",
     "text": [
      "Epoch 10/20: Loss: 0.6933, Train Acc: 51.96%, Test Acc: 50.00%, LR: 0.000800\n"
     ]
    },
    {
     "name": "stderr",
     "output_type": "stream",
     "text": [
      "Epoch 11/20: 100%|██████████| 26/26 [00:00<00:00, 91.72it/s, Loss=0.6963, Acc=51.23%]\n"
     ]
    },
    {
     "name": "stdout",
     "output_type": "stream",
     "text": [
      "Epoch 11/20: Loss: 0.6931, Train Acc: 51.23%, Test Acc: 50.00%, LR: 0.000640\n"
     ]
    },
    {
     "name": "stderr",
     "output_type": "stream",
     "text": [
      "Epoch 12/20: 100%|██████████| 26/26 [00:00<00:00, 91.28it/s, Loss=0.6917, Acc=47.79%]\n"
     ]
    },
    {
     "name": "stdout",
     "output_type": "stream",
     "text": [
      "Epoch 12/20: Loss: 0.6939, Train Acc: 47.79%, Test Acc: 50.00%, LR: 0.000640\n"
     ]
    },
    {
     "name": "stderr",
     "output_type": "stream",
     "text": [
      "Epoch 13/20: 100%|██████████| 26/26 [00:00<00:00, 91.79it/s, Loss=0.6916, Acc=48.77%]\n"
     ]
    },
    {
     "name": "stdout",
     "output_type": "stream",
     "text": [
      "Epoch 13/20: Loss: 0.6932, Train Acc: 48.77%, Test Acc: 50.00%, LR: 0.000640\n"
     ]
    },
    {
     "name": "stderr",
     "output_type": "stream",
     "text": [
      "Epoch 14/20: 100%|██████████| 26/26 [00:00<00:00, 91.28it/s, Loss=0.6946, Acc=50.25%]\n"
     ]
    },
    {
     "name": "stdout",
     "output_type": "stream",
     "text": [
      "Epoch 14/20: Loss: 0.6932, Train Acc: 50.25%, Test Acc: 50.00%, LR: 0.000640\n"
     ]
    },
    {
     "name": "stderr",
     "output_type": "stream",
     "text": [
      "Epoch 15/20: 100%|██████████| 26/26 [00:00<00:00, 91.73it/s, Loss=0.6938, Acc=49.26%]\n"
     ]
    },
    {
     "name": "stdout",
     "output_type": "stream",
     "text": [
      "Epoch 15/20: Loss: 0.6936, Train Acc: 49.26%, Test Acc: 50.00%, LR: 0.000640\n"
     ]
    },
    {
     "name": "stderr",
     "output_type": "stream",
     "text": [
      "Epoch 16/20: 100%|██████████| 26/26 [00:00<00:00, 91.67it/s, Loss=0.6939, Acc=48.28%]\n"
     ]
    },
    {
     "name": "stdout",
     "output_type": "stream",
     "text": [
      "Epoch 16/20: Loss: 0.6935, Train Acc: 48.28%, Test Acc: 50.00%, LR: 0.000512\n"
     ]
    },
    {
     "name": "stderr",
     "output_type": "stream",
     "text": [
      "Epoch 17/20: 100%|██████████| 26/26 [00:00<00:00, 92.04it/s, Loss=0.6963, Acc=47.55%]\n"
     ]
    },
    {
     "name": "stdout",
     "output_type": "stream",
     "text": [
      "Epoch 17/20: Loss: 0.6937, Train Acc: 47.55%, Test Acc: 50.00%, LR: 0.000512\n"
     ]
    },
    {
     "name": "stderr",
     "output_type": "stream",
     "text": [
      "Epoch 18/20: 100%|██████████| 26/26 [00:00<00:00, 91.12it/s, Loss=0.6948, Acc=51.23%]\n"
     ]
    },
    {
     "name": "stdout",
     "output_type": "stream",
     "text": [
      "Epoch 18/20: Loss: 0.6933, Train Acc: 51.23%, Test Acc: 50.00%, LR: 0.000512\n"
     ]
    },
    {
     "name": "stderr",
     "output_type": "stream",
     "text": [
      "Epoch 19/20: 100%|██████████| 26/26 [00:00<00:00, 92.07it/s, Loss=0.6953, Acc=46.57%]\n"
     ]
    },
    {
     "name": "stdout",
     "output_type": "stream",
     "text": [
      "Epoch 19/20: Loss: 0.6938, Train Acc: 46.57%, Test Acc: 50.00%, LR: 0.000512\n"
     ]
    },
    {
     "name": "stderr",
     "output_type": "stream",
     "text": [
      "Epoch 20/20: 100%|██████████| 26/26 [00:00<00:00, 90.86it/s, Loss=0.6946, Acc=52.45%]\n"
     ]
    },
    {
     "name": "stdout",
     "output_type": "stream",
     "text": [
      "Epoch 20/20: Loss: 0.6927, Train Acc: 52.45%, Test Acc: 50.00%, LR: 0.000512\n",
      "✅ LSTM 최종 정확도: 0.5000\n",
      "\n",
      "📊 GRU 모델 훈련 중...\n",
      "🚀 훈련 시작 (장치: cuda)\n",
      "============================================================\n"
     ]
    },
    {
     "name": "stderr",
     "output_type": "stream",
     "text": [
      "Epoch 1/20: 100%|██████████| 26/26 [00:00<00:00, 90.94it/s, Loss=0.6886, Acc=45.96%]\n"
     ]
    },
    {
     "name": "stdout",
     "output_type": "stream",
     "text": [
      "Epoch  1/20: Loss: 0.7012, Train Acc: 45.96%, Test Acc: 50.00%, LR: 0.001000\n"
     ]
    },
    {
     "name": "stderr",
     "output_type": "stream",
     "text": [
      "Epoch 2/20: 100%|██████████| 26/26 [00:00<00:00, 91.91it/s, Loss=0.6870, Acc=50.61%]\n"
     ]
    },
    {
     "name": "stdout",
     "output_type": "stream",
     "text": [
      "Epoch  2/20: Loss: 0.6948, Train Acc: 50.61%, Test Acc: 50.00%, LR: 0.001000\n"
     ]
    },
    {
     "name": "stderr",
     "output_type": "stream",
     "text": [
      "Epoch 3/20: 100%|██████████| 26/26 [00:00<00:00, 91.53it/s, Loss=0.6890, Acc=46.32%]\n"
     ]
    },
    {
     "name": "stdout",
     "output_type": "stream",
     "text": [
      "Epoch  3/20: Loss: 0.6964, Train Acc: 46.32%, Test Acc: 50.00%, LR: 0.001000\n"
     ]
    },
    {
     "name": "stderr",
     "output_type": "stream",
     "text": [
      "Epoch 4/20: 100%|██████████| 26/26 [00:00<00:00, 91.42it/s, Loss=0.6880, Acc=48.77%]\n"
     ]
    },
    {
     "name": "stdout",
     "output_type": "stream",
     "text": [
      "Epoch  4/20: Loss: 0.6939, Train Acc: 48.77%, Test Acc: 50.00%, LR: 0.001000\n"
     ]
    },
    {
     "name": "stderr",
     "output_type": "stream",
     "text": [
      "Epoch 5/20: 100%|██████████| 26/26 [00:00<00:00, 90.80it/s, Loss=0.6969, Acc=48.41%]\n"
     ]
    },
    {
     "name": "stdout",
     "output_type": "stream",
     "text": [
      "Epoch  5/20: Loss: 0.6947, Train Acc: 48.41%, Test Acc: 50.00%, LR: 0.001000\n"
     ]
    },
    {
     "name": "stderr",
     "output_type": "stream",
     "text": [
      "Epoch 6/20: 100%|██████████| 26/26 [00:00<00:00, 91.07it/s, Loss=0.6886, Acc=49.39%]\n"
     ]
    },
    {
     "name": "stdout",
     "output_type": "stream",
     "text": [
      "Epoch  6/20: Loss: 0.6941, Train Acc: 49.39%, Test Acc: 50.00%, LR: 0.000800\n"
     ]
    },
    {
     "name": "stderr",
     "output_type": "stream",
     "text": [
      "Epoch 7/20: 100%|██████████| 26/26 [00:00<00:00, 90.64it/s, Loss=0.6921, Acc=47.43%]\n"
     ]
    },
    {
     "name": "stdout",
     "output_type": "stream",
     "text": [
      "Epoch  7/20: Loss: 0.6948, Train Acc: 47.43%, Test Acc: 50.00%, LR: 0.000800\n"
     ]
    },
    {
     "name": "stderr",
     "output_type": "stream",
     "text": [
      "Epoch 8/20: 100%|██████████| 26/26 [00:00<00:00, 91.87it/s, Loss=0.6982, Acc=48.53%]\n"
     ]
    },
    {
     "name": "stdout",
     "output_type": "stream",
     "text": [
      "Epoch  8/20: Loss: 0.6938, Train Acc: 48.53%, Test Acc: 50.00%, LR: 0.000800\n"
     ]
    },
    {
     "name": "stderr",
     "output_type": "stream",
     "text": [
      "Epoch 9/20: 100%|██████████| 26/26 [00:00<00:00, 91.45it/s, Loss=0.6963, Acc=49.88%]\n"
     ]
    },
    {
     "name": "stdout",
     "output_type": "stream",
     "text": [
      "Epoch  9/20: Loss: 0.6938, Train Acc: 49.88%, Test Acc: 50.00%, LR: 0.000800\n"
     ]
    },
    {
     "name": "stderr",
     "output_type": "stream",
     "text": [
      "Epoch 10/20: 100%|██████████| 26/26 [00:00<00:00, 92.19it/s, Loss=0.6993, Acc=49.75%]\n"
     ]
    },
    {
     "name": "stdout",
     "output_type": "stream",
     "text": [
      "Epoch 10/20: Loss: 0.6941, Train Acc: 49.75%, Test Acc: 50.00%, LR: 0.000800\n"
     ]
    },
    {
     "name": "stderr",
     "output_type": "stream",
     "text": [
      "Epoch 11/20: 100%|██████████| 26/26 [00:00<00:00, 90.90it/s, Loss=0.6935, Acc=47.92%]\n"
     ]
    },
    {
     "name": "stdout",
     "output_type": "stream",
     "text": [
      "Epoch 11/20: Loss: 0.6941, Train Acc: 47.92%, Test Acc: 50.00%, LR: 0.000640\n"
     ]
    },
    {
     "name": "stderr",
     "output_type": "stream",
     "text": [
      "Epoch 12/20: 100%|██████████| 26/26 [00:00<00:00, 91.39it/s, Loss=0.6917, Acc=48.16%]\n"
     ]
    },
    {
     "name": "stdout",
     "output_type": "stream",
     "text": [
      "Epoch 12/20: Loss: 0.6936, Train Acc: 48.16%, Test Acc: 50.00%, LR: 0.000640\n"
     ]
    },
    {
     "name": "stderr",
     "output_type": "stream",
     "text": [
      "Epoch 13/20: 100%|██████████| 26/26 [00:00<00:00, 91.23it/s, Loss=0.6971, Acc=49.75%]\n"
     ]
    },
    {
     "name": "stdout",
     "output_type": "stream",
     "text": [
      "Epoch 13/20: Loss: 0.6934, Train Acc: 49.75%, Test Acc: 50.00%, LR: 0.000640\n"
     ]
    },
    {
     "name": "stderr",
     "output_type": "stream",
     "text": [
      "Epoch 14/20: 100%|██████████| 26/26 [00:00<00:00, 91.24it/s, Loss=0.6955, Acc=47.92%]\n"
     ]
    },
    {
     "name": "stdout",
     "output_type": "stream",
     "text": [
      "Epoch 14/20: Loss: 0.6938, Train Acc: 47.92%, Test Acc: 50.00%, LR: 0.000640\n"
     ]
    },
    {
     "name": "stderr",
     "output_type": "stream",
     "text": [
      "Epoch 15/20: 100%|██████████| 26/26 [00:00<00:00, 91.03it/s, Loss=0.6947, Acc=49.26%]\n"
     ]
    },
    {
     "name": "stdout",
     "output_type": "stream",
     "text": [
      "Epoch 15/20: Loss: 0.6942, Train Acc: 49.26%, Test Acc: 50.00%, LR: 0.000640\n"
     ]
    },
    {
     "name": "stderr",
     "output_type": "stream",
     "text": [
      "Epoch 16/20: 100%|██████████| 26/26 [00:00<00:00, 91.80it/s, Loss=0.7039, Acc=47.92%]\n"
     ]
    },
    {
     "name": "stdout",
     "output_type": "stream",
     "text": [
      "Epoch 16/20: Loss: 0.6957, Train Acc: 47.92%, Test Acc: 50.00%, LR: 0.000512\n"
     ]
    },
    {
     "name": "stderr",
     "output_type": "stream",
     "text": [
      "Epoch 17/20: 100%|██████████| 26/26 [00:00<00:00, 92.55it/s, Loss=0.6905, Acc=48.65%]\n"
     ]
    },
    {
     "name": "stdout",
     "output_type": "stream",
     "text": [
      "Epoch 17/20: Loss: 0.6935, Train Acc: 48.65%, Test Acc: 50.00%, LR: 0.000512\n"
     ]
    },
    {
     "name": "stderr",
     "output_type": "stream",
     "text": [
      "Epoch 18/20: 100%|██████████| 26/26 [00:00<00:00, 90.88it/s, Loss=0.6978, Acc=49.51%]\n"
     ]
    },
    {
     "name": "stdout",
     "output_type": "stream",
     "text": [
      "Epoch 18/20: Loss: 0.6937, Train Acc: 49.51%, Test Acc: 50.00%, LR: 0.000512\n"
     ]
    },
    {
     "name": "stderr",
     "output_type": "stream",
     "text": [
      "Epoch 19/20: 100%|██████████| 26/26 [00:00<00:00, 91.48it/s, Loss=0.6918, Acc=48.28%]\n"
     ]
    },
    {
     "name": "stdout",
     "output_type": "stream",
     "text": [
      "Epoch 19/20: Loss: 0.6941, Train Acc: 48.28%, Test Acc: 50.00%, LR: 0.000512\n"
     ]
    },
    {
     "name": "stderr",
     "output_type": "stream",
     "text": [
      "Epoch 20/20: 100%|██████████| 26/26 [00:00<00:00, 91.84it/s, Loss=0.6915, Acc=47.18%]\n"
     ]
    },
    {
     "name": "stdout",
     "output_type": "stream",
     "text": [
      "Epoch 20/20: Loss: 0.6935, Train Acc: 47.18%, Test Acc: 50.00%, LR: 0.000512\n",
      "✅ GRU 최종 정확도: 0.5000\n"
     ]
    },
    {
     "data": {
      "image/png": "[encoded data removed]",
      "text/plain": [
       "<Figure size 1500x1000 with 4 Axes>"
      ]
     },
     "metadata": {},
     "output_type": "display_data"
    },
    {
     "data": {
      "image/png": "[encoded data removed]",
      "text/plain": [
       "<Figure size 1500x400 with 6 Axes>"
      ]
     },
     "metadata": {},
     "output_type": "display_data"
    },
    {
     "name": "stdout",
     "output_type": "stream",
     "text": [
      "\n",
      "📈 한글 감성분석 모델 성능 분석\n",
      "======================================================================\n",
      "🏆 최고 성능 모델: RNN\n",
      "   정확도: 1.0000\n",
      "\n",
      "📊 각 모델별 분류 리포트:\n",
      "\n",
      "RNN 모델:\n",
      "              precision    recall  f1-score   support\n",
      "\n",
      "          부정       1.00      1.00      1.00       102\n",
      "          긍정       1.00      1.00      1.00       102\n",
      "\n",
      "    accuracy                           1.00       204\n",
      "   macro avg       1.00      1.00      1.00       204\n",
      "weighted avg       1.00      1.00      1.00       204\n",
      "\n",
      "\n",
      "LSTM 모델:\n",
      "              precision    recall  f1-score   support\n",
      "\n",
      "          부정       0.00      0.00      0.00       102\n",
      "          긍정       0.50      1.00      0.67       102\n",
      "\n",
      "    accuracy                           0.50       204\n",
      "   macro avg       0.25      0.50      0.33       204\n",
      "weighted avg       0.25      0.50      0.33       204\n",
      "\n",
      "\n",
      "GRU 모델:\n",
      "              precision    recall  f1-score   support\n",
      "\n",
      "          부정       0.50      1.00      0.67       102\n",
      "          긍정       0.00      0.00      0.00       102\n",
      "\n",
      "    accuracy                           0.50       204\n",
      "   macro avg       0.25      0.50      0.33       204\n",
      "weighted avg       0.25      0.50      0.33       204\n",
      "\n",
      "\n",
      "📚 한글 어휘집 분석:\n",
      "   총 어휘 수: 85\n",
      "   가장 자주 사용된 형태소:\n",
      "    1. '영화': 255회\n",
      "    2. '이다': 150회\n",
      "    3. '정말': 135회\n",
      "    4. '의': 105회\n",
      "    5. '작품': 105회\n",
      "    6. '감동': 90회\n",
      "    7. '스토리': 90회\n",
      "    8. '좋다': 90회\n",
      "    9. '너무': 90회\n",
      "   10. '연기': 75회\n",
      "   11. '이': 75회\n",
      "   12. '매우': 60회\n",
      "   13. '적': 60회\n",
      "   14. '인': 60회\n",
      "   15. '가': 60회\n",
      "   16. '요': 60회\n",
      "   17. '최고': 60회\n",
      "   18. '예요': 60회\n",
      "   19. '이에요': 60회\n",
      "   20. '완전': 60회\n",
      "\n",
      "🔮 실제 한글 예측 테스트 (RNN 모델 사용)\n",
      "======================================================================\n",
      "문장: '이 영화 정말 최고예요! 완전 추천해요'\n",
      "토큰: ['이', '영화', '정말', '최고', '예요', '완전', '추천', '하다']\n",
      "예측: 부정 (신뢰도: 1.0000)\n",
      "확률: [부정: 1.0000, 긍정: 0.0000]\n",
      "--------------------------------------------------\n",
      "문장: '너무 지루하고 재미없었어요'\n",
      "토큰: ['너무', '지루하다', '재미없다']\n",
      "예측: 부정 (신뢰도: 1.0000)\n",
      "확률: [부정: 1.0000, 긍정: 0.0000]\n",
      "--------------------------------------------------\n",
      "문장: '배우들 연기가 정말 훌륭했습니다'\n",
      "토큰: ['배우', '들', '연기', '가', '정말', '훌륭하다']\n",
      "예측: 긍정 (신뢰도: 0.9999)\n",
      "확률: [부정: 0.0001, 긍정: 0.9999]\n",
      "--------------------------------------------------\n",
      "문장: '스토리가 너무 뻔하고 예측 가능해요'\n",
      "토큰: ['스토리', '가', '너무', '뻔하다', '예측', '가능하다']\n",
      "예측: 부정 (신뢰도: 1.0000)\n",
      "확률: [부정: 1.0000, 긍정: 0.0000]\n",
      "--------------------------------------------------\n",
      "문장: '감동적이고 아름다운 작품이네요'\n",
      "토큰: ['감동', '적', '이고', '아름답다', '작품', '이네', '요']\n",
      "예측: 긍정 (신뢰도: 0.9999)\n",
      "확률: [부정: 0.0001, 긍정: 0.9999]\n",
      "--------------------------------------------------\n",
      "문장: '시간 낭비였어요 별로였습니다'\n",
      "토큰: ['시간', '낭비', '이다', '별로', '이다']\n",
      "예측: 부정 (신뢰도: 1.0000)\n",
      "확률: [부정: 1.0000, 긍정: 0.0000]\n",
      "--------------------------------------------------\n",
      "문장: '완전 대박 영화! 꼭 보세요'\n",
      "토큰: ['완전', '대박', '영화', '꼭', '보다']\n",
      "예측: 긍정 (신뢰도: 0.9999)\n",
      "확률: [부정: 0.0001, 긍정: 0.9999]\n",
      "--------------------------------------------------\n",
      "문장: '연출이 아쉽고 실망스러웠어요'\n",
      "토큰: ['연출', '이', '아쉽다', '실망', '스럽다']\n",
      "예측: 부정 (신뢰도: 1.0000)\n",
      "확률: [부정: 1.0000, 긍정: 0.0000]\n",
      "--------------------------------------------------\n",
      "문장: '정말 좋았어요 다시 보고 싶네요'\n",
      "토큰: ['정말', '좋다', '다시', '보고', '싶다']\n",
      "예측: 긍정 (신뢰도: 0.9999)\n",
      "확률: [부정: 0.0001, 긍정: 0.9999]\n",
      "--------------------------------------------------\n",
      "문장: '노잼이에요 전혀 재미없어요'\n",
      "토큰: ['노잼', '이에요', '전혀', '재미없다']\n",
      "예측: 부정 (신뢰도: 0.9984)\n",
      "확률: [부정: 0.9984, 긍정: 0.0016]\n",
      "--------------------------------------------------\n",
      "\n",
      "🔍 형태소 분석 vs 단순 분리 성능 비교\n",
      "======================================================================\n",
      "단순 공백 분리 버전으로 GRU 모델 훈련 중...\n",
      "📝 어휘집 구축 중...\n"
     ]
    },
    {
     "name": "stderr",
     "output_type": "stream",
     "text": [
      "토크나이징: 100%|██████████| 1020/1020 [00:00<00:00, 317349.61it/s]\n"
     ]
    },
    {
     "name": "stdout",
     "output_type": "stream",
     "text": [
      "📚 어휘집 크기: 105\n",
      "🔤 가장 빈번한 단어들: [('정말', 135), ('영화', 120), ('너무', 90), ('매우', 60), ('스토리', 60), ('작품', 60), ('완전', 60), ('연기가', 45), ('완벽한', 45), ('최고의', 45)]\n",
      "🚀 훈련 시작 (장치: cuda)\n",
      "============================================================\n"
     ]
    },
    {
     "name": "stderr",
     "output_type": "stream",
     "text": [
      "Epoch 1/10: 100%|██████████| 26/26 [00:00<00:00, 92.83it/s, Loss=0.6933, Acc=47.79%]\n"
     ]
    },
    {
     "name": "stdout",
     "output_type": "stream",
     "text": [
      "Epoch  1/10: Loss: 0.6977, Train Acc: 47.79%, Test Acc: 50.00%, LR: 0.001000\n"
     ]
    },
    {
     "name": "stderr",
     "output_type": "stream",
     "text": [
      "Epoch 2/10: 100%|██████████| 26/26 [00:00<00:00, 90.68it/s, Loss=0.6933, Acc=48.77%]\n"
     ]
    },
    {
     "name": "stdout",
     "output_type": "stream",
     "text": [
      "Epoch  2/10: Loss: 0.6945, Train Acc: 48.77%, Test Acc: 50.00%, LR: 0.001000\n"
     ]
    },
    {
     "name": "stderr",
     "output_type": "stream",
     "text": [
      "Epoch 3/10: 100%|██████████| 26/26 [00:00<00:00, 91.87it/s, Loss=0.6887, Acc=49.63%]\n"
     ]
    },
    {
     "name": "stdout",
     "output_type": "stream",
     "text": [
      "Epoch  3/10: Loss: 0.6937, Train Acc: 49.63%, Test Acc: 50.00%, LR: 0.001000\n"
     ]
    },
    {
     "name": "stderr",
     "output_type": "stream",
     "text": [
      "Epoch 4/10: 100%|██████████| 26/26 [00:00<00:00, 91.02it/s, Loss=0.7029, Acc=50.37%]\n"
     ]
    },
    {
     "name": "stdout",
     "output_type": "stream",
     "text": [
      "Epoch  4/10: Loss: 0.6939, Train Acc: 50.37%, Test Acc: 50.00%, LR: 0.001000\n"
     ]
    },
    {
     "name": "stderr",
     "output_type": "stream",
     "text": [
      "Epoch 5/10: 100%|██████████| 26/26 [00:00<00:00, 91.70it/s, Loss=0.7021, Acc=49.14%]\n"
     ]
    },
    {
     "name": "stdout",
     "output_type": "stream",
     "text": [
      "Epoch  5/10: Loss: 0.6957, Train Acc: 49.14%, Test Acc: 50.00%, LR: 0.001000\n"
     ]
    },
    {
     "name": "stderr",
     "output_type": "stream",
     "text": [
      "Epoch 6/10: 100%|██████████| 26/26 [00:00<00:00, 90.43it/s, Loss=0.6914, Acc=50.25%]\n"
     ]
    },
    {
     "name": "stdout",
     "output_type": "stream",
     "text": [
      "Epoch  6/10: Loss: 0.6931, Train Acc: 50.25%, Test Acc: 50.00%, LR: 0.000800\n"
     ]
    },
    {
     "name": "stderr",
     "output_type": "stream",
     "text": [
      "Epoch 7/10: 100%|██████████| 26/26 [00:00<00:00, 91.67it/s, Loss=0.6920, Acc=47.18%]\n"
     ]
    },
    {
     "name": "stdout",
     "output_type": "stream",
     "text": [
      "Epoch  7/10: Loss: 0.6943, Train Acc: 47.18%, Test Acc: 50.00%, LR: 0.000800\n"
     ]
    },
    {
     "name": "stderr",
     "output_type": "stream",
     "text": [
      "Epoch 8/10: 100%|██████████| 26/26 [00:00<00:00, 90.55it/s, Loss=0.6960, Acc=48.77%]\n"
     ]
    },
    {
     "name": "stdout",
     "output_type": "stream",
     "text": [
      "Epoch  8/10: Loss: 0.6946, Train Acc: 48.77%, Test Acc: 50.00%, LR: 0.000800\n"
     ]
    },
    {
     "name": "stderr",
     "output_type": "stream",
     "text": [
      "Epoch 9/10: 100%|██████████| 26/26 [00:00<00:00, 91.76it/s, Loss=0.6919, Acc=48.28%]\n"
     ]
    },
    {
     "name": "stdout",
     "output_type": "stream",
     "text": [
      "Epoch  9/10: Loss: 0.6951, Train Acc: 48.28%, Test Acc: 50.00%, LR: 0.000800\n"
     ]
    },
    {
     "name": "stderr",
     "output_type": "stream",
     "text": [
      "Epoch 10/10: 100%|██████████| 26/26 [00:00<00:00, 90.69it/s, Loss=0.6933, Acc=50.12%]\n"
     ]
    },
    {
     "name": "stdout",
     "output_type": "stream",
     "text": [
      "Epoch 10/10: Loss: 0.6935, Train Acc: 50.12%, Test Acc: 50.00%, LR: 0.000800\n",
      "\n",
      "📊 토크나이징 방법별 성능 비교:\n",
      "   형태소 분석 (RNN): 1.0000\n",
      "   단순 공백 분리 (GRU): 0.5000\n",
      "   성능 차이: 0.5000\n",
      "\n",
      "📚 어휘집 크기 비교:\n",
      "   형태소 분석: 85개\n",
      "   단순 분리: 105개\n",
      "\n",
      "📚 한글 NLP 초심자를 위한 핵심 개념 정리\n",
      "======================================================================\n",
      "\n",
      "🔍 한글의 특징:\n",
      "   • 교착어: 어미, 조사가 단어에 붙어서 의미 변화\n",
      "   • 복잡한 활용: 하나의 어근이 수십 가지 형태로 변화\n",
      "   • 띄어쓰기 규칙이 복잡하고 일관성이 부족한 경우 많음\n",
      "   • 문맥에 따른 의미 변화가 영어보다 복잡\n",
      "\n",
      "🔍 형태소 분석의 중요성:\n",
      "   • 단순 공백 분리로는 '좋았어요'와 '좋다'를 다른 단어로 인식\n",
      "   • 형태소 분석으로 '좋' + '았' + '어요'로 분해하여 어근 추출\n",
      "   • 어휘집 크기 감소와 일반화 성능 향상\n",
      "   • 하지만 처리 시간이 증가하는 trade-off 존재\n",
      "\n",
      "🔍 RNN 계열 모델의 한글 적용:\n",
      "   • 한글은 어순이 비교적 자유로워 문맥 파악이 중요\n",
      "   • LSTM/GRU의 장기 의존성 모델링이 한글에 효과적\n",
      "   • 양방향 LSTM으로 앞뒤 문맥을 모두 고려하면 성능 향상\n",
      "   • 드롭아웃과 기울기 클리핑이 한글 텍스트에서 중요\n",
      "\n",
      "💡 한글 감성분석 실무 팁:\n",
      "==================================================\n",
      "   1. 데이터 전처리: 이모티콘, 특수문자 처리 전략 수립\n",
      "   2. 어휘집 관리: OOV(Out-of-Vocabulary) 문제 해결 방안\n",
      "   3. 모델 선택: 데이터 크기와 실시간 처리 요구사항 고려\n",
      "   4. 성능 개선: Pre-trained 임베딩(Word2Vec, FastText) 활용\n",
      "   5. 최신 트렌드: KoBERT, KoELECTRA 등 한글 특화 Transformer 모델\n",
      "   6. 평가 지표: 단순 정확도보다 F1-score, AUC 등 다양한 지표 활용\n",
      "\n",
      "🚀 다음 단계 학습 추천:\n",
      "   1. Attention Mechanism 추가\n",
      "   2. Bidirectional LSTM/GRU 구현\n",
      "   3. 한글 Word2Vec 임베딩 활용\n",
      "   4. KoBERT 등 사전 훈련된 모델 fine-tuning\n",
      "   5. 실제 리뷰 데이터셋(네이버 영화 리뷰 등) 적용\n"
     ]
    }
   ],
   "source": [
    "# ==================================================================================\n",
    "# 한글 감성분석을 위한 RNN, LSTM, GRU 실습 코드\n",
    "# 작성자: AI Engineer (3년차 CV → NLP 확장)\n",
    "# 대상: NLP 초심자 (한글 처리 포함)\n",
    "# ==================================================================================\n",
    "\n",
    "import torch\n",
    "import torch.nn as nn\n",
    "import torch.optim as optim\n",
    "import torch.nn.functional as F\n",
    "from torch.utils.data import Dataset, DataLoader\n",
    "import numpy as np\n",
    "import pandas as pd\n",
    "import matplotlib.pyplot as plt\n",
    "import seaborn as sns\n",
    "from sklearn.model_selection import train_test_split\n",
    "from sklearn.metrics import accuracy_score, classification_report, confusion_matrix\n",
    "from collections import Counter\n",
    "import re\n",
    "from tqdm import tqdm\n",
    "import warnings\n",
    "warnings.filterwarnings('ignore')\n",
    "\n",
    "# 한글 처리를 위한 라이브러리\n",
    "from konlpy.tag import Okt\n",
    "import matplotlib.font_manager as fm\n",
    "\n",
    "# 한글 폰트 설정 (시각화용)\n",
    "plt.rcParams['font.family'] = 'DejaVu Sans'\n",
    "plt.rcParams['axes.unicode_minus'] = False\n",
    "plt.style.use('seaborn-v0_8')\n",
    "plt.rcParams['figure.figsize'] = (12, 8)\n",
    "plt.rcParams['font.size'] = 12\n",
    "\n",
    "print(\"🚀 한글 감성분석을 위한 RNN, LSTM, GRU 실습을 시작합니다!\")\n",
    "print(\"=\" * 70)\n",
    "\n",
    "# ==================================================================================\n",
    "# 1. 한글 데이터 준비\n",
    "# ==================================================================================\n",
    "\n",
    "def create_korean_sample_data():\n",
    "    \"\"\"\n",
    "    한글 영화 리뷰 감성 분석 데이터셋 생성\n",
    "    실제 한국어 표현의 특징을 반영한 데이터\n",
    "    \"\"\"\n",
    "    \n",
    "    # 긍정적인 리뷰들\n",
    "    positive_sentences = [\n",
    "        \"영화는 정말 훌륭했어요\", \"매우 감동적인 스토리였습니다\", \"배우들의 연기가 뛰어났어요\",\n",
    "        \"완벽한 작품이네요\", \"다시 보고 싶은 영화입니다\", \"최고의 영화 중 하나예요\",\n",
    "        \"정말 재미있게 봤어요\", \"감동적이고 아름다운 영화\", \"훌륭한 연출과 스토리\",\n",
    "        \"놀라운 영화였습니다\", \"최고의 작품이에요\", \"매우 만족스러운 영화\",\n",
    "        \"감동적인 장면들이 많았어요\", \"뛰어난 연기력\", \"완벽한 엔딩이었어요\",\n",
    "        \"정말 좋은 영화네요\", \"인상 깊은 작품\", \"아름다운 스토리\",\n",
    "        \"훌륭한 영화였어요\", \"매우 재밌었습니다\", \"대박 영화네요\", \"정말 좋아요\",\n",
    "        \"완전 추천해요\", \"너무 재밌어요\", \"감동 받았어요\", \"최고였어요\",\n",
    "        \"진짜 좋았어요\", \"완전 대박이에요\", \"정말 잘 만든 영화\", \"감동의 물결\",\n",
    "        \"최고의 연기\", \"완벽한 작품\", \"정말 멋져요\", \"너무 좋네요\"\n",
    "    ] * 15  # 480개 생성\n",
    "    \n",
    "    # 부정적인 리뷰들  \n",
    "    negative_sentences = [\n",
    "        \"이 영화는 너무 지루했어요\", \"스토리가 이해되지 않았습니다\", \"연기가 어색했어요\",\n",
    "        \"시간 낭비였네요\", \"다시 보고 싶지 않아요\", \"최악의 영화 중 하나예요\",\n",
    "        \"전혀 재미없었어요\", \"지루하고 뻔한 스토리\", \"연출이 아쉬웠습니다\",\n",
    "        \"실망스러운 영화였어요\", \"별로인 작품이네요\", \"매우 불만족스러운 영화\",\n",
    "        \"감동이 전혀 없었어요\", \"연기가 어색해요\", \"결말이 아쉬웠습니다\",\n",
    "        \"별로 좋지 않은 영화\", \"인상적이지 않은 작품\", \"뻔한 스토리\",\n",
    "        \"아쉬운 영화였어요\", \"전혀 재미없었습니다\", \"너무 별로예요\", \"정말 싫어요\",\n",
    "        \"완전 노잼이에요\", \"너무 지루해요\", \"실망했어요\", \"최악이었어요\",\n",
    "        \"진짜 별로예요\", \"완전 실망이에요\", \"정말 못 만든 영화\", \"시간 아까워요\",\n",
    "        \"최악의 연기\", \"엉망인 작품\", \"정말 싫네요\", \"너무 안 좋아요\"\n",
    "    ] * 15  # 480개 생성\n",
    "    \n",
    "    # 데이터프레임 생성\n",
    "    data = []\n",
    "    for review in positive_sentences:\n",
    "        data.append({'text': review, 'label': 1})  # 1: 긍정\n",
    "    for review in negative_sentences:\n",
    "        data.append({'text': review, 'label': 0})  # 0: 부정\n",
    "    \n",
    "    return pd.DataFrame(data)\n",
    "\n",
    "# 데이터 생성 및 확인\n",
    "df = create_korean_sample_data()\n",
    "print(f\"📊 데이터셋 크기: {len(df)}\")\n",
    "print(f\"긍정 리뷰: {sum(df['label'] == 1)}개\")\n",
    "print(f\"부정 리뷰: {sum(df['label'] == 0)}개\")\n",
    "print(\"\\n샘플 데이터:\")\n",
    "print(df.head(10))\n",
    "\n",
    "# ==================================================================================\n",
    "# 2. 한글 텍스트 전처리\n",
    "# ==================================================================================\n",
    "\n",
    "class KoreanTextPreprocessor:\n",
    "    \"\"\"\n",
    "    한글 텍스트 전처리 클래스\n",
    "    - KoNLPy를 활용한 형태소 분석\n",
    "    - 한글 특성을 고려한 전처리\n",
    "    \"\"\"\n",
    "    def __init__(self, use_morphs=True):\n",
    "        self.okt = Okt()  # Open Korean Text 형태소 분석기\n",
    "        self.use_morphs = use_morphs  # 형태소 분석 사용 여부\n",
    "        \n",
    "        self.word_to_idx = {'<PAD>': 0, '<UNK>': 1}\n",
    "        self.idx_to_word = {0: '<PAD>', 1: '<UNK>'}\n",
    "        self.vocab_size = 2\n",
    "        \n",
    "    def clean_text(self, text):\n",
    "        \"\"\"한글 텍스트 정제\"\"\"\n",
    "        # 한글, 영어, 숫자, 공백만 남기기\n",
    "        text = re.sub(r'[^가-힣a-zA-Z0-9\\s]', '', text)\n",
    "        # 연속된 공백 제거\n",
    "        text = re.sub(r'\\s+', ' ', text)\n",
    "        return text.strip()\n",
    "    \n",
    "    def tokenize(self, text):\n",
    "        \"\"\"\n",
    "        한글 토크나이징\n",
    "        - use_morphs=True: 형태소 분석 (더 정확하지만 느림)\n",
    "        - use_morphs=False: 단순 공백 분리 (빠르지만 덜 정확)\n",
    "        \"\"\"\n",
    "        cleaned_text = self.clean_text(text)\n",
    "        \n",
    "        if self.use_morphs:\n",
    "            # 형태소 분석 사용\n",
    "            tokens = self.okt.morphs(cleaned_text, stem=True)  # 어간 추출\n",
    "        else:\n",
    "            # 단순 공백 분리\n",
    "            tokens = cleaned_text.split()\n",
    "            \n",
    "        return tokens\n",
    "    \n",
    "    def build_vocabulary(self, texts, min_freq=2):\n",
    "        \"\"\"어휘집 구축\"\"\"\n",
    "        print(\"📝 어휘집 구축 중...\")\n",
    "        word_counts = Counter()\n",
    "        \n",
    "        # 전체 텍스트에서 단어 빈도 계산\n",
    "        for text in tqdm(texts, desc=\"토크나이징\"):\n",
    "            tokens = self.tokenize(text)\n",
    "            word_counts.update(tokens)\n",
    "        \n",
    "        # 최소 빈도 이상인 단어들만 어휘집에 추가\n",
    "        for word, count in word_counts.most_common():\n",
    "            if count >= min_freq and len(self.word_to_idx) < 5000:  # 어휘집 크기 제한\n",
    "                self.word_to_idx[word] = self.vocab_size\n",
    "                self.idx_to_word[self.vocab_size] = word\n",
    "                self.vocab_size += 1\n",
    "        \n",
    "        print(f\"📚 어휘집 크기: {self.vocab_size}\")\n",
    "        print(f\"🔤 가장 빈번한 단어들: {list(word_counts.most_common(10))}\")\n",
    "        \n",
    "    def text_to_sequence(self, text, max_length=30):\n",
    "        \"\"\"텍스트를 숫자 시퀀스로 변환\"\"\"\n",
    "        tokens = self.tokenize(text)\n",
    "        sequence = []\n",
    "        \n",
    "        for token in tokens[:max_length]:  # 최대 길이 제한\n",
    "            sequence.append(self.word_to_idx.get(token, 1))  # <UNK> = 1\n",
    "        \n",
    "        # 패딩 추가\n",
    "        while len(sequence) < max_length:\n",
    "            sequence.append(0)  # <PAD> = 0\n",
    "            \n",
    "        return sequence\n",
    "\n",
    "# 전처리기 초기화\n",
    "print(\"\\n🔄 한글 텍스트 전처리 시작...\")\n",
    "\n",
    "# 형태소 분석 vs 단순 분리 비교를 위해 두 버전 모두 테스트\n",
    "preprocessor_morphs = KoreanTextPreprocessor(use_morphs=True)   # 형태소 분석 사용\n",
    "preprocessor_simple = KoreanTextPreprocessor(use_morphs=False)  # 단순 공백 분리\n",
    "\n",
    "# 샘플 텍스트로 차이점 확인\n",
    "sample_text = \"이 영화는 정말 재미있고 감동적이었어요\"\n",
    "print(f\"\\n🔍 토크나이징 비교:\")\n",
    "print(f\"원본: {sample_text}\")\n",
    "print(f\"형태소 분석: {preprocessor_morphs.tokenize(sample_text)}\")\n",
    "print(f\"단순 분리: {preprocessor_simple.tokenize(sample_text)}\")\n",
    "\n",
    "# 형태소 분석 버전을 메인으로 사용\n",
    "preprocessor = preprocessor_morphs\n",
    "preprocessor.build_vocabulary(df['text'].tolist())\n",
    "\n",
    "# 데이터 변환\n",
    "print(\"\\n🔄 텍스트 → 숫자 시퀀스 변환 중...\")\n",
    "sequences = []\n",
    "for text in tqdm(df['text'], desc=\"시퀀스 변환\"):\n",
    "    sequences.append(preprocessor.text_to_sequence(text))\n",
    "\n",
    "df['sequence'] = sequences\n",
    "print(\"\\n✅ 변환 완료!\")\n",
    "print(\"예시:\")\n",
    "print(f\"원본: {df.iloc[0]['text']}\")\n",
    "print(f\"토큰: {preprocessor.tokenize(df.iloc[0]['text'])}\")\n",
    "print(f\"시퀀스: {df.iloc[0]['sequence']}\")\n",
    "\n",
    "# ==================================================================================\n",
    "# 3. 데이터셋 클래스 정의\n",
    "# ==================================================================================\n",
    "\n",
    "class KoreanTextDataset(Dataset):\n",
    "    \"\"\"한글 텍스트 데이터셋 클래스\"\"\"\n",
    "    def __init__(self, sequences, labels):\n",
    "        self.sequences = torch.tensor(sequences, dtype=torch.long)\n",
    "        self.labels = torch.tensor(labels, dtype=torch.long)\n",
    "        \n",
    "    def __len__(self):\n",
    "        return len(self.sequences)\n",
    "    \n",
    "    def __getitem__(self, idx):\n",
    "        return self.sequences[idx], self.labels[idx]\n",
    "\n",
    "# 데이터 분할\n",
    "X = df['sequence'].tolist()\n",
    "y = df['label'].tolist()\n",
    "\n",
    "X_train, X_test, y_train, y_test = train_test_split(\n",
    "    X, y, test_size=0.2, random_state=42, stratify=y\n",
    ")\n",
    "\n",
    "# 데이터셋 생성\n",
    "train_dataset = KoreanTextDataset(X_train, y_train)\n",
    "test_dataset = KoreanTextDataset(X_test, y_test)\n",
    "\n",
    "# 데이터로더 생성\n",
    "batch_size = 32\n",
    "train_loader = DataLoader(train_dataset, batch_size=batch_size, shuffle=True)\n",
    "test_loader = DataLoader(test_dataset, batch_size=batch_size, shuffle=False)\n",
    "\n",
    "print(f\"🔨 훈련 데이터: {len(train_dataset)}개\")\n",
    "print(f\"🔨 테스트 데이터: {len(test_dataset)}개\")\n",
    "\n",
    "# ==================================================================================\n",
    "# 4. 한글 특화 모델 정의\n",
    "# ==================================================================================\n",
    "\n",
    "class KoreanRNN(nn.Module):\n",
    "    \"\"\"한글 감성분석을 위한 RNN 모델\"\"\"\n",
    "    def __init__(self, vocab_size, embedding_dim, hidden_dim, output_dim, num_layers=1):\n",
    "        super(KoreanRNN, self).__init__()\n",
    "        \n",
    "        # 임베딩 레이어 (한글 어휘에 맞게 조정)\n",
    "        self.embedding = nn.Embedding(vocab_size, embedding_dim, padding_idx=0)\n",
    "        \n",
    "        # RNN 레이어\n",
    "        self.rnn = nn.RNN(embedding_dim, hidden_dim, num_layers, \n",
    "                         batch_first=True, dropout=0.2 if num_layers > 1 else 0)\n",
    "        \n",
    "        # 분류를 위한 완전연결 레이어\n",
    "        self.fc = nn.Linear(hidden_dim, output_dim)\n",
    "        self.dropout = nn.Dropout(0.3)\n",
    "        \n",
    "    def forward(self, x):\n",
    "        # 임베딩\n",
    "        embedded = self.embedding(x)  # (batch_size, seq_len, embedding_dim)\n",
    "        \n",
    "        # RNN 통과\n",
    "        rnn_out, hidden = self.rnn(embedded)\n",
    "        \n",
    "        # 마지막 타임스텝의 출력 사용\n",
    "        last_output = rnn_out[:, -1, :]  # (batch_size, hidden_dim)\n",
    "        \n",
    "        # 드롭아웃 및 분류\n",
    "        last_output = self.dropout(last_output)\n",
    "        output = self.fc(last_output)\n",
    "        \n",
    "        return output\n",
    "\n",
    "class KoreanLSTM(nn.Module):\n",
    "    \"\"\"한글 감성분석을 위한 LSTM 모델\"\"\"\n",
    "    def __init__(self, vocab_size, embedding_dim, hidden_dim, output_dim, num_layers=1):\n",
    "        super(KoreanLSTM, self).__init__()\n",
    "        \n",
    "        self.embedding = nn.Embedding(vocab_size, embedding_dim, padding_idx=0)\n",
    "        \n",
    "        # LSTM 레이어 (양방향 LSTM 사용 가능)\n",
    "        self.lstm = nn.LSTM(embedding_dim, hidden_dim, num_layers, \n",
    "                           batch_first=True, dropout=0.2 if num_layers > 1 else 0,\n",
    "                           bidirectional=False)  # 양방향은 bidirectional=True\n",
    "        \n",
    "        self.fc = nn.Linear(hidden_dim, output_dim)\n",
    "        self.dropout = nn.Dropout(0.3)\n",
    "        \n",
    "    def forward(self, x):\n",
    "        embedded = self.embedding(x)\n",
    "        \n",
    "        # LSTM 통과\n",
    "        lstm_out, (hidden, cell) = self.lstm(embedded)\n",
    "        \n",
    "        # 마지막 타임스텝 출력 사용\n",
    "        last_output = lstm_out[:, -1, :]\n",
    "        last_output = self.dropout(last_output)\n",
    "        \n",
    "        output = self.fc(last_output)\n",
    "        return output\n",
    "\n",
    "class KoreanGRU(nn.Module):\n",
    "    \"\"\"한글 감성분석을 위한 GRU 모델\"\"\"\n",
    "    def __init__(self, vocab_size, embedding_dim, hidden_dim, output_dim, num_layers=1):\n",
    "        super(KoreanGRU, self).__init__()\n",
    "        \n",
    "        self.embedding = nn.Embedding(vocab_size, embedding_dim, padding_idx=0)\n",
    "        \n",
    "        # GRU 레이어\n",
    "        self.gru = nn.GRU(embedding_dim, hidden_dim, num_layers, \n",
    "                         batch_first=True, dropout=0.2 if num_layers > 1 else 0)\n",
    "        \n",
    "        self.fc = nn.Linear(hidden_dim, output_dim)\n",
    "        self.dropout = nn.Dropout(0.3)\n",
    "        \n",
    "    def forward(self, x):\n",
    "        embedded = self.embedding(x)\n",
    "        \n",
    "        # GRU 통과\n",
    "        gru_out, hidden = self.gru(embedded)\n",
    "        \n",
    "        last_output = gru_out[:, -1, :]\n",
    "        last_output = self.dropout(last_output)\n",
    "        \n",
    "        output = self.fc(last_output)\n",
    "        return output\n",
    "\n",
    "# 모델 하이퍼파라미터 (한글에 맞게 조정)\n",
    "vocab_size = preprocessor.vocab_size\n",
    "embedding_dim = 128  # 한글은 복잡하므로 임베딩 차원 증가\n",
    "hidden_dim = 256     # 은닉 차원도 증가\n",
    "output_dim = 2\n",
    "num_layers = 2       # 깊은 네트워크\n",
    "\n",
    "# 모델 인스턴스 생성\n",
    "rnn_model = KoreanRNN(vocab_size, embedding_dim, hidden_dim, output_dim, num_layers)\n",
    "lstm_model = KoreanLSTM(vocab_size, embedding_dim, hidden_dim, output_dim, num_layers)\n",
    "gru_model = KoreanGRU(vocab_size, embedding_dim, hidden_dim, output_dim, num_layers)\n",
    "\n",
    "print(\"🤖 한글 감성분석 모델 생성 완료:\")\n",
    "print(f\"   - RNN 파라미터 수: {sum(p.numel() for p in rnn_model.parameters()):,}\")\n",
    "print(f\"   - LSTM 파라미터 수: {sum(p.numel() for p in lstm_model.parameters()):,}\")\n",
    "print(f\"   - GRU 파라미터 수: {sum(p.numel() for p in gru_model.parameters()):,}\")\n",
    "\n",
    "# ==================================================================================\n",
    "# 5. 훈련 및 평가 함수\n",
    "# ==================================================================================\n",
    "\n",
    "def train_korean_model(model, train_loader, test_loader, epochs=15, lr=0.001):\n",
    "    \"\"\"한글 감성분석 모델 훈련\"\"\"\n",
    "    device = torch.device('cuda' if torch.cuda.is_available() else 'cpu')\n",
    "    model.to(device)\n",
    "    \n",
    "    criterion = nn.CrossEntropyLoss()\n",
    "    optimizer = optim.Adam(model.parameters(), lr=lr, weight_decay=1e-5)\n",
    "    scheduler = optim.lr_scheduler.StepLR(optimizer, step_size=5, gamma=0.8)\n",
    "    \n",
    "    train_losses = []\n",
    "    train_accuracies = []\n",
    "    test_accuracies = []\n",
    "    \n",
    "    print(f\"🚀 훈련 시작 (장치: {device})\")\n",
    "    print(\"=\" * 60)\n",
    "    \n",
    "    for epoch in range(epochs):\n",
    "        # 훈련 모드\n",
    "        model.train()\n",
    "        total_loss = 0\n",
    "        correct = 0\n",
    "        total = 0\n",
    "        \n",
    "        # 훈련 배치 처리\n",
    "        train_bar = tqdm(train_loader, desc=f'Epoch {epoch+1}/{epochs}')\n",
    "        for batch_idx, (data, target) in enumerate(train_bar):\n",
    "            data, target = data.to(device), target.to(device)\n",
    "            \n",
    "            optimizer.zero_grad()\n",
    "            output = model(data)\n",
    "            loss = criterion(output, target)\n",
    "            loss.backward()\n",
    "            \n",
    "            # 기울기 클리핑 (한글 텍스트에서 도움됨)\n",
    "            torch.nn.utils.clip_grad_norm_(model.parameters(), max_norm=1.0)\n",
    "            \n",
    "            optimizer.step()\n",
    "            \n",
    "            total_loss += loss.item()\n",
    "            pred = output.argmax(dim=1)\n",
    "            correct += pred.eq(target).sum().item()\n",
    "            total += target.size(0)\n",
    "            \n",
    "            # 진행률 표시 업데이트\n",
    "            train_bar.set_postfix({\n",
    "                'Loss': f'{loss.item():.4f}',\n",
    "                'Acc': f'{100.*correct/total:.2f}%'\n",
    "            })\n",
    "        \n",
    "        train_loss = total_loss / len(train_loader)\n",
    "        train_acc = 100. * correct / total\n",
    "        \n",
    "        # 평가 모드\n",
    "        model.eval()\n",
    "        test_correct = 0\n",
    "        test_total = 0\n",
    "        \n",
    "        with torch.no_grad():\n",
    "            for data, target in test_loader:\n",
    "                data, target = data.to(device), target.to(device)\n",
    "                output = model(data)\n",
    "                pred = output.argmax(dim=1)\n",
    "                test_correct += pred.eq(target).sum().item()\n",
    "                test_total += target.size(0)\n",
    "        \n",
    "        test_acc = 100. * test_correct / test_total\n",
    "        \n",
    "        train_losses.append(train_loss)\n",
    "        train_accuracies.append(train_acc)\n",
    "        test_accuracies.append(test_acc)\n",
    "        \n",
    "        print(f'Epoch {epoch+1:2d}/{epochs}: '\n",
    "              f'Loss: {train_loss:.4f}, '\n",
    "              f'Train Acc: {train_acc:.2f}%, '\n",
    "              f'Test Acc: {test_acc:.2f}%, '\n",
    "              f'LR: {scheduler.get_last_lr()[0]:.6f}')\n",
    "        \n",
    "        scheduler.step()\n",
    "    \n",
    "    return train_losses, train_accuracies, test_accuracies\n",
    "\n",
    "def evaluate_korean_model(model, test_loader):\n",
    "    \"\"\"한글 감성분석 모델 평가\"\"\"\n",
    "    device = torch.device('cuda' if torch.cuda.is_available() else 'cpu')\n",
    "    model.eval()\n",
    "    \n",
    "    all_preds = []\n",
    "    all_targets = []\n",
    "    all_probs = []\n",
    "    \n",
    "    with torch.no_grad():\n",
    "        for data, target in test_loader:\n",
    "            data, target = data.to(device), target.to(device)\n",
    "            output = model(data)\n",
    "            prob = F.softmax(output, dim=1)\n",
    "            pred = output.argmax(dim=1)\n",
    "            \n",
    "            all_preds.extend(pred.cpu().numpy())\n",
    "            all_targets.extend(target.cpu().numpy())\n",
    "            all_probs.extend(prob.cpu().numpy())\n",
    "    \n",
    "    accuracy = accuracy_score(all_targets, all_preds)\n",
    "    report = classification_report(all_targets, all_preds, \n",
    "                                 target_names=['부정', '긍정'])\n",
    "    \n",
    "    return accuracy, report, all_targets, all_preds, all_probs\n",
    "\n",
    "# ==================================================================================\n",
    "# 6. 모델 훈련 및 비교\n",
    "# ==================================================================================\n",
    "\n",
    "print(\"\\n🔥 한글 감성분석 모델 훈련 시작!\")\n",
    "print(\"=\" * 70)\n",
    "\n",
    "# 각 모델 훈련\n",
    "korean_models = {\n",
    "    'RNN': rnn_model,\n",
    "    'LSTM': lstm_model, \n",
    "    'GRU': gru_model\n",
    "}\n",
    "\n",
    "korean_results = {}\n",
    "\n",
    "for name, model in korean_models.items():\n",
    "    print(f\"\\n📊 {name} 모델 훈련 중...\")\n",
    "    \n",
    "    train_losses, train_accs, test_accs = train_korean_model(\n",
    "        model, train_loader, test_loader, epochs=20, lr=0.001\n",
    "    )\n",
    "    \n",
    "    # 평가\n",
    "    accuracy, report, targets, preds, probs = evaluate_korean_model(model, test_loader)\n",
    "    \n",
    "    korean_results[name] = {\n",
    "        'model': model,\n",
    "        'train_losses': train_losses,\n",
    "        'train_accuracies': train_accs,\n",
    "        'test_accuracies': test_accs,\n",
    "        'final_accuracy': accuracy,\n",
    "        'report': report,\n",
    "        'targets': targets,\n",
    "        'predictions': preds,\n",
    "        'probabilities': probs\n",
    "    }\n",
    "    \n",
    "    print(f\"✅ {name} 최종 정확도: {accuracy:.4f}\")\n",
    "\n",
    "# ==================================================================================\n",
    "# 7. 결과 시각화\n",
    "# ==================================================================================\n",
    "\n",
    "# 훈련 과정 시각화\n",
    "fig, axes = plt.subplots(2, 2, figsize=(15, 10))\n",
    "\n",
    "# 손실 곡선\n",
    "axes[0, 0].set_title('훈련 손실 (Training Loss)', fontsize=14, fontweight='bold')\n",
    "for name, result in korean_results.items():\n",
    "    axes[0, 0].plot(result['train_losses'], label=name, linewidth=2)\n",
    "axes[0, 0].legend()\n",
    "axes[0, 0].set_xlabel('Epoch')\n",
    "axes[0, 0].set_ylabel('Loss')\n",
    "axes[0, 0].grid(True, alpha=0.3)\n",
    "\n",
    "# 훈련 정확도\n",
    "axes[0, 1].set_title('훈련 정확도 (Training Accuracy)', fontsize=14, fontweight='bold')\n",
    "for name, result in korean_results.items():\n",
    "    axes[0, 1].plot(result['train_accuracies'], label=name, linewidth=2)\n",
    "axes[0, 1].legend()\n",
    "axes[0, 1].set_xlabel('Epoch')\n",
    "axes[0, 1].set_ylabel('Accuracy (%)')\n",
    "axes[0, 1].grid(True, alpha=0.3)\n",
    "\n",
    "# 테스트 정확도\n",
    "axes[1, 0].set_title('테스트 정확도 (Test Accuracy)', fontsize=14, fontweight='bold')\n",
    "for name, result in korean_results.items():\n",
    "    axes[1, 0].plot(result['test_accuracies'], label=name, linewidth=2)\n",
    "axes[1, 0].legend()\n",
    "axes[1, 0].set_xlabel('Epoch')\n",
    "axes[1, 0].set_ylabel('Accuracy (%)')\n",
    "axes[1, 0].grid(True, alpha=0.3)\n",
    "\n",
    "# 최종 성능 비교\n",
    "model_names = list(korean_results.keys())\n",
    "final_accuracies = [korean_results[name]['final_accuracy'] for name in model_names]\n",
    "\n",
    "axes[1, 1].set_title('최종 성능 비교', fontsize=14, fontweight='bold')\n",
    "bars = axes[1, 1].bar(model_names, final_accuracies, \n",
    "                      color=['skyblue', 'lightgreen', 'salmon'])\n",
    "axes[1, 1].set_ylabel('Accuracy')\n",
    "axes[1, 1].set_ylim(0, 1)\n",
    "\n",
    "# 막대 위에 정확도 값 표시\n",
    "for bar, acc in zip(bars, final_accuracies):\n",
    "    height = bar.get_height()\n",
    "    axes[1, 1].text(bar.get_x() + bar.get_width()/2., height + 0.01,\n",
    "                    f'{acc:.3f}', ha='center', va='bottom', fontweight='bold')\n",
    "\n",
    "plt.tight_layout()\n",
    "plt.show()\n",
    "\n",
    "# 혼동 행렬 시각화\n",
    "fig, axes = plt.subplots(1, 3, figsize=(15, 4))\n",
    "\n",
    "for idx, (name, result) in enumerate(korean_results.items()):\n",
    "    cm = confusion_matrix(result['targets'], result['predictions'])\n",
    "    \n",
    "    sns.heatmap(cm, annot=True, fmt='d', cmap='Blues', \n",
    "                xticklabels=['부정', '긍정'], \n",
    "                yticklabels=['부정', '긍정'], \n",
    "                ax=axes[idx])\n",
    "    axes[idx].set_title(f'{name} 혼동 행렬')\n",
    "    axes[idx].set_xlabel('예측')\n",
    "    axes[idx].set_ylabel('실제')\n",
    "\n",
    "plt.tight_layout()\n",
    "plt.show()\n",
    "\n",
    "# ==================================================================================\n",
    "# 8. 한글 특화 분석\n",
    "# ==================================================================================\n",
    "\n",
    "print(\"\\n📈 한글 감성분석 모델 성능 분석\")\n",
    "print(\"=\" * 70)\n",
    "\n",
    "best_model_name = max(korean_results.keys(), key=lambda x: korean_results[x]['final_accuracy'])\n",
    "print(f\"🏆 최고 성능 모델: {best_model_name}\")\n",
    "print(f\"   정확도: {korean_results[best_model_name]['final_accuracy']:.4f}\")\n",
    "\n",
    "print(f\"\\n📊 각 모델별 분류 리포트:\")\n",
    "for name, result in korean_results.items():\n",
    "    print(f\"\\n{name} 모델:\")\n",
    "    print(result['report'])\n",
    "\n",
    "# 어휘집 분석\n",
    "print(f\"\\n📚 한글 어휘집 분석:\")\n",
    "print(f\"   총 어휘 수: {preprocessor.vocab_size}\")\n",
    "print(f\"   가장 자주 사용된 형태소:\")\n",
    "\n",
    "# 빈도수 높은 단어들 확인\n",
    "word_freq = Counter()\n",
    "for text in df['text']:\n",
    "    tokens = preprocessor.tokenize(text)\n",
    "    word_freq.update(tokens)\n",
    "\n",
    "top_words = word_freq.most_common(20)\n",
    "for i, (word, freq) in enumerate(top_words, 1):\n",
    "    print(f\"   {i:2d}. '{word}': {freq}회\")\n",
    "\n",
    "# ==================================================================================\n",
    "# 9. 실제 한글 텍스트 예측 테스트\n",
    "# ==================================================================================\n",
    "\n",
    "def predict_korean_sentiment(model, text, preprocessor):\n",
    "    \"\"\"새로운 한글 텍스트의 감성 예측\"\"\"\n",
    "    device = torch.device('cuda' if torch.cuda.is_available() else 'cpu')\n",
    "    model.eval()\n",
    "    \n",
    "    # 전처리\n",
    "    sequence = preprocessor.text_to_sequence(text)\n",
    "    sequence_tensor = torch.tensor([sequence], dtype=torch.long).to(device)\n",
    "    \n",
    "    with torch.no_grad():\n",
    "        output = model(sequence_tensor)\n",
    "        probabilities = F.softmax(output, dim=1)\n",
    "        prediction = output.argmax(dim=1).item()\n",
    "        confidence = probabilities[0][prediction].item()\n",
    "    \n",
    "    sentiment = \"긍정\" if prediction == 1 else \"부정\"\n",
    "    return sentiment, confidence, probabilities[0].cpu().numpy()\n",
    "\n",
    "# 다양한 한글 테스트 문장들\n",
    "korean_test_sentences = [\n",
    "    \"이 영화 정말 최고예요! 완전 추천해요\",\n",
    "    \"너무 지루하고 재미없었어요\",\n",
    "    \"배우들 연기가 정말 훌륭했습니다\",\n",
    "    \"스토리가 너무 뻔하고 예측 가능해요\",\n",
    "    \"감동적이고 아름다운 작품이네요\",\n",
    "    \"시간 낭비였어요 별로였습니다\",\n",
    "    \"완전 대박 영화! 꼭 보세요\",\n",
    "    \"연출이 아쉽고 실망스러웠어요\",\n",
    "    \"정말 좋았어요 다시 보고 싶네요\",\n",
    "    \"노잼이에요 전혀 재미없어요\"\n",
    "]\n",
    "\n",
    "print(f\"\\n🔮 실제 한글 예측 테스트 ({best_model_name} 모델 사용)\")\n",
    "print(\"=\" * 70)\n",
    "\n",
    "best_model = korean_results[best_model_name]['model']\n",
    "for sentence in korean_test_sentences:\n",
    "    sentiment, confidence, probs = predict_korean_sentiment(best_model, sentence, preprocessor)\n",
    "    \n",
    "    print(f\"문장: '{sentence}'\")\n",
    "    print(f\"토큰: {preprocessor.tokenize(sentence)}\")\n",
    "    print(f\"예측: {sentiment} (신뢰도: {confidence:.4f})\")\n",
    "    print(f\"확률: [부정: {probs[0]:.4f}, 긍정: {probs[1]:.4f}]\")\n",
    "    print(\"-\" * 50)\n",
    "\n",
    "# ==================================================================================\n",
    "# 10. 형태소 분석 vs 단순 분리 성능 비교\n",
    "# ==================================================================================\n",
    "\n",
    "print(f\"\\n🔍 형태소 분석 vs 단순 분리 성능 비교\")\n",
    "print(\"=\" * 70)\n",
    "\n",
    "# 단순 분리 버전으로 간단한 모델 훈련\n",
    "print(\"단순 공백 분리 버전으로 GRU 모델 훈련 중...\")\n",
    "\n",
    "preprocessor_simple.build_vocabulary(df['text'].tolist())\n",
    "simple_sequences = []\n",
    "for text in df['text']:\n",
    "    simple_sequences.append(preprocessor_simple.text_to_sequence(text))\n",
    "\n",
    "# 단순 분리 데이터로 훈련\n",
    "X_simple = simple_sequences\n",
    "X_train_simple, X_test_simple, y_train_simple, y_test_simple = train_test_split(\n",
    "    X_simple, y, test_size=0.2, random_state=42, stratify=y\n",
    ")\n",
    "\n",
    "simple_train_dataset = KoreanTextDataset(X_train_simple, y_train_simple)\n",
    "simple_test_dataset = KoreanTextDataset(X_test_simple, y_test_simple)\n",
    "simple_train_loader = DataLoader(simple_train_dataset, batch_size=batch_size, shuffle=True)\n",
    "simple_test_loader = DataLoader(simple_test_dataset, batch_size=batch_size, shuffle=False)\n",
    "\n",
    "# 단순 분리용 GRU 모델\n",
    "simple_gru = KoreanGRU(preprocessor_simple.vocab_size, embedding_dim, hidden_dim, output_dim, num_layers)\n",
    "\n",
    "# 빠른 훈련 (10 에포크만)\n",
    "_, _, simple_test_accs = train_korean_model(\n",
    "    simple_gru, simple_train_loader, simple_test_loader, epochs=10, lr=0.001\n",
    ")\n",
    "\n",
    "simple_accuracy, _, _, _, _ = evaluate_korean_model(simple_gru, simple_test_loader)\n",
    "\n",
    "print(f\"\\n📊 토크나이징 방법별 성능 비교:\")\n",
    "print(f\"   형태소 분석 ({best_model_name}): {korean_results[best_model_name]['final_accuracy']:.4f}\")\n",
    "print(f\"   단순 공백 분리 (GRU): {simple_accuracy:.4f}\")\n",
    "print(f\"   성능 차이: {korean_results[best_model_name]['final_accuracy'] - simple_accuracy:.4f}\")\n",
    "\n",
    "# 어휘집 크기 비교\n",
    "print(f\"\\n📚 어휘집 크기 비교:\")\n",
    "print(f\"   형태소 분석: {preprocessor.vocab_size}개\")\n",
    "print(f\"   단순 분리: {preprocessor_simple.vocab_size}개\")\n",
    "\n",
    "# ==================================================================================\n",
    "# 11. 한글 NLP의 특징과 도전과제\n",
    "# ==================================================================================\n",
    "\n",
    "print(f\"\\n📚 한글 NLP 초심자를 위한 핵심 개념 정리\")\n",
    "print(\"=\" * 70)\n",
    "\n",
    "korean_nlp_concepts = {\n",
    "    \"한글의 특징\": [\n",
    "        \"교착어: 어미, 조사가 단어에 붙어서 의미 변화\",\n",
    "        \"복잡한 활용: 하나의 어근이 수십 가지 형태로 변화\",\n",
    "        \"띄어쓰기 규칙이 복잡하고 일관성이 부족한 경우 많음\",\n",
    "        \"문맥에 따른 의미 변화가 영어보다 복잡\"\n",
    "    ],\n",
    "    \n",
    "    \"형태소 분석의 중요성\": [\n",
    "        \"단순 공백 분리로는 '좋았어요'와 '좋다'를 다른 단어로 인식\",\n",
    "        \"형태소 분석으로 '좋' + '았' + '어요'로 분해하여 어근 추출\",\n",
    "        \"어휘집 크기 감소와 일반화 성능 향상\",\n",
    "        \"하지만 처리 시간이 증가하는 trade-off 존재\"\n",
    "    ],\n",
    "    \n",
    "    \"RNN 계열 모델의 한글 적용\": [\n",
    "        \"한글은 어순이 비교적 자유로워 문맥 파악이 중요\",\n",
    "        \"LSTM/GRU의 장기 의존성 모델링이 한글에 효과적\",\n",
    "        \"양방향 LSTM으로 앞뒤 문맥을 모두 고려하면 성능 향상\",\n",
    "        \"드롭아웃과 기울기 클리핑이 한글 텍스트에서 중요\"\n",
    "    ]\n",
    "}\n",
    "\n",
    "for concept, explanations in korean_nlp_concepts.items():\n",
    "    print(f\"\\n🔍 {concept}:\")\n",
    "    for explanation in explanations:\n",
    "        print(f\"   • {explanation}\")\n",
    "\n",
    "# ==================================================================================\n",
    "# 12. 실무 팁과 개선 방향\n",
    "# ==================================================================================\n",
    "\n",
    "print(f\"\\n💡 한글 감성분석 실무 팁:\")\n",
    "print(\"=\" * 50)\n",
    "\n",
    "practical_tips = [\n",
    "    \"데이터 전처리: 이모티콘, 특수문자 처리 전략 수립\",\n",
    "    \"어휘집 관리: OOV(Out-of-Vocabulary) 문제 해결 방안\",\n",
    "    \"모델 선택: 데이터 크기와 실시간 처리 요구사항 고려\",\n",
    "    \"성능 개선: Pre-trained 임베딩(Word2Vec, FastText) 활용\",\n",
    "    \"최신 트렌드: KoBERT, KoELECTRA 등 한글 특화 Transformer 모델\",\n",
    "    \"평가 지표: 단순 정확도보다 F1-score, AUC 등 다양한 지표 활용\"\n",
    "]\n",
    "\n",
    "for i, tip in enumerate(practical_tips, 1):\n",
    "    print(f\"   {i}. {tip}\")\n",
    "\n",
    "print(f\"\\n🚀 다음 단계 학습 추천:\")\n",
    "print(\"   1. Attention Mechanism 추가\")\n",
    "print(\"   2. Bidirectional LSTM/GRU 구현\")\n",
    "print(\"   3. 한글 Word2Vec 임베딩 활용\")\n",
    "print(\"   4. KoBERT 등 사전 훈련된 모델 fine-tuning\")\n",
    "print(\"   5. 실제 리뷰 데이터셋(네이버 영화 리뷰 등) 적용\")"
   ]
  },
  {
   "cell_type": "code",
   "execution_count": 14,
   "id": "9bb604ad-5f49-4370-890d-157b7771bf93",
   "metadata": {},
   "outputs": [
    {
     "name": "stdout",
     "output_type": "stream",
     "text": [
      "\n",
      "💾 모델 저장 (최종 수정 버전)\n",
      "========================================\n",
      "✅ RNN 모델이 저장되었습니다.\n",
      "   파일명: best_korean_sentiment_model_rnn_final.pth\n",
      "   최종 정확도: 1.0000\n",
      "\n",
      "🔄 최종 테스트\n",
      "==============================\n",
      "✅ 모델 로드 성공!\n",
      "   모델 타입: KoreanRNN\n",
      "   어휘집 크기: 85\n",
      "   모델 장치: cuda\n",
      "\n",
      "🔮 개별 예측 테스트:\n",
      "   입력: '이 영화 정말 최고예요!'\n",
      "   예측: 부정 (신뢰도: 1.0000)\n",
      "   확률: [부정: 1.0000, 긍정: 0.0000]\n",
      "\n",
      "🚀 통합 예측 함수 테스트\n",
      "========================================\n",
      "✅ 입력: '정말 좋은 영화였어요!'\n",
      "   예측: 긍정 (신뢰도: 1.0000)\n",
      "   확률: 부정 0.000, 긍정 1.000\n",
      "   장치: cuda\n",
      "--------------------------------------------------\n",
      "✅ 입력: '너무 지루하고 재미없었습니다'\n",
      "   예측: 부정 (신뢰도: 1.0000)\n",
      "   확률: 부정 1.000, 긍정 0.000\n",
      "   장치: cuda\n",
      "--------------------------------------------------\n",
      "✅ 입력: '최고의 작품이네요'\n",
      "   예측: 긍정 (신뢰도: 1.0000)\n",
      "   확률: 부정 0.000, 긍정 1.000\n",
      "   장치: cuda\n",
      "--------------------------------------------------\n",
      "✅ 입력: '완전 노잼이에요'\n",
      "   예측: 부정 (신뢰도: 1.0000)\n",
      "   확률: 부정 1.000, 긍정 0.000\n",
      "   장치: cuda\n",
      "--------------------------------------------------\n",
      "✅ 입력: '감동적이고 아름다운 스토리'\n",
      "   예측: 긍정 (신뢰도: 1.0000)\n",
      "   확률: 부정 0.000, 긍정 1.000\n",
      "   장치: cuda\n",
      "--------------------------------------------------\n",
      "\n",
      "🖥️  CPU 강제 실행 테스트\n",
      "===================================\n",
      "✅ CPU 실행 성공!\n",
      "   예측: 긍정\n",
      "   장치: cpu\n",
      "\n",
      "📖 최종 사용법 가이드\n",
      "========================================\n",
      "🎯 1. 간단한 예측 (권장):\n",
      "   result = predict_korean_text_sentiment('model.pth', '텍스트')\n",
      "   print(result['sentiment'], result['confidence'])\n",
      "\n",
      "🎯 2. 특정 장치에서 실행:\n",
      "   # CPU 강제 사용\n",
      "   result = predict_korean_text_sentiment('model.pth', '텍스트', device='cpu')\n",
      "   # GPU 강제 사용\n",
      "   result = predict_korean_text_sentiment('model.pth', '텍스트', device='cuda')\n",
      "\n",
      "🎯 3. 모델 재사용 (많은 예측 시):\n",
      "   model, preprocessor, device = load_sentiment_model_safe('model.pth')\n",
      "   for text in texts:\n",
      "       sentiment, conf, probs = predict_sentiment_with_device(model, text, preprocessor)\n",
      "\n",
      "✅ 모든 문제 해결 완료!\n",
      "   ✓ Java 객체 pickle 에러 → 해결\n",
      "   ✓ GPU/CPU 장치 불일치 → 해결\n",
      "   ✓ 함수명 충돌 → 해결\n",
      "   ✓ 완전한 에러 처리 → 추가\n",
      "\n",
      "🏆 최고 성능 모델: RNN (1.0000)\n",
      "============================================================\n"
     ]
    }
   ],
   "source": [
    "# ==================================================================================\n",
    "# 최종 수정: 함수명 충돌 해결 및 완전한 장치 관리\n",
    "# ==================================================================================\n",
    "\n",
    "print(f\"\\n💾 모델 저장 (최종 수정 버전)\")\n",
    "print(\"=\" * 40)\n",
    "\n",
    "# 전처리기의 필수 정보만 따로 저장\n",
    "preprocessor_data = {\n",
    "    'word_to_idx': preprocessor.word_to_idx,\n",
    "    'idx_to_word': preprocessor.idx_to_word, \n",
    "    'vocab_size': preprocessor.vocab_size,\n",
    "    'use_morphs': preprocessor.use_morphs\n",
    "}\n",
    "\n",
    "# 최고 성능 모델 저장 (전처리기는 제외)\n",
    "torch.save({\n",
    "    'model_state_dict': best_model.state_dict(),\n",
    "    'preprocessor_data': preprocessor_data,\n",
    "    'model_name': best_model_name,\n",
    "    'accuracy': korean_results[best_model_name]['final_accuracy'],\n",
    "    'vocab_size': vocab_size,\n",
    "    'embedding_dim': embedding_dim,\n",
    "    'hidden_dim': hidden_dim,\n",
    "    'output_dim': output_dim,\n",
    "    'num_layers': num_layers\n",
    "}, f'best_korean_sentiment_model_{best_model_name.lower()}_final.pth')\n",
    "\n",
    "print(f\"✅ {best_model_name} 모델이 저장되었습니다.\")\n",
    "print(f\"   파일명: best_korean_sentiment_model_{best_model_name.lower()}_final.pth\")\n",
    "print(f\"   최종 정확도: {korean_results[best_model_name]['final_accuracy']:.4f}\")\n",
    "\n",
    "# ==================================================================================\n",
    "# 새로운 예측 함수 (기존 함수와 이름 충돌 방지)\n",
    "# ==================================================================================\n",
    "\n",
    "def predict_sentiment_with_device(model, text, preprocessor, device=None):\n",
    "    \"\"\"\n",
    "    장치 관리가 포함된 새로운 감성 예측 함수\n",
    "    기존 predict_korean_sentiment 함수와 이름이 다름\n",
    "    \"\"\"\n",
    "    # 장치 설정\n",
    "    if device is None:\n",
    "        device = next(model.parameters()).device  # 모델이 있는 장치 사용\n",
    "    \n",
    "    model.eval()\n",
    "    \n",
    "    # 전처리\n",
    "    sequence = preprocessor.text_to_sequence(text)\n",
    "    sequence_tensor = torch.tensor([sequence], dtype=torch.long).to(device)\n",
    "    \n",
    "    with torch.no_grad():\n",
    "        output = model(sequence_tensor)\n",
    "        probabilities = F.softmax(output, dim=1)\n",
    "        prediction = output.argmax(dim=1).item()\n",
    "        confidence = probabilities[0][prediction].item()\n",
    "    \n",
    "    sentiment = \"긍정\" if prediction == 1 else \"부정\"\n",
    "    return sentiment, confidence, probabilities[0].cpu().numpy()\n",
    "\n",
    "# ==================================================================================\n",
    "# 새로운 모델 로드 함수\n",
    "# ==================================================================================\n",
    "\n",
    "def load_sentiment_model_safe(model_path, device=None):\n",
    "    \"\"\"안전한 모델 로드 함수 (장치 문제 해결)\"\"\"\n",
    "    # 장치 설정\n",
    "    if device is None:\n",
    "        device = torch.device('cuda' if torch.cuda.is_available() else 'cpu')\n",
    "    \n",
    "    # CPU로 로드한 후 지정된 장치로 이동\n",
    "    checkpoint = torch.load(model_path, map_location='cpu')\n",
    "    \n",
    "    # 모델 재생성\n",
    "    if checkpoint['model_name'] == 'LSTM':\n",
    "        model = KoreanLSTM(\n",
    "            checkpoint['vocab_size'], \n",
    "            checkpoint['embedding_dim'],\n",
    "            checkpoint['hidden_dim'], \n",
    "            checkpoint['output_dim'],\n",
    "            checkpoint['num_layers']\n",
    "        )\n",
    "    elif checkpoint['model_name'] == 'GRU':\n",
    "        model = KoreanGRU(\n",
    "            checkpoint['vocab_size'], \n",
    "            checkpoint['embedding_dim'],\n",
    "            checkpoint['hidden_dim'], \n",
    "            checkpoint['output_dim'],\n",
    "            checkpoint['num_layers']\n",
    "        )\n",
    "    else:  # RNN\n",
    "        model = KoreanRNN(\n",
    "            checkpoint['vocab_size'], \n",
    "            checkpoint['embedding_dim'],\n",
    "            checkpoint['hidden_dim'], \n",
    "            checkpoint['output_dim'],\n",
    "            checkpoint['num_layers']\n",
    "        )\n",
    "    \n",
    "    # 가중치 로드 및 장치 이동\n",
    "    model.load_state_dict(checkpoint['model_state_dict'])\n",
    "    model.to(device)\n",
    "    model.eval()\n",
    "    \n",
    "    # 전처리기 재생성\n",
    "    preprocessor_data = checkpoint['preprocessor_data']\n",
    "    new_preprocessor = KoreanTextPreprocessor(use_morphs=preprocessor_data['use_morphs'])\n",
    "    \n",
    "    # 어휘집 정보 복원\n",
    "    new_preprocessor.word_to_idx = preprocessor_data['word_to_idx']\n",
    "    new_preprocessor.idx_to_word = preprocessor_data['idx_to_word']\n",
    "    new_preprocessor.vocab_size = preprocessor_data['vocab_size']\n",
    "    \n",
    "    return model, new_preprocessor, device\n",
    "\n",
    "# ==================================================================================\n",
    "# 완전한 예측 함수\n",
    "# ==================================================================================\n",
    "\n",
    "def predict_korean_text_sentiment(model_path, text, device=None):\n",
    "    \"\"\"\n",
    "    한 번의 호출로 모델 로드부터 예측까지 완료\n",
    "    \"\"\"\n",
    "    try:\n",
    "        # 모델 로드\n",
    "        model, preprocessor, model_device = load_sentiment_model_safe(model_path, device)\n",
    "        \n",
    "        # 예측\n",
    "        sentiment, confidence, probs = predict_sentiment_with_device(\n",
    "            model, text, preprocessor, model_device\n",
    "        )\n",
    "        \n",
    "        return {\n",
    "            'text': text,\n",
    "            'sentiment': sentiment,\n",
    "            'confidence': confidence,\n",
    "            'probabilities': {\n",
    "                '부정': float(probs[0]),\n",
    "                '긍정': float(probs[1])\n",
    "            },\n",
    "            'device': str(model_device),\n",
    "            'success': True\n",
    "        }\n",
    "    \n",
    "    except Exception as e:\n",
    "        import traceback\n",
    "        return {\n",
    "            'text': text,\n",
    "            'error': str(e),\n",
    "            'traceback': traceback.format_exc(),\n",
    "            'success': False\n",
    "        }\n",
    "\n",
    "# ==================================================================================\n",
    "# 테스트 실행\n",
    "# ==================================================================================\n",
    "\n",
    "print(f\"\\n🔄 최종 테스트\")\n",
    "print(\"=\" * 30)\n",
    "\n",
    "# 모델 로드 테스트\n",
    "try:\n",
    "    model_path = f'best_korean_sentiment_model_{best_model_name.lower()}_final.pth'\n",
    "    loaded_model, loaded_preprocessor, model_device = load_sentiment_model_safe(model_path)\n",
    "    \n",
    "    print(\"✅ 모델 로드 성공!\")\n",
    "    print(f\"   모델 타입: {type(loaded_model).__name__}\")\n",
    "    print(f\"   어휘집 크기: {loaded_preprocessor.vocab_size}\")\n",
    "    print(f\"   모델 장치: {model_device}\")\n",
    "    \n",
    "    # 개별 예측 테스트\n",
    "    test_text = \"이 영화 정말 최고예요!\"\n",
    "    sentiment, confidence, probs = predict_sentiment_with_device(\n",
    "        loaded_model, test_text, loaded_preprocessor, model_device\n",
    "    )\n",
    "    \n",
    "    print(f\"\\n🔮 개별 예측 테스트:\")\n",
    "    print(f\"   입력: '{test_text}'\")\n",
    "    print(f\"   예측: {sentiment} (신뢰도: {confidence:.4f})\")\n",
    "    print(f\"   확률: [부정: {probs[0]:.4f}, 긍정: {probs[1]:.4f}]\")\n",
    "    \n",
    "except Exception as e:\n",
    "    print(f\"❌ 개별 테스트 실패: {e}\")\n",
    "    import traceback\n",
    "    traceback.print_exc()\n",
    "\n",
    "# 통합 예측 함수 테스트\n",
    "print(f\"\\n🚀 통합 예측 함수 테스트\")\n",
    "print(\"=\" * 40)\n",
    "\n",
    "test_sentences = [\n",
    "    \"정말 좋은 영화였어요!\",\n",
    "    \"너무 지루하고 재미없었습니다\", \n",
    "    \"최고의 작품이네요\",\n",
    "    \"완전 노잼이에요\",\n",
    "    \"감동적이고 아름다운 스토리\"\n",
    "]\n",
    "\n",
    "model_path = f'best_korean_sentiment_model_{best_model_name.lower()}_final.pth'\n",
    "\n",
    "for sentence in test_sentences:\n",
    "    result = predict_korean_text_sentiment(model_path, sentence)\n",
    "    \n",
    "    if result['success']:\n",
    "        print(f\"✅ 입력: '{result['text']}'\")\n",
    "        print(f\"   예측: {result['sentiment']} (신뢰도: {result['confidence']:.4f})\")\n",
    "        print(f\"   확률: 부정 {result['probabilities']['부정']:.3f}, 긍정 {result['probabilities']['긍정']:.3f}\")\n",
    "        print(f\"   장치: {result['device']}\")\n",
    "    else:\n",
    "        print(f\"❌ 오류: {result['error']}\")\n",
    "        if 'traceback' in result:\n",
    "            print(f\"   상세 오류:\\n{result['traceback']}\")\n",
    "    print(\"-\" * 50)\n",
    "\n",
    "# CPU 강제 실행 테스트\n",
    "print(f\"\\n🖥️  CPU 강제 실행 테스트\")\n",
    "print(\"=\" * 35)\n",
    "\n",
    "cpu_result = predict_korean_text_sentiment(\n",
    "    model_path, \"CPU에서 실행되는 테스트입니다\", device='cpu'\n",
    ")\n",
    "\n",
    "if cpu_result['success']:\n",
    "    print(f\"✅ CPU 실행 성공!\")\n",
    "    print(f\"   예측: {cpu_result['sentiment']}\")\n",
    "    print(f\"   장치: {cpu_result['device']}\")\n",
    "else:\n",
    "    print(f\"❌ CPU 실행 실패: {cpu_result['error']}\")\n",
    "\n",
    "# ==================================================================================\n",
    "# 최종 사용법 가이드\n",
    "# ==================================================================================\n",
    "\n",
    "print(f\"\\n📖 최종 사용법 가이드\")\n",
    "print(\"=\" * 40)\n",
    "\n",
    "print(f\"🎯 1. 간단한 예측 (권장):\")\n",
    "print(f\"   result = predict_korean_text_sentiment('model.pth', '텍스트')\")\n",
    "print(f\"   print(result['sentiment'], result['confidence'])\")\n",
    "\n",
    "print(f\"\\n🎯 2. 특정 장치에서 실행:\")\n",
    "print(f\"   # CPU 강제 사용\")\n",
    "print(f\"   result = predict_korean_text_sentiment('model.pth', '텍스트', device='cpu')\")\n",
    "print(f\"   # GPU 강제 사용\")  \n",
    "print(f\"   result = predict_korean_text_sentiment('model.pth', '텍스트', device='cuda')\")\n",
    "\n",
    "print(f\"\\n🎯 3. 모델 재사용 (많은 예측 시):\")\n",
    "print(f\"   model, preprocessor, device = load_sentiment_model_safe('model.pth')\")\n",
    "print(f\"   for text in texts:\")\n",
    "print(f\"       sentiment, conf, probs = predict_sentiment_with_device(model, text, preprocessor)\")\n",
    "\n",
    "print(f\"\\n✅ 모든 문제 해결 완료!\")\n",
    "print(f\"   ✓ Java 객체 pickle 에러 → 해결\")\n",
    "print(f\"   ✓ GPU/CPU 장치 불일치 → 해결\") \n",
    "print(f\"   ✓ 함수명 충돌 → 해결\")\n",
    "print(f\"   ✓ 완전한 에러 처리 → 추가\")\n",
    "\n",
    "print(f\"\\n🏆 최고 성능 모델: {best_model_name} ({korean_results[best_model_name]['final_accuracy']:.4f})\")\n",
    "print(\"=\" * 60)"
   ]
  },
  {
   "cell_type": "code",
   "execution_count": null,
   "id": "7f3e3356-7f1b-4888-afd7-67f1f8cabd05",
   "metadata": {},
   "outputs": [],
   "source": []
  },
  {
   "cell_type": "code",
   "execution_count": null,
   "id": "726a1f6f-1ef0-4ae6-bba2-7dbd247c2fa4",
   "metadata": {},
   "outputs": [],
   "source": []
  },
  {
   "cell_type": "code",
   "execution_count": null,
   "id": "c2568465-9f98-4e58-a8c8-7d6169a3e4ce",
   "metadata": {},
   "outputs": [],
   "source": []
  },
  {
   "cell_type": "code",
   "execution_count": null,
   "id": "64378acc-297d-44e3-a855-e2c43e997848",
   "metadata": {},
   "outputs": [],
   "source": []
  },
  {
   "cell_type": "code",
   "execution_count": null,
   "id": "38eca371-77c4-42b4-af2f-eb321565c46f",
   "metadata": {},
   "outputs": [],
   "source": []
  },
  {
   "cell_type": "code",
   "execution_count": null,
   "id": "dfc32ff0-b550-4547-9d9d-a9fc08925fa7",
   "metadata": {},
   "outputs": [],
   "source": []
  },
  {
   "cell_type": "code",
   "execution_count": null,
   "id": "59460f2c-28a9-477b-a4b6-47c3c84c578c",
   "metadata": {},
   "outputs": [],
   "source": []
  }
 ],
 "metadata": {
  "kernelspec": {
   "display_name": "Python (KERI)",
   "language": "python",
   "name": "keri"
  },
  "language_info": {
   "codemirror_mode": {
    "name": "ipython",
    "version": 3
   },
   "file_extension": ".py",
   "mimetype": "text/x-python",
   "name": "python",
   "nbconvert_exporter": "python",
   "pygments_lexer": "ipython3",
   "version": "3.9.21"
  }
 },
 "nbformat": 4,
 "nbformat_minor": 5
}
