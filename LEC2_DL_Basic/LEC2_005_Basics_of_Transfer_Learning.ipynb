{
 "cells": [
  {
   "cell_type": "markdown",
   "id": "99911dec-073a-4a21-af12-01de1cfd42b7",
   "metadata": {},
   "source": [
    "### Created on 2025\n",
    "### @author: S.W"
   ]
  },
  {
   "cell_type": "markdown",
   "id": "6479ece7-e6e1-4204-861c-eaa226ffb16f",
   "metadata": {},
   "source": [
    "# CIFAR-10 Transfer Learning with PyTorch\n",
    "이 튜토리얼에서는 초심자를 위해 단계별로 PyTorch로 CIFAR-10 데이터를 불러오고, VGG16 사전학습 모델을 활용해 전이학습(Transfer Learning)하는 과정을 설명합니다."
   ]
  },
  {
   "cell_type": "markdown",
   "id": "70e58d8f-3c92-4f55-8f0d-f08260eb7ae5",
   "metadata": {},
   "source": [
    "## 1. 분석에 필요한 패키지 불러오기"
   ]
  },
  {
   "cell_type": "code",
   "execution_count": 1,
   "id": "311371d1-365e-4f4a-9522-3408ac52002a",
   "metadata": {},
   "outputs": [
    {
     "name": "stdout",
     "output_type": "stream",
     "text": [
      "Using device: cuda\n"
     ]
    }
   ],
   "source": [
    "import os\n",
    "import numpy as np\n",
    "import matplotlib.pyplot as plt\n",
    "from PIL import Image\n",
    "\n",
    "import torch\n",
    "import torch.nn as nn\n",
    "import torch.optim as optim\n",
    "from torch.utils.data import DataLoader, Subset\n",
    "from torchvision import datasets, transforms, models\n",
    "\n",
    "from sklearn.model_selection import train_test_split\n",
    "from sklearn.metrics import accuracy_score\n",
    "\n",
    "# GPU 사용 가능 시 자동 선택\n",
    "device = torch.device('cuda' if torch.cuda.is_available() else 'cpu')\n",
    "print(f'Using device: {device}')"
   ]
  },
  {
   "cell_type": "markdown",
   "id": "b5cb2859-1b0c-4f18-bc7d-c17c8a39aef1",
   "metadata": {},
   "source": [
    "- torch, torchvision: 딥러닝 라이브러리\n",
    "- sklearn: 데이터 분할, 평가 지표\n",
    "- device: 모델/연산을 CPU와 GPU 중에서 선택"
   ]
  },
  {
   "cell_type": "markdown",
   "id": "7c5c9dca-3459-4903-bee5-f4075b8c62f7",
   "metadata": {},
   "source": [
    "## 2. CIFAR-10 데이터 로드 및 NumPy 변환"
   ]
  },
  {
   "cell_type": "code",
   "execution_count": 2,
   "id": "6834f972-351e-4bb0-9e38-29552847a1ac",
   "metadata": {},
   "outputs": [
    {
     "name": "stdout",
     "output_type": "stream",
     "text": [
      "Files already downloaded and verified\n",
      "Files already downloaded and verified\n",
      "Train shapes: (50000, 3, 32, 32) (50000,)\n",
      "Test shapes : (10000, 3, 32, 32) (10000,)\n"
     ]
    }
   ],
   "source": [
    "# 2.1 torchvision CIFAR-10 dataset 불러오기 (train + test)\n",
    "raw_tf = transforms.Compose([transforms.ToTensor()])\n",
    "cifar_train = datasets.CIFAR10(root='./data', train=True,  download=True, transform=raw_tf)\n",
    "cifar_test  = datasets.CIFAR10(root='./data', train=False, download=True, transform=raw_tf)\n",
    "\n",
    "# 2.2 NumPy 배열로 변환 함수 정의\n",
    "def to_numpy(dataset):\n",
    "    X, y = [], []\n",
    "    for img, label in dataset:\n",
    "        X.append(img.numpy())\n",
    "        y.append(label)\n",
    "    return np.stack(X), np.array(y)\n",
    "\n",
    "X_train, y_train = to_numpy(cifar_train)\n",
    "X_test,  y_test  = to_numpy(cifar_test)\n",
    "\n",
    "print('Train shapes:', X_train.shape, y_train.shape)\n",
    "print('Test shapes :', X_test.shape,  y_test.shape)"
   ]
  },
  {
   "cell_type": "markdown",
   "id": "e30f9984-7e2c-410f-afc4-2bb5d54bc344",
   "metadata": {},
   "source": [
    "- CIFAR10(..., transform=ToTensor())는 (H,W,C) 이미지를 (C,H,W) 텐서로 변환합니다.\n",
    "- to_numpy 함수로 PyTorch 텐서를 NumPy 배열로 바꿉니다."
   ]
  },
  {
   "cell_type": "markdown",
   "id": "3c6220ff-e5d7-4592-9485-1c58519cf9d8",
   "metadata": {},
   "source": [
    "## 3. 데이터 결합 및 Train/Test 재분할"
   ]
  },
  {
   "cell_type": "code",
   "execution_count": 3,
   "id": "668842b6-72ea-441b-aa23-d60b4d8f2fdb",
   "metadata": {},
   "outputs": [
    {
     "name": "stdout",
     "output_type": "stream",
     "text": [
      "Combined shapes: (60000, 3, 32, 32) (60000,)\n",
      "Sample counts: 6000 1200\n"
     ]
    }
   ],
   "source": [
    "# 3.1 배열 합치기\n",
    "X = np.concatenate([X_train, X_test], axis=0)\n",
    "y = np.concatenate([y_train, y_test], axis=0)\n",
    "print('Combined shapes:', X.shape, y.shape)\n",
    "\n",
    "# 3.2 sklearn train_test_split로 subset 만들기\n",
    "indices = np.arange(len(X))\n",
    "train_idx, test_idx = train_test_split(\n",
    "    indices, train_size=0.1, test_size=0.02,\n",
    "    stratify=y, random_state=42\n",
    ")\n",
    "print('Sample counts:', len(train_idx), len(test_idx))"
   ]
  },
  {
   "cell_type": "markdown",
   "id": "8d4cb73b-9b1a-4d3a-b073-755fc85952bd",
   "metadata": {},
   "source": [
    "- train_size=0.1, test_size=0.02로 각각 10%, 2% 데이터 선정\n",
    "- stratify=y로 클래스 비율 유지"
   ]
  },
  {
   "cell_type": "markdown",
   "id": "4cc98181-db94-404b-b3f8-ca5e964e9821",
   "metadata": {},
   "source": [
    "## 4. PyTorch Dataset & DataLoader 준비"
   ]
  },
  {
   "cell_type": "code",
   "execution_count": 4,
   "id": "01219695-5aa3-4c33-8b59-6f0a2db192a2",
   "metadata": {},
   "outputs": [
    {
     "name": "stdout",
     "output_type": "stream",
     "text": [
      "First train batch: torch.Size([64, 3, 32, 32])\n"
     ]
    }
   ],
   "source": [
    "from torch.utils.data import Dataset, Subset\n",
    "\n",
    "class NumpyDataset(Dataset):\n",
    "    def __init__(self, X, y, transform=None):\n",
    "        self.X, self.y, self.transform = X, y, transform\n",
    "    def __len__(self):\n",
    "        return len(self.y)\n",
    "    def __getitem__(self, idx):\n",
    "        img = (self.X[idx].transpose(1,2,0)*255).astype(np.uint8)\n",
    "        img = Image.fromarray(img)\n",
    "        if self.transform: img = self.transform(img)\n",
    "        return img, self.y[idx]\n",
    "\n",
    "# 4.1 증강 정의\n",
    "train_tf = transforms.Compose([\n",
    "    transforms.RandomHorizontalFlip(),\n",
    "    transforms.RandomResizedCrop(32, scale=(0.8,1.0)),\n",
    "    transforms.ToTensor(),\n",
    "    transforms.Normalize((0.5,)*3, (0.5,)*3)\n",
    "])\n",
    "test_tf = transforms.Compose([\n",
    "    transforms.ToTensor(),\n",
    "    transforms.Normalize((0.5,)*3, (0.5,)*3)\n",
    "])\n",
    "\n",
    "# 4.2 Subset & DataLoader 생성\n",
    "full_ds = NumpyDataset(X, y, transform=None)\n",
    "train_ds = Subset(full_ds, train_idx)\n",
    "test_ds  = Subset(full_ds, test_idx)\n",
    "# transform 할당\n",
    "train_ds.dataset.transform = train_tf\n",
    "test_ds.dataset.transform  = test_tf\n",
    "\n",
    "train_loader = DataLoader(train_ds, batch_size=64, shuffle=True, num_workers=2)\n",
    "test_loader  = DataLoader(test_ds,  batch_size=64, shuffle=False,num_workers=2)\n",
    "\n",
    "print('First train batch:', next(iter(train_loader))[0].shape)"
   ]
  },
  {
   "cell_type": "markdown",
   "id": "dfaa5dea-4819-46a3-be49-3840c570013b",
   "metadata": {},
   "source": [
    "- NumpyDataset는 NumPy 데이터를 PIL Image로 변환 후 증강\n",
    "- 마지막 print로 배치 크기 확인: (64,3,32,32)"
   ]
  },
  {
   "cell_type": "markdown",
   "id": "3b9801b0-765f-4a20-86d3-19313fa8ffe3",
   "metadata": {},
   "source": [
    "## 5. VGG16 기반 전이학습 모델 정의"
   ]
  },
  {
   "cell_type": "code",
   "execution_count": 5,
   "id": "70fc9cc1-af37-4825-8cbd-583de650e940",
   "metadata": {},
   "outputs": [
    {
     "name": "stderr",
     "output_type": "stream",
     "text": [
      "/home/crocus/anaconda3/envs/keri_test/lib/python3.9/site-packages/torchvision/models/_utils.py:208: UserWarning: The parameter 'pretrained' is deprecated since 0.13 and may be removed in the future, please use 'weights' instead.\n",
      "  warnings.warn(\n",
      "/home/crocus/anaconda3/envs/keri_test/lib/python3.9/site-packages/torchvision/models/_utils.py:223: UserWarning: Arguments other than a weight enum or `None` for 'weights' are deprecated since 0.13 and may be removed in the future. The current behavior is equivalent to passing `weights=VGG16_Weights.IMAGENET1K_V1`. You can also use `weights=VGG16_Weights.DEFAULT` to get the most up-to-date weights.\n",
      "  warnings.warn(msg)\n"
     ]
    },
    {
     "name": "stdout",
     "output_type": "stream",
     "text": [
      "TransferModel(\n",
      "  (features): Sequential(\n",
      "    (0): Conv2d(3, 64, kernel_size=(3, 3), stride=(1, 1), padding=(1, 1))\n",
      "    (1): ReLU(inplace=True)\n",
      "    (2): Conv2d(64, 64, kernel_size=(3, 3), stride=(1, 1), padding=(1, 1))\n",
      "    (3): ReLU(inplace=True)\n",
      "    (4): MaxPool2d(kernel_size=2, stride=2, padding=0, dilation=1, ceil_mode=False)\n",
      "    (5): Conv2d(64, 128, kernel_size=(3, 3), stride=(1, 1), padding=(1, 1))\n",
      "    (6): ReLU(inplace=True)\n",
      "    (7): Conv2d(128, 128, kernel_size=(3, 3), stride=(1, 1), padding=(1, 1))\n",
      "    (8): ReLU(inplace=True)\n",
      "    (9): MaxPool2d(kernel_size=2, stride=2, padding=0, dilation=1, ceil_mode=False)\n",
      "    (10): Conv2d(128, 256, kernel_size=(3, 3), stride=(1, 1), padding=(1, 1))\n",
      "    (11): ReLU(inplace=True)\n",
      "    (12): Conv2d(256, 256, kernel_size=(3, 3), stride=(1, 1), padding=(1, 1))\n",
      "    (13): ReLU(inplace=True)\n",
      "    (14): Conv2d(256, 256, kernel_size=(3, 3), stride=(1, 1), padding=(1, 1))\n",
      "    (15): ReLU(inplace=True)\n",
      "    (16): MaxPool2d(kernel_size=2, stride=2, padding=0, dilation=1, ceil_mode=False)\n",
      "    (17): Conv2d(256, 512, kernel_size=(3, 3), stride=(1, 1), padding=(1, 1))\n",
      "    (18): ReLU(inplace=True)\n",
      "    (19): Conv2d(512, 512, kernel_size=(3, 3), stride=(1, 1), padding=(1, 1))\n",
      "    (20): ReLU(inplace=True)\n",
      "    (21): Conv2d(512, 512, kernel_size=(3, 3), stride=(1, 1), padding=(1, 1))\n",
      "    (22): ReLU(inplace=True)\n",
      "    (23): MaxPool2d(kernel_size=2, stride=2, padding=0, dilation=1, ceil_mode=False)\n",
      "    (24): Conv2d(512, 512, kernel_size=(3, 3), stride=(1, 1), padding=(1, 1))\n",
      "    (25): ReLU(inplace=True)\n",
      "    (26): Conv2d(512, 512, kernel_size=(3, 3), stride=(1, 1), padding=(1, 1))\n",
      "    (27): ReLU(inplace=True)\n",
      "    (28): Conv2d(512, 512, kernel_size=(3, 3), stride=(1, 1), padding=(1, 1))\n",
      "    (29): ReLU(inplace=True)\n",
      "    (30): MaxPool2d(kernel_size=2, stride=2, padding=0, dilation=1, ceil_mode=False)\n",
      "  )\n",
      "  (avgpool): AdaptiveAvgPool2d(output_size=(1, 1))\n",
      "  (classifier): Sequential(\n",
      "    (0): Flatten(start_dim=1, end_dim=-1)\n",
      "    (1): Linear(in_features=512, out_features=500, bias=True)\n",
      "    (2): ReLU()\n",
      "    (3): Dropout(p=0.5, inplace=False)\n",
      "    (4): Linear(in_features=500, out_features=10, bias=True)\n",
      "    (5): Sigmoid()\n",
      "  )\n",
      ")\n"
     ]
    }
   ],
   "source": [
    "# 5.1 사전학습 VGG16 로드\n",
    "backbone = models.vgg16(pretrained=True)\n",
    "\n",
    "# 5.2 TransferModel 정의\n",
    "class TransferModel(nn.Module):\n",
    "    def __init__(self, backbone):\n",
    "        super().__init__()\n",
    "        self.features = backbone.features\n",
    "        self.avgpool  = nn.AdaptiveAvgPool2d((1,1))\n",
    "        self.classifier = nn.Sequential(\n",
    "            nn.Flatten(),\n",
    "            nn.Linear(512,500),\n",
    "            nn.ReLU(),\n",
    "            nn.Dropout(0.5),\n",
    "            nn.Linear(500,10),\n",
    "            nn.Sigmoid()\n",
    "        )\n",
    "    def forward(self, x):\n",
    "        x = self.features(x)\n",
    "        x = self.avgpool(x)\n",
    "        return self.classifier(x)\n",
    "\n",
    "model = TransferModel(backbone).to(device)\n",
    "print(model)"
   ]
  },
  {
   "cell_type": "markdown",
   "id": "b8a50c26-d92d-420e-884a-54112220d813",
   "metadata": {},
   "source": [
    "- AdaptiveAvgPool2d((1,1))로 1×1 공간 크기 풀링\n",
    "- Linear(512,500) → ReLU → Dropout → Linear(500,10) → Sigmoid"
   ]
  },
  {
   "cell_type": "markdown",
   "id": "f8aa527a-5a6b-4395-a576-05cfbceb710d",
   "metadata": {},
   "source": [
    "## 6. 학습 설정 및 루프"
   ]
  },
  {
   "cell_type": "code",
   "execution_count": 6,
   "id": "4a44ab15-c46e-4e5a-bce2-37687a319818",
   "metadata": {},
   "outputs": [
    {
     "name": "stdout",
     "output_type": "stream",
     "text": [
      "Epoch 1/50: Train 1.8834/0.4582 Val 1.7993/0.5567\n",
      "Epoch 2/50: Train 1.7159/0.6418 Val 1.7318/0.6400\n",
      "Epoch 3/50: Train 1.6619/0.7207 Val 1.6552/0.7600\n",
      "Epoch 4/50: Train 1.6141/0.7965 Val 1.6687/0.7408\n",
      "Epoch 5/50: Train 1.5893/0.8260 Val 1.6437/0.7775\n",
      "Epoch 6/50: Train 1.5623/0.8657 Val 1.6258/0.7892\n",
      "Epoch 7/50: Train 1.5432/0.8902 Val 1.6324/0.7792\n",
      "Epoch 8/50: Train 1.5303/0.9073 Val 1.6172/0.8117\n",
      "Epoch 9/50: Train 1.5160/0.9290 Val 1.6049/0.8217\n",
      "Epoch 10/50: Train 1.5167/0.9295 Val 1.6063/0.8258\n",
      "Epoch 11/50: Train 1.5033/0.9470 Val 1.6139/0.8108\n",
      "Epoch 12/50: Train 1.5018/0.9495 Val 1.6349/0.7850\n",
      "Epoch 13/50: Train 1.5047/0.9427 Val 1.6266/0.8033\n",
      "Epoch 14/50: Train 1.4932/0.9593 Val 1.6179/0.8050\n",
      "Epoch 15/50: Train 1.4853/0.9752 Val 1.6182/0.8233\n",
      "Epoch 16/50: Train 1.4833/0.9753 Val 1.6488/0.7867\n",
      "Epoch 17/50: Train 1.4935/0.9592 Val 1.6290/0.8008\n",
      "Epoch 18/50: Train 1.4934/0.9622 Val 1.6246/0.8067\n",
      "Epoch 19/50: Train 1.4883/0.9680 Val 1.6295/0.7983\n",
      "Epoch 20/50: Train 1.4871/0.9703 Val 1.6412/0.7925\n",
      "Epoch 21/50: Train 1.4865/0.9700 Val 1.6367/0.7958\n",
      "Epoch 22/50: Train 1.4814/0.9770 Val 1.6165/0.8208\n",
      "Epoch 23/50: Train 1.4771/0.9827 Val 1.6240/0.8183\n",
      "Epoch 24/50: Train 1.4772/0.9823 Val 1.6143/0.8183\n",
      "Epoch 25/50: Train 1.4779/0.9815 Val 1.6154/0.8258\n",
      "Epoch 26/50: Train 1.4745/0.9860 Val 1.6398/0.8033\n",
      "Epoch 27/50: Train 1.4785/0.9793 Val 1.6323/0.7992\n",
      "Epoch 28/50: Train 1.4811/0.9747 Val 1.6656/0.7642\n",
      "Epoch 29/50: Train 1.4806/0.9760 Val 1.6251/0.8042\n",
      "Epoch 30/50: Train 1.4779/0.9790 Val 1.6278/0.8058\n",
      "Epoch 31/50: Train 1.4920/0.9615 Val 1.6184/0.8142\n",
      "Epoch 32/50: Train 1.4846/0.9705 Val 1.6191/0.8092\n",
      "Epoch 33/50: Train 1.4735/0.9875 Val 1.6265/0.8075\n",
      "Epoch 34/50: Train 1.4744/0.9850 Val 1.6578/0.7742\n",
      "Epoch 35/50: Train 1.4852/0.9700 Val 1.6317/0.8033\n",
      "Epoch 36/50: Train 1.4783/0.9808 Val 1.6124/0.8208\n",
      "Epoch 37/50: Train 1.4709/0.9895 Val 1.6114/0.8283\n",
      "Epoch 38/50: Train 1.4760/0.9822 Val 1.6247/0.8133\n",
      "Epoch 39/50: Train 1.4888/0.9613 Val 1.6425/0.7858\n",
      "Epoch 40/50: Train 1.4788/0.9790 Val 1.6167/0.8233\n",
      "Epoch 41/50: Train 1.4737/0.9865 Val 1.6144/0.8217\n",
      "Epoch 42/50: Train 1.4702/0.9902 Val 1.6098/0.8292\n",
      "Epoch 43/50: Train 1.4706/0.9902 Val 1.6078/0.8292\n",
      "Epoch 44/50: Train 1.4695/0.9915 Val 1.6048/0.8317\n",
      "Epoch 45/50: Train 1.4688/0.9925 Val 1.6104/0.8300\n",
      "Epoch 46/50: Train 1.4695/0.9913 Val 1.6242/0.8133\n",
      "Epoch 47/50: Train 1.4782/0.9790 Val 1.6440/0.8000\n",
      "Epoch 48/50: Train 1.4992/0.9545 Val 1.6422/0.8042\n",
      "Epoch 49/50: Train 1.4761/0.9820 Val 1.6253/0.8175\n",
      "Epoch 50/50: Train 1.4829/0.9725 Val 1.6284/0.8117\n"
     ]
    }
   ],
   "source": [
    "criterion = nn.CrossEntropyLoss()\n",
    "optimizer = optim.Adam(model.parameters(), lr=1e-4)\n",
    "\n",
    "num_epochs = 50\n",
    "train_losses, val_losses = [], []\n",
    "train_accs,  val_accs    = [], []\n",
    "\n",
    "for epoch in range(num_epochs):\n",
    "    # (1) 학습 모드\n",
    "    model.train()\n",
    "    total_loss, preds, trues = 0, [], []\n",
    "    for imgs, labels in train_loader:\n",
    "        imgs, labels = imgs.to(device), labels.to(device)\n",
    "        optimizer.zero_grad()\n",
    "        out = model(imgs)\n",
    "        loss = criterion(out, labels)\n",
    "        loss.backward(); optimizer.step()\n",
    "\n",
    "        total_loss += loss.item() * imgs.size(0)\n",
    "        preds.append(out.argmax(1).cpu().numpy())\n",
    "        trues.append(labels.cpu().numpy())\n",
    "\n",
    "    train_loss = total_loss/len(train_loader.dataset)\n",
    "    train_acc  = accuracy_score(np.concatenate(trues), np.concatenate(preds))\n",
    "\n",
    "    # (2) 평가 모드\\ model.eval()\n",
    "    total_loss, preds, trues = 0, [], []\n",
    "    with torch.no_grad():\n",
    "        for imgs, labels in test_loader:\n",
    "            imgs, labels = imgs.to(device), labels.to(device)\n",
    "            out = model(imgs)\n",
    "            loss = criterion(out, labels)\n",
    "            total_loss += loss.item()*imgs.size(0)\n",
    "            preds.append(out.argmax(1).cpu().numpy())\n",
    "            trues.append(labels.cpu().numpy())\n",
    "\n",
    "    val_loss = total_loss/len(test_loader.dataset)\n",
    "    val_acc  = accuracy_score(np.concatenate(trues), np.concatenate(preds))\n",
    "\n",
    "    train_losses.append(train_loss); val_losses.append(val_loss)\n",
    "    train_accs.append(train_acc);   val_accs.append(val_acc)\n",
    "\n",
    "    print(f\"Epoch {epoch+1}/{num_epochs}: \"\n",
    "          f\"Train {train_loss:.4f}/{train_acc:.4f} \"\n",
    "          f\"Val {val_loss:.4f}/{val_acc:.4f}\")"
   ]
  },
  {
   "cell_type": "markdown",
   "id": "6111efc5-44da-4f08-b7c4-600f8cb69668",
   "metadata": {},
   "source": [
    "- model.train() vs model.eval() 모드를 명확히 분리\n",
    "- 배치별 손실 누적 후 평균 계산, accuracy_score로 정확도 측정"
   ]
  },
  {
   "cell_type": "markdown",
   "id": "eb8dc918-3b41-4e93-aa09-46b59211dc8a",
   "metadata": {},
   "source": [
    "## 7. 결과 시각화 및 최종 평가"
   ]
  },
  {
   "cell_type": "code",
   "execution_count": 7,
   "id": "7a03fc5f-8bd8-4547-9bbf-1ca5ea321839",
   "metadata": {},
   "outputs": [
    {
     "data": {
      "image/png": "[encoded data removed]",
      "text/plain": [
       "<Figure size 1200x500 with 2 Axes>"
      ]
     },
     "metadata": {},
     "output_type": "display_data"
    },
    {
     "name": "stdout",
     "output_type": "stream",
     "text": [
      "Test Accuracy: 0.8125\n"
     ]
    }
   ],
   "source": [
    "# 학습 곡선 그리기\n",
    "epochs = range(1, num_epochs+1)\n",
    "plt.figure(figsize=(12,5))\n",
    "plt.subplot(1,2,1)\n",
    "plt.plot(epochs, train_losses, 'b-', label='Train Loss')\n",
    "plt.plot(epochs, val_losses, 'r-', label='Val Loss')\n",
    "plt.legend(); plt.xlabel('Epoch'); plt.ylabel('Loss'); plt.grid()\n",
    "\n",
    "plt.subplot(1,2,2)\n",
    "plt.plot(epochs, train_accs, 'y-', label='Train Acc')\n",
    "plt.plot(epochs, val_accs, 'g-', label='Val Acc')\n",
    "plt.legend(); plt.xlabel('Epoch'); plt.ylabel('Accuracy'); plt.grid()\n",
    "plt.tight_layout(); plt.show()\n",
    "\n",
    "# 테스트 정확도\n",
    "all_preds, all_trues = [], []\n",
    "with torch.no_grad():\n",
    "    for imgs, labels in test_loader:\n",
    "        imgs = imgs.to(device)\n",
    "        out = model(imgs)\n",
    "        all_preds.append(out.argmax(1).cpu().numpy())\n",
    "        all_trues.append(labels.numpy())\n",
    "all_preds = np.concatenate(all_preds)\n",
    "all_trues = np.concatenate(all_trues)\n",
    "print('Test Accuracy:', accuracy_score(all_trues, all_preds))"
   ]
  },
  {
   "cell_type": "markdown",
   "id": "2c096b58-d039-4bd3-8a03-7cf6315bdbbf",
   "metadata": {},
   "source": [
    "- 손실/정확도 곡선으로 학습 경향 확인\n",
    "- 테스트 세트의 최종 정확도 출력"
   ]
  },
  {
   "cell_type": "code",
   "execution_count": 8,
   "id": "07f1d987-814d-4f5a-8139-5e3b01520a09",
   "metadata": {},
   "outputs": [
    {
     "name": "stdout",
     "output_type": "stream",
     "text": [
      "Test accuracy: 0.8141666666666667\n"
     ]
    }
   ],
   "source": [
    "# 7) 테스트 세트 예측 및 accuracy_score\n",
    "all_preds, all_trues = [], []\n",
    "model.eval()\n",
    "with torch.no_grad():\n",
    "    for imgs, labels in test_loader:\n",
    "        imgs = imgs.to(device)\n",
    "        outputs = model(imgs)\n",
    "        all_preds.append(outputs.argmax(dim=1).cpu().numpy())\n",
    "        all_trues.append(labels.numpy())\n",
    "all_preds = np.concatenate(all_preds)\n",
    "all_trues = np.concatenate(all_trues)\n",
    "print('Test accuracy:', accuracy_score(all_trues, all_preds))"
   ]
  }
 ],
 "metadata": {
  "kernelspec": {
   "display_name": "AI Course (Python 3.9)",
   "language": "python",
   "name": "ai_course"
  },
  "language_info": {
   "codemirror_mode": {
    "name": "ipython",
    "version": 3
   },
   "file_extension": ".py",
   "mimetype": "text/x-python",
   "name": "python",
   "nbconvert_exporter": "python",
   "pygments_lexer": "ipython3",
   "version": "3.9.23"
  }
 },
 "nbformat": 4,
 "nbformat_minor": 5
}
