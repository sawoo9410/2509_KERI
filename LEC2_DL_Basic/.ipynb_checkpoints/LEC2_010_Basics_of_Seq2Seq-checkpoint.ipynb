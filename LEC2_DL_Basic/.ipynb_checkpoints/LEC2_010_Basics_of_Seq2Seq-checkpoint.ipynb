{
 "cells": [
  {
   "cell_type": "markdown",
   "id": "c7f363eb-96a1-48ba-8633-2bae9cd3382e",
   "metadata": {},
   "source": [
    "### Created on 2025\n",
    "### @author: S.W"
   ]
  },
  {
   "cell_type": "code",
   "execution_count": 1,
   "id": "d33a366c-2273-44d6-b13a-6497188c887c",
   "metadata": {},
   "outputs": [],
   "source": [
    "import torch\n",
    "import torch.nn as nn\n",
    "import torch.optim as optim\n",
    "import torch.nn.functional as F\n",
    "from torch.utils.data import Dataset, DataLoader\n",
    "import numpy as np\n",
    "import pandas as pd\n",
    "import matplotlib.pyplot as plt\n",
    "import seaborn as sns\n",
    "from sklearn.model_selection import train_test_split\n",
    "import re\n",
    "import random\n",
    "from collections import Counter\n",
    "from tqdm import tqdm\n",
    "import warnings\n",
    "warnings.filterwarnings('ignore')\n",
    "\n",
    "# 시각화 설정\n",
    "plt.rcParams['font.family'] = 'DejaVu Sans'\n",
    "plt.rcParams['axes.unicode_minus'] = False\n",
    "plt.style.use('seaborn-v0_8')\n",
    "plt.rcParams['figure.figsize'] = (12, 8)\n",
    "plt.rcParams['font.size'] = 11"
   ]
  },
  {
   "cell_type": "markdown",
   "id": "d1468a31-94f2-42e8-90eb-da0dad0f9743",
   "metadata": {},
   "source": [
    "### Seq2Seq 모델이란?\n",
    "- 정의: 입력 시퀀스를 받아서 출력 시퀀스를 생성하는 모델\n",
    "- 구조: Encoder(인코더) + Decoder(디코더)\n",
    "- 예시: 번역, 요약, 챗봇, 이미지 캡셔닝 등\n",
    "\n",
    "기본 구조:\n",
    "- 입력: '안녕하세요' → [Encoder] → 고정 크기 벡터 → [Decoder] → 'Hello'\n",
    "\n",
    "이번 예제: 간단한 영어 → 한글 번역\n",
    "- 'I love you' → '나는 너를 사랑해'\n",
    "- 'How are you' → '어떻게 지내'"
   ]
  },
  {
   "cell_type": "markdown",
   "id": "135e0a83-f5c4-4d10-9882-dbef7e7a47d2",
   "metadata": {},
   "source": [
    "#### 1. 간단한 영어-한글 번역 데이터 준비"
   ]
  },
  {
   "cell_type": "code",
   "execution_count": 2,
   "id": "772d84d2-2ad8-40d5-840f-8ed4f8af5bd4",
   "metadata": {},
   "outputs": [
    {
     "name": "stdout",
     "output_type": "stream",
     "text": [
      "\n",
      "📊 번역 데이터 준비\n",
      "==============================\n",
      "💾 전체 번역 쌍: 90개\n",
      "📝 샘플 데이터:\n",
      "   영어: 'hello' → 한글: '안녕'\n",
      "   영어: 'good morning' → 한글: '좋은 아침'\n",
      "   영어: 'good night' → 한글: '좋은 밤'\n",
      "   영어: 'how are you' → 한글: '어떻게 지내'\n",
      "   영어: 'nice to meet you' → 한글: '만나서 반가워'\n"
     ]
    }
   ],
   "source": [
    "print(\"\\n📊 번역 데이터 준비\")\n",
    "print(\"=\" * 30)\n",
    "\n",
    "# 간단한 영어-한글 문장 쌍 (초심자용)\n",
    "translation_pairs = [\n",
    "    # 인사\n",
    "    (\"hello\", \"안녕\"),\n",
    "    (\"good morning\", \"좋은 아침\"),\n",
    "    (\"good night\", \"좋은 밤\"),\n",
    "    (\"how are you\", \"어떻게 지내\"),\n",
    "    (\"nice to meet you\", \"만나서 반가워\"),\n",
    "    \n",
    "    # 기본 표현\n",
    "    (\"i love you\", \"나는 너를 사랑해\"),\n",
    "    (\"thank you\", \"고마워\"),\n",
    "    (\"i am sorry\", \"미안해\"),\n",
    "    (\"you are welcome\", \"천만에\"),\n",
    "    (\"see you later\", \"나중에 봐\"),\n",
    "    \n",
    "    # 간단한 문장\n",
    "    (\"i am happy\", \"나는 행복해\"),\n",
    "    (\"you are kind\", \"너는 친절해\"),\n",
    "    (\"this is good\", \"이것은 좋아\"),\n",
    "    (\"that is bad\", \"그것은 나빠\"),\n",
    "    (\"i like this\", \"나는 이것을 좋아해\"),\n",
    "    \n",
    "    # 질문\n",
    "    (\"what is this\", \"이것은 무엇\"),\n",
    "    (\"where are you\", \"너는 어디에\"),\n",
    "    (\"when do you come\", \"언제 와\"),\n",
    "    (\"why are you sad\", \"왜 슬퍼\"),\n",
    "    (\"who is that\", \"그것은 누구\"),\n",
    "    \n",
    "    # 더 많은 예제 (패턴 학습용)\n",
    "    (\"i eat food\", \"나는 음식을 먹어\"),\n",
    "    (\"you drink water\", \"너는 물을 마셔\"),\n",
    "    (\"we go home\", \"우리는 집에 가\"),\n",
    "    (\"they are friends\", \"그들은 친구야\"),\n",
    "    (\"he is teacher\", \"그는 선생님이야\"),\n",
    "    (\"she is student\", \"그녀는 학생이야\"),\n",
    "    (\"today is monday\", \"오늘은 월요일\"),\n",
    "    (\"tomorrow is tuesday\", \"내일은 화요일\"),\n",
    "    (\"i study english\", \"나는 영어를 공부해\"),\n",
    "    (\"you speak korean\", \"너는 한국어를 말해\"),\n",
    "] * 3  # 데이터 증강을 위해 3배 복사\n",
    "\n",
    "print(f\"💾 전체 번역 쌍: {len(translation_pairs)}개\")\n",
    "print(\"📝 샘플 데이터:\")\n",
    "for i in range(5):\n",
    "    eng, kor = translation_pairs[i]\n",
    "    print(f\"   영어: '{eng}' → 한글: '{kor}'\")"
   ]
  },
  {
   "cell_type": "markdown",
   "id": "a99d109e-1351-4148-bd11-996d0c34adb4",
   "metadata": {},
   "source": [
    "#### 2. 텍스트 전처리 (아주 간단하게)"
   ]
  },
  {
   "cell_type": "code",
   "execution_count": 3,
   "id": "29aa680a-695f-4734-a5a6-e4d776067b45",
   "metadata": {},
   "outputs": [
    {
     "name": "stdout",
     "output_type": "stream",
     "text": [
      "\n",
      "🔧 텍스트 전처리\n",
      "=========================\n",
      "✅ 전처리 완료: 90개 문장 쌍\n",
      "🔍 전처리 결과:\n",
      "   영어: 'hello' → 한글: '안녕'\n",
      "   영어: 'good morning' → 한글: '좋은 아침'\n",
      "   영어: 'good night' → 한글: '좋은 밤'\n"
     ]
    }
   ],
   "source": [
    "print(\"\\n🔧 텍스트 전처리\")\n",
    "print(\"=\" * 25)\n",
    "\n",
    "# 영어 전처리 (소문자화, 특수기호 제거)\n",
    "def preprocess_english(text):\n",
    "    # 소문자로 변환\n",
    "    text = text.lower()\n",
    "    # 알파벳과 공백만 남기기\n",
    "    text = re.sub(r'[^a-z\\s]', '', text)\n",
    "    # 연속된 공백 제거\n",
    "    text = re.sub(r'\\s+', ' ', text).strip()\n",
    "    return text\n",
    "\n",
    "# 한글 전처리 (간단하게)\n",
    "def preprocess_korean(text):\n",
    "    # 한글과 공백만 남기기\n",
    "    text = re.sub(r'[^가-힣\\s]', '', text)\n",
    "    # 연속된 공백 제거\n",
    "    text = re.sub(r'\\s+', ' ', text).strip()\n",
    "    return text\n",
    "\n",
    "# 전처리 적용\n",
    "preprocessed_pairs = []\n",
    "for eng, kor in translation_pairs:\n",
    "    eng_clean = preprocess_english(eng)\n",
    "    kor_clean = preprocess_korean(kor)\n",
    "    if eng_clean and kor_clean:  # 빈 문자열이 아닌 경우만\n",
    "        preprocessed_pairs.append((eng_clean, kor_clean))\n",
    "\n",
    "print(f\"✅ 전처리 완료: {len(preprocessed_pairs)}개 문장 쌍\")\n",
    "print(\"🔍 전처리 결과:\")\n",
    "for i in range(3):\n",
    "    eng, kor = preprocessed_pairs[i]\n",
    "    print(f\"   영어: '{eng}' → 한글: '{kor}'\")"
   ]
  },
  {
   "cell_type": "markdown",
   "id": "71ddc5b1-d41a-4d4f-a805-e69862cc2b29",
   "metadata": {},
   "source": [
    "#### 3. 어휘집(Vocabulary) 구축"
   ]
  },
  {
   "cell_type": "code",
   "execution_count": 4,
   "id": "58935284-e192-4b57-964b-f70459dbafeb",
   "metadata": {},
   "outputs": [
    {
     "name": "stdout",
     "output_type": "stream",
     "text": [
      "🔤 특수 토큰:\n",
      "   <SOS>: 문장 시작을 알리는 토큰\n",
      "   <EOS>: 문장 끝을 알리는 토큰\n",
      "   <PAD>: 길이를 맞추기 위한 패딩\n",
      "   <UNK>: 모르는 단어\n"
     ]
    }
   ],
   "source": [
    "# 특수 토큰 정의\n",
    "SOS_TOKEN = '<SOS>'  # Start of Sequence (문장 시작)\n",
    "EOS_TOKEN = '<EOS>'  # End of Sequence (문장 끝)  \n",
    "PAD_TOKEN = '<PAD>'  # Padding (빈 공간 채우기)\n",
    "UNK_TOKEN = '<UNK>'  # Unknown (모르는 단어)\n",
    "\n",
    "print(\"🔤 특수 토큰:\")\n",
    "print(f\"   {SOS_TOKEN}: 문장 시작을 알리는 토큰\")\n",
    "print(f\"   {EOS_TOKEN}: 문장 끝을 알리는 토큰\")\n",
    "print(f\"   {PAD_TOKEN}: 길이를 맞추기 위한 패딩\")\n",
    "print(f\"   {UNK_TOKEN}: 모르는 단어\")"
   ]
  },
  {
   "cell_type": "code",
   "execution_count": 5,
   "id": "75d02984-c0a5-40e3-b28a-9b4038de939b",
   "metadata": {},
   "outputs": [
    {
     "name": "stdout",
     "output_type": "stream",
     "text": [
      "\n",
      "🔤 영어 단어 종류: 54개\n",
      "📊 가장 자주 나오는 영어 단어:\n",
      "   'you': 36번\n",
      "   'is': 24번\n",
      "   'are': 18번\n",
      "   'i': 18번\n",
      "   'good': 9번\n",
      "   'this': 9번\n",
      "   'am': 6번\n",
      "   'that': 6번\n",
      "   'hello': 3번\n",
      "   'morning': 3번\n"
     ]
    }
   ],
   "source": [
    "# 영어 어휘집 만들기\n",
    "english_words = []\n",
    "for eng, _ in preprocessed_pairs:\n",
    "    english_words.extend(eng.split())\n",
    "\n",
    "english_word_counts = Counter(english_words)\n",
    "print(f\"\\n🔤 영어 단어 종류: {len(english_word_counts)}개\")\n",
    "print(\"📊 가장 자주 나오는 영어 단어:\")\n",
    "for word, count in english_word_counts.most_common(10):\n",
    "    print(f\"   '{word}': {count}번\")"
   ]
  },
  {
   "cell_type": "code",
   "execution_count": 6,
   "id": "5601942d-6fae-4f80-96cb-fc2a108b09c1",
   "metadata": {},
   "outputs": [
    {
     "name": "stdout",
     "output_type": "stream",
     "text": [
      "✅ 영어 어휘집 크기: 58\n"
     ]
    }
   ],
   "source": [
    "# 영어 단어 → 숫자 매핑\n",
    "eng_word2idx = {PAD_TOKEN: 0, UNK_TOKEN: 1, SOS_TOKEN: 2, EOS_TOKEN: 3}\n",
    "eng_idx2word = {0: PAD_TOKEN, 1: UNK_TOKEN, 2: SOS_TOKEN, 3: EOS_TOKEN}\n",
    "\n",
    "idx = 4\n",
    "for word in english_word_counts:\n",
    "    eng_word2idx[word] = idx\n",
    "    eng_idx2word[idx] = word\n",
    "    idx += 1\n",
    "\n",
    "eng_vocab_size = len(eng_word2idx)\n",
    "print(f\"✅ 영어 어휘집 크기: {eng_vocab_size}\")"
   ]
  },
  {
   "cell_type": "code",
   "execution_count": 7,
   "id": "43b39640-b732-45ae-9ee8-913c9186598b",
   "metadata": {},
   "outputs": [
    {
     "name": "stdout",
     "output_type": "stream",
     "text": [
      "\n",
      "🔤 한글 단어 종류: 53개\n",
      "📊 가장 자주 나오는 한글 단어:\n",
      "   '나는': 15번\n",
      "   '너는': 12번\n",
      "   '좋은': 6번\n",
      "   '이것은': 6번\n",
      "   '그것은': 6번\n",
      "   '안녕': 3번\n",
      "   '아침': 3번\n",
      "   '밤': 3번\n",
      "   '어떻게': 3번\n",
      "   '지내': 3번\n"
     ]
    }
   ],
   "source": [
    "# 한글 어휘집 만들기\n",
    "korean_words = []\n",
    "for _, kor in preprocessed_pairs:\n",
    "    korean_words.extend(kor.split())\n",
    "\n",
    "korean_word_counts = Counter(korean_words)\n",
    "print(f\"\\n🔤 한글 단어 종류: {len(korean_word_counts)}개\")\n",
    "print(\"📊 가장 자주 나오는 한글 단어:\")\n",
    "for word, count in korean_word_counts.most_common(10):\n",
    "    print(f\"   '{word}': {count}번\")"
   ]
  },
  {
   "cell_type": "code",
   "execution_count": 8,
   "id": "cefe41ca-4e7f-45bb-aa35-44362125d48a",
   "metadata": {},
   "outputs": [
    {
     "name": "stdout",
     "output_type": "stream",
     "text": [
      "✅ 한글 어휘집 크기: 57\n"
     ]
    }
   ],
   "source": [
    "# 한글 단어 → 숫자 매핑\n",
    "kor_word2idx = {PAD_TOKEN: 0, UNK_TOKEN: 1, SOS_TOKEN: 2, EOS_TOKEN: 3}\n",
    "kor_idx2word = {0: PAD_TOKEN, 1: UNK_TOKEN, 2: SOS_TOKEN, 3: EOS_TOKEN}\n",
    "\n",
    "idx = 4\n",
    "for word in korean_word_counts:\n",
    "    kor_word2idx[word] = idx\n",
    "    kor_idx2word[idx] = word\n",
    "    idx += 1\n",
    "\n",
    "kor_vocab_size = len(kor_word2idx)\n",
    "print(f\"✅ 한글 어휘집 크기: {kor_vocab_size}\")"
   ]
  },
  {
   "cell_type": "markdown",
   "id": "98e3e763-358d-4f0c-bbdc-5c0e158f52c2",
   "metadata": {},
   "source": [
    "#### 4. 문장을 숫자 시퀀스로 변환"
   ]
  },
  {
   "cell_type": "code",
   "execution_count": 9,
   "id": "6c1e12d5-b53a-4acc-a98c-d52d59a40861",
   "metadata": {},
   "outputs": [
    {
     "name": "stdout",
     "output_type": "stream",
     "text": [
      "🔍 변환 예시:\n",
      "   영어: 'hello' → [4, 3]\n",
      "   한글: '안녕' → [2, 4, 3]\n",
      "\n",
      "🔍 숫자의 의미:\n",
      "   영어 4 → 'hello'\n",
      "   영어 3 → '<EOS>'\n",
      "\n",
      "   한글 2 → '<SOS>'\n",
      "   한글 4 → '안녕'\n",
      "   한글 3 → '<EOS>'\n"
     ]
    }
   ],
   "source": [
    "# 영어 문장을 숫자로 변환\n",
    "def english_to_sequence(sentence):\n",
    "    words = sentence.split()\n",
    "    sequence = [eng_word2idx.get(word, 1) for word in words]  # 1 = UNK\n",
    "    sequence.append(3)  # EOS 토큰 추가 (3 = EOS)\n",
    "    return sequence\n",
    "\n",
    "# 한글 문장을 숫자로 변환 (SOS 토큰 포함)\n",
    "def korean_to_sequence(sentence):\n",
    "    words = sentence.split()\n",
    "    sequence = [2]  # SOS 토큰으로 시작 (2 = SOS)\n",
    "    sequence.extend([kor_word2idx.get(word, 1) for word in words])  # 1 = UNK\n",
    "    sequence.append(3)  # EOS 토큰 추가 (3 = EOS)\n",
    "    return sequence\n",
    "\n",
    "# 변환 예시\n",
    "sample_eng, sample_kor = preprocessed_pairs[0]\n",
    "eng_seq = english_to_sequence(sample_eng)\n",
    "kor_seq = korean_to_sequence(sample_kor)\n",
    "\n",
    "print(\"🔍 변환 예시:\")\n",
    "print(f\"   영어: '{sample_eng}' → {eng_seq}\")\n",
    "print(f\"   한글: '{sample_kor}' → {kor_seq}\")\n",
    "print()\n",
    "print(\"🔍 숫자의 의미:\")\n",
    "for i, num in enumerate(eng_seq):\n",
    "    word = eng_idx2word[num]\n",
    "    print(f\"   영어 {num} → '{word}'\")\n",
    "print()\n",
    "for i, num in enumerate(kor_seq):\n",
    "    word = kor_idx2word[num]\n",
    "    print(f\"   한글 {num} → '{word}'\")"
   ]
  },
  {
   "cell_type": "code",
   "execution_count": 10,
   "id": "30d99d76-43e7-4629-91b9-20898212f1e0",
   "metadata": {},
   "outputs": [
    {
     "name": "stdout",
     "output_type": "stream",
     "text": [
      "총 90개 문장 쌍을 숫자로 변환 완료\n"
     ]
    }
   ],
   "source": [
    "# 모든 문장 쌍을 숫자로 변환\n",
    "input_sequences = []  # 영어 (Encoder 입력)\n",
    "target_sequences = []  # 한글 (Decoder 타겟)\n",
    "\n",
    "for eng, kor in preprocessed_pairs:\n",
    "    eng_seq = english_to_sequence(eng)\n",
    "    kor_seq = korean_to_sequence(kor)\n",
    "    \n",
    "    input_sequences.append(eng_seq)\n",
    "    target_sequences.append(kor_seq)\n",
    "\n",
    "print(f\"총 {len(input_sequences)}개 문장 쌍을 숫자로 변환 완료\")"
   ]
  },
  {
   "cell_type": "markdown",
   "id": "79bc1316-6f52-41f2-80a3-7460767f5595",
   "metadata": {},
   "source": [
    "#### 5. 패딩 (길이 맞추기)"
   ]
  },
  {
   "cell_type": "code",
   "execution_count": 11,
   "id": "5cbe800f-d425-4db1-8bc7-ef668f18c5a3",
   "metadata": {},
   "outputs": [
    {
     "name": "stdout",
     "output_type": "stream",
     "text": [
      "📊 영어 문장 최대 길이: 5\n",
      "📊 한글 문장 최대 길이: 5\n"
     ]
    }
   ],
   "source": [
    "# 최대 길이 계산\n",
    "max_eng_len = max(len(seq) for seq in input_sequences)\n",
    "max_kor_len = max(len(seq) for seq in target_sequences)\n",
    "\n",
    "print(f\"📊 영어 문장 최대 길이: {max_eng_len}\")\n",
    "print(f\"📊 한글 문장 최대 길이: {max_kor_len}\")"
   ]
  },
  {
   "cell_type": "code",
   "execution_count": 12,
   "id": "aea78bf9-7dfd-4beb-89b7-9ee5fc026e25",
   "metadata": {},
   "outputs": [
    {
     "name": "stdout",
     "output_type": "stream",
     "text": [
      "🔍 패딩 예시 (첫 번째 문장):\n",
      "   영어 원본: [4, 3]\n",
      "   영어 패딩: [4, 3, 0, 0, 0]\n",
      "   한글 원본: [2, 4, 3]\n",
      "   한글 패딩: [2, 4, 3, 0, 0]\n",
      "\n",
      "✅ 패딩 완료! 모든 영어 문장: 5자리, 한글 문장: 5자리\n"
     ]
    }
   ],
   "source": [
    "# 패딩 적용 (짧은 문장에 0을 추가하여 길이 맞추기)\n",
    "def pad_sequence(sequence, max_length):\n",
    "    if len(sequence) >= max_length:\n",
    "        return sequence[:max_length]  # 너무 길면 자르기\n",
    "    else:\n",
    "        return sequence + [0] * (max_length - len(sequence))  # 0으로 패딩\n",
    "\n",
    "# 모든 시퀀스에 패딩 적용\n",
    "padded_input_sequences = []\n",
    "padded_target_sequences = []\n",
    "\n",
    "for seq in input_sequences:\n",
    "    padded_input_sequences.append(pad_sequence(seq, max_eng_len))\n",
    "\n",
    "for seq in target_sequences:\n",
    "    padded_target_sequences.append(pad_sequence(seq, max_kor_len))\n",
    "\n",
    "print(\"🔍 패딩 예시 (첫 번째 문장):\")\n",
    "print(f\"   영어 원본: {input_sequences[0]}\")\n",
    "print(f\"   영어 패딩: {padded_input_sequences[0]}\")\n",
    "print(f\"   한글 원본: {target_sequences[0]}\")\n",
    "print(f\"   한글 패딩: {padded_target_sequences[0]}\")\n",
    "\n",
    "print(f\"\\n✅ 패딩 완료! 모든 영어 문장: {max_eng_len}자리, 한글 문장: {max_kor_len}자리\")"
   ]
  },
  {
   "cell_type": "markdown",
   "id": "b7273dcc-e1d4-41d7-abc0-6c0a3514d1d6",
   "metadata": {},
   "source": [
    "#### 6. PyTorch 데이터셋 만들기"
   ]
  },
  {
   "cell_type": "code",
   "execution_count": 13,
   "id": "2b5c3e23-10a1-44d7-9975-0eb1dd9ad77c",
   "metadata": {},
   "outputs": [
    {
     "name": "stdout",
     "output_type": "stream",
     "text": [
      "📊 입력 텐서 크기: torch.Size([90, 5])\n",
      "📊 타겟 텐서 크기: torch.Size([90, 5])\n",
      "   → 90개 문장, 영어 최대 5단어\n",
      "   → 90개 문장, 한글 최대 5단어\n"
     ]
    }
   ],
   "source": [
    "# 리스트를 PyTorch 텐서로 변환\n",
    "input_tensor = torch.tensor(padded_input_sequences, dtype=torch.long)\n",
    "target_tensor = torch.tensor(padded_target_sequences, dtype=torch.long)\n",
    "\n",
    "print(f\"📊 입력 텐서 크기: {input_tensor.shape}\")\n",
    "print(f\"📊 타겟 텐서 크기: {target_tensor.shape}\")\n",
    "print(f\"   → {input_tensor.shape[0]}개 문장, 영어 최대 {input_tensor.shape[1]}단어\")\n",
    "print(f\"   → {target_tensor.shape[0]}개 문장, 한글 최대 {target_tensor.shape[1]}단어\")"
   ]
  },
  {
   "cell_type": "code",
   "execution_count": 14,
   "id": "9e900935-a2d0-4ada-9767-5d0c4af7fffc",
   "metadata": {},
   "outputs": [
    {
     "name": "stdout",
     "output_type": "stream",
     "text": [
      "🔨 훈련 데이터: 72개\n",
      "🔨 테스트 데이터: 18개\n",
      "✅ 배치 크기: 8\n"
     ]
    }
   ],
   "source": [
    "# 데이터셋 클래스 정의\n",
    "class TranslationDataset(Dataset):\n",
    "    def __init__(self, input_tensor, target_tensor):\n",
    "        self.input_tensor = input_tensor\n",
    "        self.target_tensor = target_tensor\n",
    "    \n",
    "    def __len__(self):\n",
    "        return len(self.input_tensor)\n",
    "    \n",
    "    def __getitem__(self, idx):\n",
    "        return self.input_tensor[idx], self.target_tensor[idx]\n",
    "\n",
    "# 훈련/테스트 데이터 분할\n",
    "train_size = int(0.8 * len(input_tensor))\n",
    "test_size = len(input_tensor) - train_size\n",
    "\n",
    "train_input = input_tensor[:train_size]\n",
    "train_target = target_tensor[:train_size]\n",
    "test_input = input_tensor[train_size:]\n",
    "test_target = target_tensor[train_size:]\n",
    "\n",
    "train_dataset = TranslationDataset(train_input, train_target)\n",
    "test_dataset = TranslationDataset(test_input, test_target)\n",
    "\n",
    "print(f\"🔨 훈련 데이터: {len(train_dataset)}개\")\n",
    "print(f\"🔨 테스트 데이터: {len(test_dataset)}개\")\n",
    "\n",
    "# 데이터로더 생성\n",
    "batch_size = 8  # 작은 배치 크기 (초심자용)\n",
    "train_loader = DataLoader(train_dataset, batch_size=batch_size, shuffle=True)\n",
    "test_loader = DataLoader(test_dataset, batch_size=batch_size, shuffle=False)\n",
    "\n",
    "print(f\"✅ 배치 크기: {batch_size}\")"
   ]
  },
  {
   "cell_type": "markdown",
   "id": "02a721b8-7cd1-4158-bda6-8127bbd45c1c",
   "metadata": {},
   "source": [
    "#### 7. Seq2Seq 모델 구조\n",
    "\n",
    "Seq2Seq = Encoder + Decoder\n",
    "- Encoder: 영어 문장을 고정 크기 벡터로 압축\n",
    "- Decoder: 압축된 벡터에서 한글 문장을 생성"
   ]
  },
  {
   "cell_type": "code",
   "execution_count": 15,
   "id": "16876566-1a04-4670-ad70-84cffc5395a1",
   "metadata": {},
   "outputs": [],
   "source": [
    "# 1단계: Encoder 정의\n",
    "class Encoder(nn.Module):\n",
    "    \"\"\"\n",
    "    입력: 영어 문장\n",
    "    출력: 문장의 의미를 담은 벡터\n",
    "    \"\"\"\n",
    "    def __init__(self, vocab_size, embedding_dim, hidden_dim, num_layers=1):\n",
    "        super(Encoder, self).__init__()\n",
    "        \n",
    "        # 단어를 벡터로 변환하는 임베딩 레이어\n",
    "        self.embedding = nn.Embedding(vocab_size, embedding_dim, padding_idx=0)\n",
    "        \n",
    "        # LSTM으로 문장의 의미를 파악\n",
    "        self.lstm = nn.LSTM(embedding_dim, hidden_dim, num_layers, \n",
    "                           batch_first=True, bidirectional=False)\n",
    "        \n",
    "        self.hidden_dim = hidden_dim\n",
    "        self.num_layers = num_layers\n",
    "    \n",
    "    def forward(self, input_seq):\n",
    "        # 1. 입력 단어들을 벡터로 변환\n",
    "        embedded = self.embedding(input_seq)  # (배치, 시퀀스길이, 임베딩차원)\n",
    "        \n",
    "        # 2. LSTM으로 순차적으로 처리\n",
    "        output, (hidden, cell) = self.lstm(embedded)\n",
    "        \n",
    "        # 3. 마지막 은닉 상태가 문장의 의미를 담고 있음\n",
    "        return hidden, cell\n",
    "\n",
    "\n",
    "# 2단계: Decoder 정의  \n",
    "class Decoder(nn.Module):\n",
    "    \"\"\"\n",
    "    입력: 이전 단어 + 은닉상태\n",
    "    출력: 다음 단어 확률\n",
    "    \"\"\"\n",
    "    def __init__(self, vocab_size, embedding_dim, hidden_dim, num_layers=1):\n",
    "        super(Decoder, self).__init__()\n",
    "        \n",
    "        # 단어를 벡터로 변환하는 임베딩 레이어\n",
    "        self.embedding = nn.Embedding(vocab_size, embedding_dim, padding_idx=0)\n",
    "        \n",
    "        # LSTM으로 한 단어씩 생성\n",
    "        self.lstm = nn.LSTM(embedding_dim, hidden_dim, num_layers,\n",
    "                           batch_first=True, bidirectional=False)\n",
    "        \n",
    "        # 최종 단어 확률을 계산하는 레이어\n",
    "        self.output_projection = nn.Linear(hidden_dim, vocab_size)\n",
    "        \n",
    "        self.hidden_dim = hidden_dim\n",
    "        self.num_layers = num_layers\n",
    "    \n",
    "    def forward(self, input_token, hidden, cell):\n",
    "        # 1. 입력 토큰을 벡터로 변환\n",
    "        embedded = self.embedding(input_token)  # (배치, 1, 임베딩차원)\n",
    "        \n",
    "        # 2. LSTM으로 다음 단어 예측\n",
    "        output, (new_hidden, new_cell) = self.lstm(embedded, (hidden, cell))\n",
    "        \n",
    "        # 3. 단어 확률 계산\n",
    "        prediction = self.output_projection(output)  # (배치, 1, 어휘크기)\n",
    "        \n",
    "        return prediction, new_hidden, new_cell\n",
    "\n",
    "\n",
    "# 3단계: Seq2Seq 모델 (Encoder + Decoder)\n",
    "class Seq2Seq(nn.Module):\n",
    "    \"\"\"\n",
    "    입력: 영어 문장 → 출력: 한글 문장 확률\n",
    "    \"\"\"\n",
    "    def __init__(self, encoder, decoder, device):\n",
    "        super(Seq2Seq, self).__init__()\n",
    "        self.encoder = encoder\n",
    "        self.decoder = decoder\n",
    "        self.device = device\n",
    "    \n",
    "    def forward(self, src, trg, teacher_forcing_ratio=0.5):\n",
    "        \"\"\"\n",
    "        src: 영어 문장 (배치, 영어길이)\n",
    "        trg: 한글 문장 (배치, 한글길이)  \n",
    "        teacher_forcing_ratio: Teacher Forcing 비율\n",
    "        \"\"\"\n",
    "        batch_size = src.shape[0]\n",
    "        trg_len = trg.shape[1]\n",
    "        trg_vocab_size = self.decoder.output_projection.out_features\n",
    "        \n",
    "        # 출력을 저장할 텐서\n",
    "        outputs = torch.zeros(batch_size, trg_len, trg_vocab_size).to(self.device)\n",
    "        \n",
    "        # 1. Encoder로 영어 문장을 이해\n",
    "        hidden, cell = self.encoder(src)\n",
    "        \n",
    "        # 2. Decoder의 첫 입력은 <SOS> 토큰\n",
    "        input_token = trg[:, 0].unsqueeze(1)  # 첫 번째 토큰 (<SOS>)\n",
    "        \n",
    "        # 3. 한 단어씩 생성\n",
    "        for t in range(1, trg_len):\n",
    "            # Decoder로 다음 단어 예측\n",
    "            output, hidden, cell = self.decoder(input_token, hidden, cell)\n",
    "            outputs[:, t] = output.squeeze(1)\n",
    "            \n",
    "            # Teacher Forcing: 때로는 정답을 주고, 때로는 예측을 사용\n",
    "            teacher_force = random.random() < teacher_forcing_ratio\n",
    "            top1 = output.argmax(2)  # 가장 확률 높은 단어\n",
    "            \n",
    "            input_token = trg[:, t].unsqueeze(1) if teacher_force else top1\n",
    "        \n",
    "        return outputs"
   ]
  },
  {
   "cell_type": "markdown",
   "id": "9a394784-d8f0-4c47-ae24-88b28c32ebca",
   "metadata": {},
   "source": [
    "#### 8. 모델 초기화"
   ]
  },
  {
   "cell_type": "code",
   "execution_count": 16,
   "id": "4ed1a5c0-7940-4157-96cd-0a9880e5b3a2",
   "metadata": {},
   "outputs": [
    {
     "name": "stdout",
     "output_type": "stream",
     "text": [
      "🎛️ 하이퍼파라미터:\n",
      "   임베딩 차원: 64\n",
      "   은닉 차원: 128\n",
      "   LSTM 레이어: 1\n",
      "   학습률: 0.01\n"
     ]
    }
   ],
   "source": [
    "# 하이퍼파라미터 설정\n",
    "embedding_dim = 64    # 단어 벡터 크기 (작게 설정)\n",
    "hidden_dim = 128      # 은닉 상태 크기\n",
    "num_layers = 1        # LSTM 레이어 수 (단순하게)\n",
    "learning_rate = 0.01  # 학습률\n",
    "\n",
    "print(\"🎛️ 하이퍼파라미터:\")\n",
    "print(f\"   임베딩 차원: {embedding_dim}\")\n",
    "print(f\"   은닉 차원: {hidden_dim}\")\n",
    "print(f\"   LSTM 레이어: {num_layers}\")\n",
    "print(f\"   학습률: {learning_rate}\")"
   ]
  },
  {
   "cell_type": "code",
   "execution_count": 17,
   "id": "909ba748-d3b7-4895-b119-26fb3fa1aa20",
   "metadata": {},
   "outputs": [
    {
     "name": "stdout",
     "output_type": "stream",
     "text": [
      "🖥️ 사용 장치: cuda\n"
     ]
    }
   ],
   "source": [
    "# GPU 사용 여부 확인\n",
    "device = torch.device('cuda' if torch.cuda.is_available() else 'cpu')\n",
    "print(f\"🖥️ 사용 장치: {device}\")"
   ]
  },
  {
   "cell_type": "code",
   "execution_count": 18,
   "id": "dfc49dbf-271b-4489-82b2-552f268a468a",
   "metadata": {},
   "outputs": [
    {
     "name": "stdout",
     "output_type": "stream",
     "text": [
      "🤖 모델 파라미터 수: 213,369개\n",
      "✅ 모델 초기화 완료!\n"
     ]
    }
   ],
   "source": [
    "# Encoder, Decoder 생성\n",
    "encoder = Encoder(eng_vocab_size, embedding_dim, hidden_dim, num_layers)\n",
    "decoder = Decoder(kor_vocab_size, embedding_dim, hidden_dim, num_layers)\n",
    "\n",
    "# Seq2Seq 모델 생성\n",
    "model = Seq2Seq(encoder, decoder, device).to(device)\n",
    "\n",
    "# 모델 파라미터 수 계산\n",
    "total_params = sum(p.numel() for p in model.parameters())\n",
    "print(f\"🤖 모델 파라미터 수: {total_params:,}개\")\n",
    "\n",
    "# 손실 함수와 옵티마이저\n",
    "criterion = nn.CrossEntropyLoss(ignore_index=0)  # 패딩은 무시\n",
    "optimizer = optim.Adam(model.parameters(), lr=learning_rate)\n",
    "\n",
    "print(\"✅ 모델 초기화 완료!\")"
   ]
  },
  {
   "cell_type": "markdown",
   "id": "ab88e265-5765-4a11-b063-1078ee8c2be3",
   "metadata": {},
   "source": [
    "#### 9. 훈련 과정 (Teacher Forcing 설명 포함)\n",
    "\n",
    "Teacher Forcing이란?\n",
    "- 훈련 시에 정답을 일부러 알려주는 기법\n",
    "- 예: '나는' 다음에 '너를'이 올 확률을 높이기 위해 실제 정답 '너를'을 입력으로 사용"
   ]
  },
  {
   "cell_type": "code",
   "execution_count": 19,
   "id": "003d2f75-a6a7-4e1f-80ef-6257d91bef68",
   "metadata": {},
   "outputs": [
    {
     "name": "stdout",
     "output_type": "stream",
     "text": [
      "🎯 50 에포크 동안 훈련합니다...\n",
      "Epoch  5/50: Loss = 0.3342\n",
      "Epoch 10/50: Loss = 0.0149\n",
      "Epoch 15/50: Loss = 0.0046\n",
      "Epoch 20/50: Loss = 0.0028\n",
      "Epoch 25/50: Loss = 0.0020\n",
      "Epoch 30/50: Loss = 0.0015\n",
      "Epoch 35/50: Loss = 0.0012\n",
      "Epoch 40/50: Loss = 0.0009\n",
      "Epoch 45/50: Loss = 0.0008\n",
      "Epoch 50/50: Loss = 0.0007\n"
     ]
    }
   ],
   "source": [
    "# 훈련 기록을 위한 리스트\n",
    "train_losses = []\n",
    "epochs = 50  # 에포크 수 (적당히)\n",
    "\n",
    "print(f\"🎯 {epochs} 에포크 동안 훈련합니다...\")\n",
    "\n",
    "for epoch in range(epochs):\n",
    "    model.train()\n",
    "    epoch_loss = 0\n",
    "    \n",
    "    # 배치별로 훈련\n",
    "    for batch_idx, (input_batch, target_batch) in enumerate(train_loader):\n",
    "        input_batch = input_batch.to(device)\n",
    "        target_batch = target_batch.to(device)\n",
    "        \n",
    "        # 1. 그래디언트 초기화\n",
    "        optimizer.zero_grad()\n",
    "        \n",
    "        # 2. 모델 예측 (Teacher Forcing 비율 70%)\n",
    "        output = model(input_batch, target_batch, teacher_forcing_ratio=0.7)\n",
    "        \n",
    "        # 3. 손실 계산 (첫 번째 토큰 <SOS>는 제외)\n",
    "        output_dim = output.shape[-1]\n",
    "        output = output[:, 1:].reshape(-1, output_dim)\n",
    "        target = target_batch[:, 1:].reshape(-1)\n",
    "        \n",
    "        loss = criterion(output, target)\n",
    "        \n",
    "        # 4. 역전파 및 가중치 업데이트\n",
    "        loss.backward()\n",
    "        optimizer.step()\n",
    "        \n",
    "        epoch_loss += loss.item()\n",
    "    \n",
    "    # 에포크 평균 손실\n",
    "    avg_loss = epoch_loss / len(train_loader)\n",
    "    train_losses.append(avg_loss)\n",
    "    \n",
    "    # 진행 상황 출력 (5 에포크마다)\n",
    "    if (epoch + 1) % 5 == 0:\n",
    "        print(f\"Epoch {epoch+1:2d}/{epochs}: Loss = {avg_loss:.4f}\")"
   ]
  },
  {
   "cell_type": "code",
   "execution_count": 20,
   "id": "6d1cf2ed-44db-4448-9666-0c8d42bcfb8a",
   "metadata": {},
   "outputs": [
    {
     "data": {
      "image/png": "[encoded data removed]",
      "text/plain": [
       "<Figure size 1000x600 with 1 Axes>"
      ]
     },
     "metadata": {},
     "output_type": "display_data"
    }
   ],
   "source": [
    "# 훈련 손실 그래프\n",
    "plt.figure(figsize=(10, 6))\n",
    "plt.plot(train_losses, linewidth=2)\n",
    "plt.title('Seq2Seq model train loss', fontsize=14, fontweight='bold')\n",
    "plt.xlabel('Epoch')\n",
    "plt.ylabel('Loss')\n",
    "plt.grid(True, alpha=0.3)\n",
    "plt.show()"
   ]
  },
  {
   "cell_type": "markdown",
   "id": "411e6542-a72a-4413-b409-baaa7b8d2284",
   "metadata": {},
   "source": [
    "#### 10. 번역 함수 (추론 과정)\n",
    "\n",
    "추론 과정과 훈련 과정의 차이:\n",
    "- 훈련: Teacher Forcing으로 정답을 알려줌\n",
    "- 추론: 이전 예측을 다음 입력으로 사용 (실제 번역)"
   ]
  },
  {
   "cell_type": "code",
   "execution_count": 21,
   "id": "012906eb-5247-4857-b5f6-22c58862f465",
   "metadata": {},
   "outputs": [
    {
     "name": "stdout",
     "output_type": "stream",
     "text": [
      "✅ 번역 함수 구현 완료!\n"
     ]
    }
   ],
   "source": [
    "def translate_sentence(sentence, model, max_length=20):\n",
    "    \"\"\"영어 문장을 한글로 번역하는 함수\"\"\"\n",
    "    model.eval()  # 평가 모드\n",
    "    \n",
    "    with torch.no_grad():  # 그래디언트 계산 안함 (추론 모드)\n",
    "        # 1. 입력 문장 전처리\n",
    "        sentence = preprocess_english(sentence)\n",
    "        tokens = sentence.split()\n",
    "        \n",
    "        # 2. 숫자 시퀀스로 변환\n",
    "        sequence = [eng_word2idx.get(token, 1) for token in tokens]  # 1 = UNK\n",
    "        sequence.append(3)  # EOS 토큰 추가\n",
    "        \n",
    "        # 3. 패딩 적용\n",
    "        sequence = pad_sequence(sequence, max_eng_len)\n",
    "        \n",
    "        # 4. 텐서로 변환 (배치 차원 추가)\n",
    "        src_tensor = torch.tensor([sequence], dtype=torch.long).to(device)\n",
    "        \n",
    "        # 5. Encoder로 영어 문장 이해\n",
    "        hidden, cell = model.encoder(src_tensor)\n",
    "        \n",
    "        # 6. Decoder로 한글 문장 생성\n",
    "        outputs = []\n",
    "        input_token = torch.tensor([[2]], dtype=torch.long).to(device)  # SOS 토큰\n",
    "        \n",
    "        for _ in range(max_length):\n",
    "            output, hidden, cell = model.decoder(input_token, hidden, cell)\n",
    "            predicted_token = output.argmax(dim=-1)\n",
    "            \n",
    "            # EOS 토큰이면 종료\n",
    "            if predicted_token.item() == 3:  # 3 = EOS\n",
    "                break\n",
    "            \n",
    "            outputs.append(predicted_token.item())\n",
    "            input_token = predicted_token\n",
    "        \n",
    "        # 7. 숫자를 한글 단어로 변환\n",
    "        korean_words = []\n",
    "        for token_id in outputs:\n",
    "            if token_id in kor_idx2word and token_id not in [0, 1, 2, 3]:  # 특수토큰 제외\n",
    "                korean_words.append(kor_idx2word[token_id])\n",
    "        \n",
    "        return ' '.join(korean_words) if korean_words else \"번역 실패\"\n",
    "\n",
    "print(\"✅ 번역 함수 구현 완료!\")"
   ]
  },
  {
   "cell_type": "markdown",
   "id": "fb64c544-5e93-4b71-bee9-28498760aded",
   "metadata": {},
   "source": [
    "#### 11. 번역 테스트"
   ]
  },
  {
   "cell_type": "code",
   "execution_count": 22,
   "id": "ba0b045b-066a-4987-afc9-3a3c9f222747",
   "metadata": {},
   "outputs": [
    {
     "name": "stdout",
     "output_type": "stream",
     "text": [
      "🔍 번역 결과:\n",
      "영어: 'hello'\n",
      "번역: '안녕'\n",
      "정답: '안녕'\n",
      "--------------------------------------------------\n",
      "영어: 'thank you'\n",
      "번역: '고마워'\n",
      "정답: '고마워'\n",
      "--------------------------------------------------\n",
      "영어: 'i love you'\n",
      "번역: '나는 너를 사랑해'\n",
      "정답: '나는 너를 사랑해'\n",
      "--------------------------------------------------\n",
      "영어: 'how are you'\n",
      "번역: '어떻게 지내'\n",
      "정답: '어떻게 지내'\n",
      "--------------------------------------------------\n",
      "영어: 'good morning'\n",
      "번역: '좋은 아침'\n",
      "정답: '좋은 아침'\n",
      "--------------------------------------------------\n",
      "영어: 'i am happy'\n",
      "번역: '나는 행복해'\n",
      "정답: '나는 행복해'\n",
      "--------------------------------------------------\n",
      "영어: 'you are kind'\n",
      "번역: '너는 친절해'\n",
      "정답: '너는 친절해'\n",
      "--------------------------------------------------\n",
      "영어: 'what is this'\n",
      "번역: '이것은 무엇'\n",
      "정답: '이것은 무엇'\n",
      "--------------------------------------------------\n",
      "영어: 'see you later'\n",
      "번역: '나중에 봐'\n",
      "정답: '나중에 봐'\n",
      "--------------------------------------------------\n",
      "영어: 'nice to meet you'\n",
      "번역: '만나서 반가워'\n",
      "정답: '만나서 반가워'\n",
      "--------------------------------------------------\n"
     ]
    }
   ],
   "source": [
    "# 테스트 문장들\n",
    "test_sentences = [\n",
    "    \"hello\",\n",
    "    \"thank you\", \n",
    "    \"i love you\",\n",
    "    \"how are you\",\n",
    "    \"good morning\",\n",
    "    \"i am happy\",\n",
    "    \"you are kind\",\n",
    "    \"what is this\",\n",
    "    \"see you later\",\n",
    "    \"nice to meet you\"\n",
    "]\n",
    "\n",
    "print(\"🔍 번역 결과:\")\n",
    "\n",
    "for eng_sentence in test_sentences:\n",
    "    korean_result = translate_sentence(eng_sentence, model)\n",
    "    print(f\"영어: '{eng_sentence}'\")\n",
    "    print(f\"번역: '{korean_result}'\")\n",
    "    \n",
    "    # 정답 찾기 (훈련 데이터에서)\n",
    "    correct_answer = \"정답 없음\"\n",
    "    for train_eng, train_kor in preprocessed_pairs:\n",
    "        if train_eng == preprocess_english(eng_sentence):\n",
    "            correct_answer = train_kor\n",
    "            break\n",
    "    \n",
    "    print(f\"정답: '{correct_answer}'\")\n",
    "    print(\"-\" * 50)"
   ]
  },
  {
   "cell_type": "markdown",
   "id": "7e46ba2c-64b8-416d-8148-c3f0f80365d4",
   "metadata": {},
   "source": [
    "#### 12. 새로운 문장 번역 테스트\n",
    "\n",
    "훈련 데이터에 없는 새로운 문장들로 테스트해보겠습니다:"
   ]
  },
  {
   "cell_type": "code",
   "execution_count": 23,
   "id": "f72a6113-8988-45bd-951a-c6f7c27dc467",
   "metadata": {},
   "outputs": [
    {
     "name": "stdout",
     "output_type": "stream",
     "text": [
      "🔍 새로운 문장 번역 결과:\n",
      "----------------------------------------\n",
      "입력: 'hello you' → 번역: '고마워'\n",
      "입력: 'i am good' → 번역: '나는 행복해'\n",
      "입력: 'thank you very' → 번역: '고마워'\n",
      "입력: 'you love me' → 번역: '나는 너를 사랑해'\n",
      "입력: 'good you are' → 번역: '너는 친절해'\n"
     ]
    }
   ],
   "source": [
    "new_test_sentences = [\n",
    "    \"hello you\",          # \"안녕\" + \"너는\" = ?\n",
    "    \"i am good\",          # \"나는\" + \"좋아\" = ?\n",
    "    \"thank you very\",     # 일부만 알고 있는 경우\n",
    "    \"you love me\",        # 단어 순서가 다른 경우\n",
    "    \"good you are\"        # 문법이 다른 경우\n",
    "]\n",
    "\n",
    "print(\"🔍 새로운 문장 번역 결과:\")\n",
    "print(\"-\" * 40)\n",
    "\n",
    "for sentence in new_test_sentences:\n",
    "    result = translate_sentence(sentence, model)\n",
    "    print(f\"입력: '{sentence}' → 번역: '{result}'\")"
   ]
  },
  {
   "cell_type": "markdown",
   "id": "886913ce-6307-4ed6-a398-7519dd8e7c2d",
   "metadata": {},
   "source": [
    "#### 14. 모델 성능 분석"
   ]
  },
  {
   "cell_type": "code",
   "execution_count": 24,
   "id": "fbb32689-d0c0-4144-ae37-71d12bc35c5c",
   "metadata": {},
   "outputs": [
    {
     "name": "stdout",
     "output_type": "stream",
     "text": [
      "🎯 번역 정확도: 100.0% (10/10)\n"
     ]
    }
   ],
   "source": [
    "# 정확도 계산 (완전 일치)\n",
    "correct_translations = 0\n",
    "total_tests = len(test_sentences)\n",
    "\n",
    "for eng_sentence in test_sentences:\n",
    "    predicted = translate_sentence(eng_sentence, model)\n",
    "    \n",
    "    # 정답 찾기\n",
    "    for train_eng, train_kor in preprocessed_pairs:\n",
    "        if train_eng == preprocess_english(eng_sentence):\n",
    "            if predicted.strip() == train_kor.strip():\n",
    "                correct_translations += 1\n",
    "            break\n",
    "\n",
    "accuracy = correct_translations / total_tests * 100\n",
    "print(f\"🎯 번역 정확도: {accuracy:.1f}% ({correct_translations}/{total_tests})\")"
   ]
  },
  {
   "cell_type": "code",
   "execution_count": 25,
   "id": "960852f3-3184-46fd-bcb1-4676cb9f2276",
   "metadata": {},
   "outputs": [
    {
     "name": "stdout",
     "output_type": "stream",
     "text": [
      "🔤 단어별 정확도: 100.0% (19/19)\n"
     ]
    }
   ],
   "source": [
    "# 단어별 정확도 계산\n",
    "word_correct = 0\n",
    "word_total = 0\n",
    "\n",
    "for eng_sentence in test_sentences:\n",
    "    predicted = translate_sentence(eng_sentence, model)\n",
    "    predicted_words = predicted.split()\n",
    "    \n",
    "    # 정답 찾기\n",
    "    for train_eng, train_kor in preprocessed_pairs:\n",
    "        if train_eng == preprocess_english(eng_sentence):\n",
    "            correct_words = train_kor.split()\n",
    "            \n",
    "            # 단어별 비교\n",
    "            min_len = min(len(predicted_words), len(correct_words))\n",
    "            for i in range(min_len):\n",
    "                word_total += 1\n",
    "                if predicted_words[i] == correct_words[i]:\n",
    "                    word_correct += 1\n",
    "            break\n",
    "\n",
    "word_accuracy = word_correct / word_total * 100 if word_total > 0 else 0\n",
    "print(f\"🔤 단어별 정확도: {word_accuracy:.1f}% ({word_correct}/{word_total})\")"
   ]
  }
 ],
 "metadata": {
  "kernelspec": {
   "display_name": "AI Course (Python 3.9)",
   "language": "python",
   "name": "ai_course"
  },
  "language_info": {
   "codemirror_mode": {
    "name": "ipython",
    "version": 3
   },
   "file_extension": ".py",
   "mimetype": "text/x-python",
   "name": "python",
   "nbconvert_exporter": "python",
   "pygments_lexer": "ipython3",
   "version": "3.9.23"
  }
 },
 "nbformat": 4,
 "nbformat_minor": 5
}
